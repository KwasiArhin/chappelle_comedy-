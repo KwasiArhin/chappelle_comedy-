{
 "cells": [
  {
   "cell_type": "code",
   "execution_count": 1,
   "metadata": {},
   "outputs": [
    {
     "data": {
      "application/javascript": [
       "\n",
       "            setTimeout(function() {\n",
       "                var nbb_cell_id = 1;\n",
       "                var nbb_unformatted_code = \"%load_ext nb_black\";\n",
       "                var nbb_formatted_code = \"%load_ext nb_black\";\n",
       "                var nbb_cells = Jupyter.notebook.get_cells();\n",
       "                for (var i = 0; i < nbb_cells.length; ++i) {\n",
       "                    if (nbb_cells[i].input_prompt_number == nbb_cell_id) {\n",
       "                        if (nbb_cells[i].get_text() == nbb_unformatted_code) {\n",
       "                             nbb_cells[i].set_text(nbb_formatted_code);\n",
       "                        }\n",
       "                        break;\n",
       "                    }\n",
       "                }\n",
       "            }, 500);\n",
       "            "
      ],
      "text/plain": [
       "<IPython.core.display.Javascript object>"
      ]
     },
     "metadata": {},
     "output_type": "display_data"
    }
   ],
   "source": [
    "%load_ext nb_black"
   ]
  },
  {
   "cell_type": "markdown",
   "metadata": {
    "collapsed": true
   },
   "source": [
    "# Exploratory Data Analysis"
   ]
  },
  {
   "cell_type": "markdown",
   "metadata": {},
   "source": [
    "## Introduction"
   ]
  },
  {
   "cell_type": "markdown",
   "metadata": {},
   "source": [
    "After the data cleaning step where we put our data into a few standard formats, the next step is to take a look at the data and see if what we're looking at makes sense. Before applying any fancy algorithms, it's always important to explore the data first.\n",
    "\n",
    "When working with numerical data, some of the exploratory data analysis (EDA) techniques we can use include finding the average of the data set, the distribution of the data, the most common values, etc. The idea is the same when working with text data. We are going to find some more obvious patterns with EDA before identifying the hidden patterns with machines learning (ML) techniques. We are going to look at the following for each comedian:\n",
    "\n",
    "1. **Most common words** - find these and create word clouds\n",
    "2. **Size of vocabulary** - look number of unique words and also how quickly someone speaks\n",
    "3. **Amount of profanity** - most common terms"
   ]
  },
  {
   "cell_type": "markdown",
   "metadata": {},
   "source": [
    "## Most Common Words"
   ]
  },
  {
   "cell_type": "markdown",
   "metadata": {},
   "source": [
    "### Analysis"
   ]
  },
  {
   "cell_type": "code",
   "execution_count": 2,
   "metadata": {},
   "outputs": [
    {
     "data": {
      "text/html": [
       "<div>\n",
       "<style scoped>\n",
       "    .dataframe tbody tr th:only-of-type {\n",
       "        vertical-align: middle;\n",
       "    }\n",
       "\n",
       "    .dataframe tbody tr th {\n",
       "        vertical-align: top;\n",
       "    }\n",
       "\n",
       "    .dataframe thead th {\n",
       "        text-align: right;\n",
       "    }\n",
       "</style>\n",
       "<table border=\"1\" class=\"dataframe\">\n",
       "  <thead>\n",
       "    <tr style=\"text-align: right;\">\n",
       "      <th></th>\n",
       "      <th>age_spin</th>\n",
       "      <th>deep_texas</th>\n",
       "      <th>equanimity</th>\n",
       "      <th>killin_softly</th>\n",
       "      <th>stick_stones</th>\n",
       "      <th>the_bird_revelation</th>\n",
       "    </tr>\n",
       "  </thead>\n",
       "  <tbody>\n",
       "    <tr>\n",
       "      <th>aaaah</th>\n",
       "      <td>0</td>\n",
       "      <td>0</td>\n",
       "      <td>0</td>\n",
       "      <td>0</td>\n",
       "      <td>1</td>\n",
       "      <td>0</td>\n",
       "    </tr>\n",
       "    <tr>\n",
       "      <th>aaah</th>\n",
       "      <td>1</td>\n",
       "      <td>0</td>\n",
       "      <td>0</td>\n",
       "      <td>0</td>\n",
       "      <td>0</td>\n",
       "      <td>0</td>\n",
       "    </tr>\n",
       "    <tr>\n",
       "      <th>aah</th>\n",
       "      <td>0</td>\n",
       "      <td>0</td>\n",
       "      <td>0</td>\n",
       "      <td>0</td>\n",
       "      <td>2</td>\n",
       "      <td>0</td>\n",
       "    </tr>\n",
       "    <tr>\n",
       "      <th>aand</th>\n",
       "      <td>0</td>\n",
       "      <td>0</td>\n",
       "      <td>0</td>\n",
       "      <td>0</td>\n",
       "      <td>2</td>\n",
       "      <td>0</td>\n",
       "    </tr>\n",
       "    <tr>\n",
       "      <th>abandon</th>\n",
       "      <td>0</td>\n",
       "      <td>0</td>\n",
       "      <td>0</td>\n",
       "      <td>0</td>\n",
       "      <td>1</td>\n",
       "      <td>0</td>\n",
       "    </tr>\n",
       "  </tbody>\n",
       "</table>\n",
       "</div>"
      ],
      "text/plain": [
       "         age_spin  deep_texas  equanimity  killin_softly  stick_stones  \\\n",
       "aaaah           0           0           0              0             1   \n",
       "aaah            1           0           0              0             0   \n",
       "aah             0           0           0              0             2   \n",
       "aand            0           0           0              0             2   \n",
       "abandon         0           0           0              0             1   \n",
       "\n",
       "         the_bird_revelation  \n",
       "aaaah                      0  \n",
       "aaah                       0  \n",
       "aah                        0  \n",
       "aand                       0  \n",
       "abandon                    0  "
      ]
     },
     "execution_count": 2,
     "metadata": {},
     "output_type": "execute_result"
    },
    {
     "data": {
      "application/javascript": [
       "\n",
       "            setTimeout(function() {\n",
       "                var nbb_cell_id = 2;\n",
       "                var nbb_unformatted_code = \"# Read in the document-term matrix\\nimport pandas as pd\\n\\ndata = pd.read_pickle('dtm.pkl')\\ndata = data.transpose()\\ndata.head()\";\n",
       "                var nbb_formatted_code = \"# Read in the document-term matrix\\nimport pandas as pd\\n\\ndata = pd.read_pickle(\\\"dtm.pkl\\\")\\ndata = data.transpose()\\ndata.head()\";\n",
       "                var nbb_cells = Jupyter.notebook.get_cells();\n",
       "                for (var i = 0; i < nbb_cells.length; ++i) {\n",
       "                    if (nbb_cells[i].input_prompt_number == nbb_cell_id) {\n",
       "                        if (nbb_cells[i].get_text() == nbb_unformatted_code) {\n",
       "                             nbb_cells[i].set_text(nbb_formatted_code);\n",
       "                        }\n",
       "                        break;\n",
       "                    }\n",
       "                }\n",
       "            }, 500);\n",
       "            "
      ],
      "text/plain": [
       "<IPython.core.display.Javascript object>"
      ]
     },
     "metadata": {},
     "output_type": "display_data"
    }
   ],
   "source": [
    "# Read in the document-term matrix\n",
    "import pandas as pd\n",
    "\n",
    "data = pd.read_pickle(\"dtm.pkl\")\n",
    "data = data.transpose()\n",
    "data.head()"
   ]
  },
  {
   "cell_type": "code",
   "execution_count": 3,
   "metadata": {},
   "outputs": [
    {
     "data": {
      "text/plain": [
       "{'age_spin': [('like', 103),\n",
       "  ('know', 79),\n",
       "  ('said', 63),\n",
       "  ('just', 61),\n",
       "  ('im', 47),\n",
       "  ('shit', 45),\n",
       "  ('people', 43),\n",
       "  ('didnt', 39),\n",
       "  ('ahah', 38),\n",
       "  ('dont', 38),\n",
       "  ('time', 36),\n",
       "  ('fuck', 33),\n",
       "  ('thats', 33),\n",
       "  ('fucking', 32),\n",
       "  ('black', 31),\n",
       "  ('man', 30),\n",
       "  ('good', 27),\n",
       "  ('got', 27),\n",
       "  ('right', 22),\n",
       "  ('gonna', 21),\n",
       "  ('lot', 20),\n",
       "  ('nigga', 20),\n",
       "  ('gay', 20),\n",
       "  ('hes', 19),\n",
       "  ('did', 19),\n",
       "  ('oh', 18),\n",
       "  ('yeah', 18),\n",
       "  ('oj', 18),\n",
       "  ('come', 17),\n",
       "  ('kevin', 16)],\n",
       " 'deep_texas': [('like', 130),\n",
       "  ('just', 95),\n",
       "  ('im', 83),\n",
       "  ('know', 83),\n",
       "  ('said', 82),\n",
       "  ('dont', 69),\n",
       "  ('shit', 57),\n",
       "  ('thats', 44),\n",
       "  ('right', 43),\n",
       "  ('ahah', 38),\n",
       "  ('gonna', 37),\n",
       "  ('didnt', 34),\n",
       "  ('got', 33),\n",
       "  ('pussy', 32),\n",
       "  ('fuck', 31),\n",
       "  ('man', 30),\n",
       "  ('oh', 29),\n",
       "  ('fucking', 28),\n",
       "  ('youre', 27),\n",
       "  ('good', 26),\n",
       "  ('guy', 26),\n",
       "  ('time', 25),\n",
       "  ('people', 25),\n",
       "  ('say', 25),\n",
       "  ('want', 25),\n",
       "  ('think', 24),\n",
       "  ('black', 23),\n",
       "  ('dave', 22),\n",
       "  ('tell', 21),\n",
       "  ('hes', 19)],\n",
       " 'equanimity': [('like', 81),\n",
       "  ('im', 75),\n",
       "  ('know', 69),\n",
       "  ('just', 62),\n",
       "  ('said', 54),\n",
       "  ('dont', 52),\n",
       "  ('shit', 46),\n",
       "  ('people', 35),\n",
       "  ('gonna', 31),\n",
       "  ('nigga', 31),\n",
       "  ('thats', 28),\n",
       "  ('white', 27),\n",
       "  ('didnt', 25),\n",
       "  ('motherfucker', 22),\n",
       "  ('say', 21),\n",
       "  ('feel', 21),\n",
       "  ('time', 20),\n",
       "  ('fuck', 19),\n",
       "  ('man', 19),\n",
       "  ('bad', 18),\n",
       "  ('right', 18),\n",
       "  ('got', 17),\n",
       "  ('fucking', 17),\n",
       "  ('good', 16),\n",
       "  ('everybody', 16),\n",
       "  ('yo', 15),\n",
       "  ('cause', 15),\n",
       "  ('want', 15),\n",
       "  ('think', 14),\n",
       "  ('bitch', 14)],\n",
       " 'killin_softly': [('like', 110),\n",
       "  ('know', 90),\n",
       "  ('im', 71),\n",
       "  ('shit', 63),\n",
       "  ('just', 57),\n",
       "  ('thats', 55),\n",
       "  ('dont', 54),\n",
       "  ('man', 45),\n",
       "  ('right', 44),\n",
       "  ('mean', 29),\n",
       "  ('black', 28),\n",
       "  ('talk', 28),\n",
       "  ('say', 28),\n",
       "  ('come', 27),\n",
       "  ('white', 25),\n",
       "  ('gonna', 24),\n",
       "  ('oh', 24),\n",
       "  ('got', 24),\n",
       "  ('good', 24),\n",
       "  ('people', 22),\n",
       "  ('youre', 21),\n",
       "  ('ill', 21),\n",
       "  ('fucking', 21),\n",
       "  ('didnt', 21),\n",
       "  ('thing', 20),\n",
       "  ('fuck', 19),\n",
       "  ('said', 19),\n",
       "  ('baby', 19),\n",
       "  ('guy', 19),\n",
       "  ('gotta', 18)],\n",
       " 'stick_stones': [('like', 89),\n",
       "  ('know', 80),\n",
       "  ('im', 72),\n",
       "  ('dont', 53),\n",
       "  ('just', 53),\n",
       "  ('said', 51),\n",
       "  ('got', 36),\n",
       "  ('shit', 34),\n",
       "  ('thats', 34),\n",
       "  ('say', 34),\n",
       "  ('nigga', 30),\n",
       "  ('right', 29),\n",
       "  ('uh', 25),\n",
       "  ('gonna', 24),\n",
       "  ('fuck', 24),\n",
       "  ('man', 22),\n",
       "  ('didnt', 22),\n",
       "  ('white', 22),\n",
       "  ('mean', 21),\n",
       "  ('people', 20),\n",
       "  ('school', 20),\n",
       "  ('did', 20),\n",
       "  ('oh', 19),\n",
       "  ('going', 18),\n",
       "  ('everybody', 17),\n",
       "  ('hes', 16),\n",
       "  ('want', 16),\n",
       "  ('okay', 16),\n",
       "  ('tell', 16),\n",
       "  ('youre', 15)],\n",
       " 'the_bird_revelation': [('know', 77),\n",
       "  ('like', 66),\n",
       "  ('im', 38),\n",
       "  ('thats', 36),\n",
       "  ('just', 35),\n",
       "  ('right', 34),\n",
       "  ('dont', 34),\n",
       "  ('shit', 33),\n",
       "  ('said', 30),\n",
       "  ('bitch', 28),\n",
       "  ('got', 28),\n",
       "  ('man', 26),\n",
       "  ('didnt', 24),\n",
       "  ('nigga', 24),\n",
       "  ('did', 22),\n",
       "  ('want', 22),\n",
       "  ('say', 22),\n",
       "  ('hes', 21),\n",
       "  ('black', 20),\n",
       "  ('good', 19),\n",
       "  ('fuck', 18),\n",
       "  ('mean', 18),\n",
       "  ('tell', 17),\n",
       "  ('iceberg', 17),\n",
       "  ('going', 17),\n",
       "  ('time', 16),\n",
       "  ('motherfucker', 15),\n",
       "  ('youre', 15),\n",
       "  ('money', 15),\n",
       "  ('oh', 14)]}"
      ]
     },
     "execution_count": 3,
     "metadata": {},
     "output_type": "execute_result"
    },
    {
     "data": {
      "application/javascript": [
       "\n",
       "            setTimeout(function() {\n",
       "                var nbb_cell_id = 3;\n",
       "                var nbb_unformatted_code = \"# Find the top 30 words said by each comedian\\ntop_dict = {}\\nfor c in data.columns:\\n    top = data[c].sort_values(ascending=False).head(30)\\n    top_dict[c]= list(zip(top.index, top.values))\\n\\ntop_dict\";\n",
       "                var nbb_formatted_code = \"# Find the top 30 words said by each comedian\\ntop_dict = {}\\nfor c in data.columns:\\n    top = data[c].sort_values(ascending=False).head(30)\\n    top_dict[c] = list(zip(top.index, top.values))\\n\\ntop_dict\";\n",
       "                var nbb_cells = Jupyter.notebook.get_cells();\n",
       "                for (var i = 0; i < nbb_cells.length; ++i) {\n",
       "                    if (nbb_cells[i].input_prompt_number == nbb_cell_id) {\n",
       "                        if (nbb_cells[i].get_text() == nbb_unformatted_code) {\n",
       "                             nbb_cells[i].set_text(nbb_formatted_code);\n",
       "                        }\n",
       "                        break;\n",
       "                    }\n",
       "                }\n",
       "            }, 500);\n",
       "            "
      ],
      "text/plain": [
       "<IPython.core.display.Javascript object>"
      ]
     },
     "metadata": {},
     "output_type": "display_data"
    }
   ],
   "source": [
    "# Find the top 30 words said by each comedian\n",
    "top_dict = {}\n",
    "for c in data.columns:\n",
    "    top = data[c].sort_values(ascending=False).head(30)\n",
    "    top_dict[c] = list(zip(top.index, top.values))\n",
    "\n",
    "top_dict"
   ]
  },
  {
   "cell_type": "code",
   "execution_count": 15,
   "metadata": {},
   "outputs": [
    {
     "name": "stdout",
     "output_type": "stream",
     "text": [
      "age_spin\n",
      "like, know, said, just, im, shit, people, didnt, ahah, dont, time, fuck, thats, fucking\n",
      "---\n",
      "deep_texas\n",
      "like, just, im, know, said, dont, shit, thats, right, ahah, gonna, didnt, got, pussy\n",
      "---\n",
      "equanimity\n",
      "like, im, know, just, said, dont, shit, people, gonna, nigga, thats, white, didnt, motherfucker\n",
      "---\n",
      "killin_softly\n",
      "like, know, im, shit, just, thats, dont, man, right, mean, black, talk, say, come\n",
      "---\n",
      "stick_stones\n",
      "like, know, im, dont, just, said, got, shit, thats, say, nigga, right, uh, gonna\n",
      "---\n",
      "the_bird_revelation\n",
      "know, like, im, thats, just, right, dont, shit, said, bitch, got, man, didnt, nigga\n",
      "---\n"
     ]
    },
    {
     "data": {
      "application/javascript": [
       "\n",
       "            setTimeout(function() {\n",
       "                var nbb_cell_id = 15;\n",
       "                var nbb_unformatted_code = \"# Print the top 15 words in each special \\nfor special, top_words in top_dict.items():\\n    print(special)\\n    print(\\\", \\\".join([word for word, count in top_words[0:14]]))\\n    print(\\\"---\\\")\";\n",
       "                var nbb_formatted_code = \"# Print the top 15 words in each special\\nfor special, top_words in top_dict.items():\\n    print(special)\\n    print(\\\", \\\".join([word for word, count in top_words[0:14]]))\\n    print(\\\"---\\\")\";\n",
       "                var nbb_cells = Jupyter.notebook.get_cells();\n",
       "                for (var i = 0; i < nbb_cells.length; ++i) {\n",
       "                    if (nbb_cells[i].input_prompt_number == nbb_cell_id) {\n",
       "                        if (nbb_cells[i].get_text() == nbb_unformatted_code) {\n",
       "                             nbb_cells[i].set_text(nbb_formatted_code);\n",
       "                        }\n",
       "                        break;\n",
       "                    }\n",
       "                }\n",
       "            }, 500);\n",
       "            "
      ],
      "text/plain": [
       "<IPython.core.display.Javascript object>"
      ]
     },
     "metadata": {},
     "output_type": "display_data"
    }
   ],
   "source": [
    "# Print the top 15 words in each special\n",
    "for special, top_words in top_dict.items():\n",
    "    print(special)\n",
    "    print(\", \".join([word for word, count in top_words[0:14]]))\n",
    "    print(\"---\")"
   ]
  },
  {
   "cell_type": "markdown",
   "metadata": {},
   "source": [
    "**NOTE:** At this point, we could go on and create word clouds. However, by looking at these top words, you can see that some of them have very little meaning and could be added to a stop words list, so let's do just that.\n",
    "\n"
   ]
  },
  {
   "cell_type": "code",
   "execution_count": 16,
   "metadata": {},
   "outputs": [
    {
     "data": {
      "text/plain": [
       "['like',\n",
       " 'know',\n",
       " 'said',\n",
       " 'just',\n",
       " 'im',\n",
       " 'shit',\n",
       " 'people',\n",
       " 'didnt',\n",
       " 'ahah',\n",
       " 'dont',\n",
       " 'time',\n",
       " 'fuck',\n",
       " 'thats',\n",
       " 'fucking',\n",
       " 'black',\n",
       " 'man',\n",
       " 'good',\n",
       " 'got',\n",
       " 'right',\n",
       " 'gonna',\n",
       " 'lot',\n",
       " 'nigga',\n",
       " 'gay',\n",
       " 'hes',\n",
       " 'did',\n",
       " 'oh',\n",
       " 'yeah',\n",
       " 'oj',\n",
       " 'come',\n",
       " 'kevin',\n",
       " 'like',\n",
       " 'just',\n",
       " 'im',\n",
       " 'know',\n",
       " 'said',\n",
       " 'dont',\n",
       " 'shit',\n",
       " 'thats',\n",
       " 'right',\n",
       " 'ahah',\n",
       " 'gonna',\n",
       " 'didnt',\n",
       " 'got',\n",
       " 'pussy',\n",
       " 'fuck',\n",
       " 'man',\n",
       " 'oh',\n",
       " 'fucking',\n",
       " 'youre',\n",
       " 'good',\n",
       " 'guy',\n",
       " 'time',\n",
       " 'people',\n",
       " 'say',\n",
       " 'want',\n",
       " 'think',\n",
       " 'black',\n",
       " 'dave',\n",
       " 'tell',\n",
       " 'hes',\n",
       " 'like',\n",
       " 'im',\n",
       " 'know',\n",
       " 'just',\n",
       " 'said',\n",
       " 'dont',\n",
       " 'shit',\n",
       " 'people',\n",
       " 'gonna',\n",
       " 'nigga',\n",
       " 'thats',\n",
       " 'white',\n",
       " 'didnt',\n",
       " 'motherfucker',\n",
       " 'say',\n",
       " 'feel',\n",
       " 'time',\n",
       " 'fuck',\n",
       " 'man',\n",
       " 'bad',\n",
       " 'right',\n",
       " 'got',\n",
       " 'fucking',\n",
       " 'good',\n",
       " 'everybody',\n",
       " 'yo',\n",
       " 'cause',\n",
       " 'want',\n",
       " 'think',\n",
       " 'bitch',\n",
       " 'like',\n",
       " 'know',\n",
       " 'im',\n",
       " 'shit',\n",
       " 'just',\n",
       " 'thats',\n",
       " 'dont',\n",
       " 'man',\n",
       " 'right',\n",
       " 'mean',\n",
       " 'black',\n",
       " 'talk',\n",
       " 'say',\n",
       " 'come',\n",
       " 'white',\n",
       " 'gonna',\n",
       " 'oh',\n",
       " 'got',\n",
       " 'good',\n",
       " 'people',\n",
       " 'youre',\n",
       " 'ill',\n",
       " 'fucking',\n",
       " 'didnt',\n",
       " 'thing',\n",
       " 'fuck',\n",
       " 'said',\n",
       " 'baby',\n",
       " 'guy',\n",
       " 'gotta',\n",
       " 'like',\n",
       " 'know',\n",
       " 'im',\n",
       " 'dont',\n",
       " 'just',\n",
       " 'said',\n",
       " 'got',\n",
       " 'shit',\n",
       " 'thats',\n",
       " 'say',\n",
       " 'nigga',\n",
       " 'right',\n",
       " 'uh',\n",
       " 'gonna',\n",
       " 'fuck',\n",
       " 'man',\n",
       " 'didnt',\n",
       " 'white',\n",
       " 'mean',\n",
       " 'people',\n",
       " 'school',\n",
       " 'did',\n",
       " 'oh',\n",
       " 'going',\n",
       " 'everybody',\n",
       " 'hes',\n",
       " 'want',\n",
       " 'okay',\n",
       " 'tell',\n",
       " 'youre',\n",
       " 'know',\n",
       " 'like',\n",
       " 'im',\n",
       " 'thats',\n",
       " 'just',\n",
       " 'right',\n",
       " 'dont',\n",
       " 'shit',\n",
       " 'said',\n",
       " 'bitch',\n",
       " 'got',\n",
       " 'man',\n",
       " 'didnt',\n",
       " 'nigga',\n",
       " 'did',\n",
       " 'want',\n",
       " 'say',\n",
       " 'hes',\n",
       " 'black',\n",
       " 'good',\n",
       " 'fuck',\n",
       " 'mean',\n",
       " 'tell',\n",
       " 'iceberg',\n",
       " 'going',\n",
       " 'time',\n",
       " 'motherfucker',\n",
       " 'youre',\n",
       " 'money',\n",
       " 'oh']"
      ]
     },
     "execution_count": 16,
     "metadata": {},
     "output_type": "execute_result"
    },
    {
     "data": {
      "application/javascript": [
       "\n",
       "            setTimeout(function() {\n",
       "                var nbb_cell_id = 16;\n",
       "                var nbb_unformatted_code = \"# Look at the most common top words --> add them to the stop word list\\nfrom collections import Counter\\n\\n# Let's first pull out the top 30 words for each comedian\\nwords = []\\nfor special in data.columns:\\n    top = [word for (word, count) in top_dict[special]]\\n    for t in top:\\n        words.append(t)\\n\\nwords\";\n",
       "                var nbb_formatted_code = \"# Look at the most common top words --> add them to the stop word list\\nfrom collections import Counter\\n\\n# Let's first pull out the top 30 words for each comedian\\nwords = []\\nfor special in data.columns:\\n    top = [word for (word, count) in top_dict[special]]\\n    for t in top:\\n        words.append(t)\\n\\nwords\";\n",
       "                var nbb_cells = Jupyter.notebook.get_cells();\n",
       "                for (var i = 0; i < nbb_cells.length; ++i) {\n",
       "                    if (nbb_cells[i].input_prompt_number == nbb_cell_id) {\n",
       "                        if (nbb_cells[i].get_text() == nbb_unformatted_code) {\n",
       "                             nbb_cells[i].set_text(nbb_formatted_code);\n",
       "                        }\n",
       "                        break;\n",
       "                    }\n",
       "                }\n",
       "            }, 500);\n",
       "            "
      ],
      "text/plain": [
       "<IPython.core.display.Javascript object>"
      ]
     },
     "metadata": {},
     "output_type": "display_data"
    }
   ],
   "source": [
    "# Look at the most common top words --> add them to the stop word list\n",
    "from collections import Counter\n",
    "\n",
    "# Let's first pull out the top 30 words for each comedian\n",
    "words = []\n",
    "for special in data.columns:\n",
    "    top = [word for (word, count) in top_dict[special]]\n",
    "    for t in top:\n",
    "        words.append(t)\n",
    "\n",
    "words"
   ]
  },
  {
   "cell_type": "code",
   "execution_count": 17,
   "metadata": {},
   "outputs": [
    {
     "data": {
      "text/plain": [
       "[('like', 6),\n",
       " ('know', 6),\n",
       " ('said', 6),\n",
       " ('just', 6),\n",
       " ('im', 6),\n",
       " ('shit', 6),\n",
       " ('didnt', 6),\n",
       " ('dont', 6),\n",
       " ('fuck', 6),\n",
       " ('thats', 6),\n",
       " ('man', 6),\n",
       " ('got', 6),\n",
       " ('right', 6),\n",
       " ('people', 5),\n",
       " ('good', 5),\n",
       " ('gonna', 5),\n",
       " ('oh', 5),\n",
       " ('say', 5),\n",
       " ('time', 4),\n",
       " ('fucking', 4),\n",
       " ('black', 4),\n",
       " ('nigga', 4),\n",
       " ('hes', 4),\n",
       " ('youre', 4),\n",
       " ('want', 4),\n",
       " ('did', 3),\n",
       " ('tell', 3),\n",
       " ('white', 3),\n",
       " ('mean', 3),\n",
       " ('ahah', 2),\n",
       " ('come', 2),\n",
       " ('guy', 2),\n",
       " ('think', 2),\n",
       " ('motherfucker', 2),\n",
       " ('everybody', 2),\n",
       " ('bitch', 2),\n",
       " ('going', 2),\n",
       " ('lot', 1),\n",
       " ('gay', 1),\n",
       " ('yeah', 1),\n",
       " ('oj', 1),\n",
       " ('kevin', 1),\n",
       " ('pussy', 1),\n",
       " ('dave', 1),\n",
       " ('feel', 1),\n",
       " ('bad', 1),\n",
       " ('yo', 1),\n",
       " ('cause', 1),\n",
       " ('talk', 1),\n",
       " ('ill', 1),\n",
       " ('thing', 1),\n",
       " ('baby', 1),\n",
       " ('gotta', 1),\n",
       " ('uh', 1),\n",
       " ('school', 1),\n",
       " ('okay', 1),\n",
       " ('iceberg', 1),\n",
       " ('money', 1)]"
      ]
     },
     "execution_count": 17,
     "metadata": {},
     "output_type": "execute_result"
    },
    {
     "data": {
      "application/javascript": [
       "\n",
       "            setTimeout(function() {\n",
       "                var nbb_cell_id = 17;\n",
       "                var nbb_unformatted_code = \"# Let's aggregate this list and identify the most common words along with how many routines they occur in\\nCounter(words).most_common()\";\n",
       "                var nbb_formatted_code = \"# Let's aggregate this list and identify the most common words along with how many routines they occur in\\nCounter(words).most_common()\";\n",
       "                var nbb_cells = Jupyter.notebook.get_cells();\n",
       "                for (var i = 0; i < nbb_cells.length; ++i) {\n",
       "                    if (nbb_cells[i].input_prompt_number == nbb_cell_id) {\n",
       "                        if (nbb_cells[i].get_text() == nbb_unformatted_code) {\n",
       "                             nbb_cells[i].set_text(nbb_formatted_code);\n",
       "                        }\n",
       "                        break;\n",
       "                    }\n",
       "                }\n",
       "            }, 500);\n",
       "            "
      ],
      "text/plain": [
       "<IPython.core.display.Javascript object>"
      ]
     },
     "metadata": {},
     "output_type": "display_data"
    }
   ],
   "source": [
    "# Let's aggregate this list and identify the most common words along with how many routines they occur in\n",
    "Counter(words).most_common()"
   ]
  },
  {
   "cell_type": "code",
   "execution_count": 18,
   "metadata": {},
   "outputs": [
    {
     "data": {
      "text/plain": [
       "['like',\n",
       " 'know',\n",
       " 'said',\n",
       " 'just',\n",
       " 'im',\n",
       " 'shit',\n",
       " 'didnt',\n",
       " 'dont',\n",
       " 'fuck',\n",
       " 'thats',\n",
       " 'man',\n",
       " 'got',\n",
       " 'right',\n",
       " 'people',\n",
       " 'good',\n",
       " 'gonna',\n",
       " 'oh',\n",
       " 'say']"
      ]
     },
     "execution_count": 18,
     "metadata": {},
     "output_type": "execute_result"
    },
    {
     "data": {
      "application/javascript": [
       "\n",
       "            setTimeout(function() {\n",
       "                var nbb_cell_id = 18;\n",
       "                var nbb_unformatted_code = \"# If more than 4 of the specials have it as a top word, exclude it from the list\\nadd_stop_words = [word for word, count in Counter(words).most_common() if count > 4]\\nadd_stop_words\";\n",
       "                var nbb_formatted_code = \"# If more than 4 of the specials have it as a top word, exclude it from the list\\nadd_stop_words = [word for word, count in Counter(words).most_common() if count > 4]\\nadd_stop_words\";\n",
       "                var nbb_cells = Jupyter.notebook.get_cells();\n",
       "                for (var i = 0; i < nbb_cells.length; ++i) {\n",
       "                    if (nbb_cells[i].input_prompt_number == nbb_cell_id) {\n",
       "                        if (nbb_cells[i].get_text() == nbb_unformatted_code) {\n",
       "                             nbb_cells[i].set_text(nbb_formatted_code);\n",
       "                        }\n",
       "                        break;\n",
       "                    }\n",
       "                }\n",
       "            }, 500);\n",
       "            "
      ],
      "text/plain": [
       "<IPython.core.display.Javascript object>"
      ]
     },
     "metadata": {},
     "output_type": "display_data"
    }
   ],
   "source": [
    "# If more than 4 of the specials have it as a top word, exclude it from the list\n",
    "add_stop_words = [word for word, count in Counter(words).most_common() if count > 4]\n",
    "add_stop_words"
   ]
  },
  {
   "cell_type": "code",
   "execution_count": 19,
   "metadata": {},
   "outputs": [
    {
     "data": {
      "application/javascript": [
       "\n",
       "            setTimeout(function() {\n",
       "                var nbb_cell_id = 19;\n",
       "                var nbb_unformatted_code = \"# Let's update our document-term matrix with the new list of stop words\\nfrom sklearn.feature_extraction import text\\nfrom sklearn.feature_extraction.text import CountVectorizer\\n\\n# Read in cleaned data\\ndata_clean = pd.read_pickle(\\\"data_clean.pkl\\\")\\n\\n# Add new stop words\\nstop_words = text.ENGLISH_STOP_WORDS.union(add_stop_words)\\n\\n# Recreate document-term matrix\\ncv = CountVectorizer(stop_words=stop_words)\\ndata_cv = cv.fit_transform(data_clean.transcript)\\ndata_stop = pd.DataFrame(data_cv.toarray(), columns=cv.get_feature_names())\\ndata_stop.index = data_clean.index\\n\\n# Pickle it for later use\\nimport pickle\\n\\npickle.dump(cv, open(\\\"cv_stop.pkl\\\", \\\"wb\\\"))\\ndata_stop.to_pickle(\\\"dtm_stop.pkl\\\")\";\n",
       "                var nbb_formatted_code = \"# Let's update our document-term matrix with the new list of stop words\\nfrom sklearn.feature_extraction import text\\nfrom sklearn.feature_extraction.text import CountVectorizer\\n\\n# Read in cleaned data\\ndata_clean = pd.read_pickle(\\\"data_clean.pkl\\\")\\n\\n# Add new stop words\\nstop_words = text.ENGLISH_STOP_WORDS.union(add_stop_words)\\n\\n# Recreate document-term matrix\\ncv = CountVectorizer(stop_words=stop_words)\\ndata_cv = cv.fit_transform(data_clean.transcript)\\ndata_stop = pd.DataFrame(data_cv.toarray(), columns=cv.get_feature_names())\\ndata_stop.index = data_clean.index\\n\\n# Pickle it for later use\\nimport pickle\\n\\npickle.dump(cv, open(\\\"cv_stop.pkl\\\", \\\"wb\\\"))\\ndata_stop.to_pickle(\\\"dtm_stop.pkl\\\")\";\n",
       "                var nbb_cells = Jupyter.notebook.get_cells();\n",
       "                for (var i = 0; i < nbb_cells.length; ++i) {\n",
       "                    if (nbb_cells[i].input_prompt_number == nbb_cell_id) {\n",
       "                        if (nbb_cells[i].get_text() == nbb_unformatted_code) {\n",
       "                             nbb_cells[i].set_text(nbb_formatted_code);\n",
       "                        }\n",
       "                        break;\n",
       "                    }\n",
       "                }\n",
       "            }, 500);\n",
       "            "
      ],
      "text/plain": [
       "<IPython.core.display.Javascript object>"
      ]
     },
     "metadata": {},
     "output_type": "display_data"
    }
   ],
   "source": [
    "# Let's update our document-term matrix with the new list of stop words\n",
    "from sklearn.feature_extraction import text\n",
    "from sklearn.feature_extraction.text import CountVectorizer\n",
    "\n",
    "# Read in cleaned data\n",
    "data_clean = pd.read_pickle(\"data_clean.pkl\")\n",
    "\n",
    "# Add new stop words\n",
    "stop_words = text.ENGLISH_STOP_WORDS.union(add_stop_words)\n",
    "\n",
    "# Recreate document-term matrix\n",
    "cv = CountVectorizer(stop_words=stop_words)\n",
    "data_cv = cv.fit_transform(data_clean.transcript)\n",
    "data_stop = pd.DataFrame(data_cv.toarray(), columns=cv.get_feature_names())\n",
    "data_stop.index = data_clean.index\n",
    "\n",
    "# Pickle it for later use\n",
    "import pickle\n",
    "\n",
    "pickle.dump(cv, open(\"cv_stop.pkl\", \"wb\"))\n",
    "data_stop.to_pickle(\"dtm_stop.pkl\")"
   ]
  },
  {
   "cell_type": "code",
   "execution_count": 21,
   "metadata": {},
   "outputs": [
    {
     "data": {
      "application/javascript": [
       "\n",
       "            setTimeout(function() {\n",
       "                var nbb_cell_id = 21;\n",
       "                var nbb_unformatted_code = \"# Let's make some word clouds!\\n# Terminal / Anaconda Prompt: conda install -c conda-forge wordcloud\\nfrom wordcloud import WordCloud\\n\\nwc = WordCloud(\\n    stopwords=stop_words,\\n    background_color=\\\"white\\\",\\n    colormap=\\\"autumn\\\",\\n    max_font_size=150,\\n    random_state=42,\\n)\";\n",
       "                var nbb_formatted_code = \"# Let's make some word clouds!\\n# Terminal / Anaconda Prompt: conda install -c conda-forge wordcloud\\nfrom wordcloud import WordCloud\\n\\nwc = WordCloud(\\n    stopwords=stop_words,\\n    background_color=\\\"white\\\",\\n    colormap=\\\"autumn\\\",\\n    max_font_size=150,\\n    random_state=42,\\n)\";\n",
       "                var nbb_cells = Jupyter.notebook.get_cells();\n",
       "                for (var i = 0; i < nbb_cells.length; ++i) {\n",
       "                    if (nbb_cells[i].input_prompt_number == nbb_cell_id) {\n",
       "                        if (nbb_cells[i].get_text() == nbb_unformatted_code) {\n",
       "                             nbb_cells[i].set_text(nbb_formatted_code);\n",
       "                        }\n",
       "                        break;\n",
       "                    }\n",
       "                }\n",
       "            }, 500);\n",
       "            "
      ],
      "text/plain": [
       "<IPython.core.display.Javascript object>"
      ]
     },
     "metadata": {},
     "output_type": "display_data"
    }
   ],
   "source": [
    "# Let's make some word clouds!\n",
    "# Terminal / Anaconda Prompt: conda install -c conda-forge wordcloud\n",
    "from wordcloud import WordCloud\n",
    "\n",
    "wc = WordCloud(\n",
    "    stopwords=stop_words,\n",
    "    background_color=\"white\",\n",
    "    colormap=\"autumn\",\n",
    "    max_font_size=150,\n",
    "    random_state=42,\n",
    ")"
   ]
  },
  {
   "cell_type": "code",
   "execution_count": 22,
   "metadata": {},
   "outputs": [
    {
     "data": {
      "image/png": "[encoded data removed]",
      "text/plain": [
       "<Figure size 1152x432 with 6 Axes>"
      ]
     },
     "metadata": {
      "needs_background": "light"
     },
     "output_type": "display_data"
    },
    {
     "data": {
      "application/javascript": [
       "\n",
       "            setTimeout(function() {\n",
       "                var nbb_cell_id = 22;\n",
       "                var nbb_unformatted_code = \"# Reset the output dimensions\\nimport matplotlib.pyplot as plt\\n\\nplt.rcParams[\\\"figure.figsize\\\"] = [16, 6]\\n\\nfull_names = [\\n    \\\"age_spin\\\",\\n    \\\"stick_stones\\\",\\n    \\\"the_bird_revelation\\\",\\n    \\\"equanimity\\\",\\n    \\\"killin_softly\\\",\\n    \\\"deep_texas\\\",\\n]\\n# Create subplots for each comedian\\nfor index, comedian in enumerate(data.columns):\\n    wc.generate(data_clean.transcript[comedian])\\n\\n    plt.subplot(3, 4, index + 1)\\n    plt.imshow(wc, interpolation=\\\"bilinear\\\")\\n    plt.axis(\\\"off\\\")\\n    plt.title(full_names[index])\\n\\nplt.show()\";\n",
       "                var nbb_formatted_code = \"# Reset the output dimensions\\nimport matplotlib.pyplot as plt\\n\\nplt.rcParams[\\\"figure.figsize\\\"] = [16, 6]\\n\\nfull_names = [\\n    \\\"age_spin\\\",\\n    \\\"stick_stones\\\",\\n    \\\"the_bird_revelation\\\",\\n    \\\"equanimity\\\",\\n    \\\"killin_softly\\\",\\n    \\\"deep_texas\\\",\\n]\\n# Create subplots for each comedian\\nfor index, comedian in enumerate(data.columns):\\n    wc.generate(data_clean.transcript[comedian])\\n\\n    plt.subplot(3, 4, index + 1)\\n    plt.imshow(wc, interpolation=\\\"bilinear\\\")\\n    plt.axis(\\\"off\\\")\\n    plt.title(full_names[index])\\n\\nplt.show()\";\n",
       "                var nbb_cells = Jupyter.notebook.get_cells();\n",
       "                for (var i = 0; i < nbb_cells.length; ++i) {\n",
       "                    if (nbb_cells[i].input_prompt_number == nbb_cell_id) {\n",
       "                        if (nbb_cells[i].get_text() == nbb_unformatted_code) {\n",
       "                             nbb_cells[i].set_text(nbb_formatted_code);\n",
       "                        }\n",
       "                        break;\n",
       "                    }\n",
       "                }\n",
       "            }, 500);\n",
       "            "
      ],
      "text/plain": [
       "<IPython.core.display.Javascript object>"
      ]
     },
     "metadata": {},
     "output_type": "display_data"
    }
   ],
   "source": [
    "# Reset the output dimensions\n",
    "import matplotlib.pyplot as plt\n",
    "\n",
    "plt.rcParams[\"figure.figsize\"] = [16, 6]\n",
    "\n",
    "full_names = [\n",
    "    \"age_spin\",\n",
    "    \"stick_stones\",\n",
    "    \"the_bird_revelation\",\n",
    "    \"equanimity\",\n",
    "    \"killin_softly\",\n",
    "    \"deep_texas\",\n",
    "]\n",
    "# Create subplots for each comedian\n",
    "for index, comedian in enumerate(data.columns):\n",
    "    wc.generate(data_clean.transcript[comedian])\n",
    "\n",
    "    plt.subplot(3, 4, index + 1)\n",
    "    plt.imshow(wc, interpolation=\"bilinear\")\n",
    "    plt.axis(\"off\")\n",
    "    plt.title(full_names[index])\n",
    "\n",
    "plt.show()"
   ]
  },
  {
   "cell_type": "markdown",
   "metadata": {},
   "source": [
    "### Findings"
   ]
  },
  {
   "cell_type": "markdown",
   "metadata": {},
   "source": [
    "* Chapelle uses the n-word, which to many is controversial but I think that is why people graviate towards him so much because he is willing to cross the line. \n",
    "\n",
    "* Another ting "
   ]
  },
  {
   "cell_type": "markdown",
   "metadata": {},
   "source": [
    "## Number of Words"
   ]
  },
  {
   "cell_type": "markdown",
   "metadata": {},
   "source": [
    "### Analysis"
   ]
  },
  {
   "cell_type": "code",
   "execution_count": 23,
   "metadata": {},
   "outputs": [
    {
     "name": "stderr",
     "output_type": "stream",
     "text": [
      "C:\\Users\\Kwasi\\Anaconda3\\envs\\Thinkful\\lib\\site-packages\\ipykernel_launcher.py:6: FutureWarning: Series.nonzero() is deprecated and will be removed in a future version.Use Series.to_numpy().nonzero() instead\n",
      "  \n"
     ]
    },
    {
     "data": {
      "text/html": [
       "<div>\n",
       "<style scoped>\n",
       "    .dataframe tbody tr th:only-of-type {\n",
       "        vertical-align: middle;\n",
       "    }\n",
       "\n",
       "    .dataframe tbody tr th {\n",
       "        vertical-align: top;\n",
       "    }\n",
       "\n",
       "    .dataframe thead th {\n",
       "        text-align: right;\n",
       "    }\n",
       "</style>\n",
       "<table border=\"1\" class=\"dataframe\">\n",
       "  <thead>\n",
       "    <tr style=\"text-align: right;\">\n",
       "      <th></th>\n",
       "      <th>comedian</th>\n",
       "      <th>unique_words</th>\n",
       "    </tr>\n",
       "  </thead>\n",
       "  <tbody>\n",
       "    <tr>\n",
       "      <th>3</th>\n",
       "      <td>equanimity</td>\n",
       "      <td>1061</td>\n",
       "    </tr>\n",
       "    <tr>\n",
       "      <th>5</th>\n",
       "      <td>deep_texas</td>\n",
       "      <td>1130</td>\n",
       "    </tr>\n",
       "    <tr>\n",
       "      <th>4</th>\n",
       "      <td>killin_softly</td>\n",
       "      <td>1232</td>\n",
       "    </tr>\n",
       "    <tr>\n",
       "      <th>2</th>\n",
       "      <td>the_bird_revelation</td>\n",
       "      <td>1270</td>\n",
       "    </tr>\n",
       "    <tr>\n",
       "      <th>1</th>\n",
       "      <td>stick_stones</td>\n",
       "      <td>1320</td>\n",
       "    </tr>\n",
       "    <tr>\n",
       "      <th>0</th>\n",
       "      <td>age_spin</td>\n",
       "      <td>1404</td>\n",
       "    </tr>\n",
       "  </tbody>\n",
       "</table>\n",
       "</div>"
      ],
      "text/plain": [
       "              comedian  unique_words\n",
       "3           equanimity          1061\n",
       "5           deep_texas          1130\n",
       "4        killin_softly          1232\n",
       "2  the_bird_revelation          1270\n",
       "1         stick_stones          1320\n",
       "0             age_spin          1404"
      ]
     },
     "execution_count": 23,
     "metadata": {},
     "output_type": "execute_result"
    },
    {
     "data": {
      "application/javascript": [
       "\n",
       "            setTimeout(function() {\n",
       "                var nbb_cell_id = 23;\n",
       "                var nbb_unformatted_code = \"# Find the number of unique words that each comedian uses\\n\\n# Identify the non-zero items in the document-term matrix, meaning that the word occurs at least once\\nunique_list = []\\nfor comedian in data.columns:\\n    uniques = data[comedian].nonzero()[0].size\\n    unique_list.append(uniques)\\n\\n# Create a new dataframe that contains this unique word count\\ndata_words = pd.DataFrame(\\n    list(zip(full_names, unique_list)), columns=[\\\"comedian\\\", \\\"unique_words\\\"]\\n)\\ndata_unique_sort = data_words.sort_values(by=\\\"unique_words\\\")\\ndata_unique_sort\";\n",
       "                var nbb_formatted_code = \"# Find the number of unique words that each comedian uses\\n\\n# Identify the non-zero items in the document-term matrix, meaning that the word occurs at least once\\nunique_list = []\\nfor comedian in data.columns:\\n    uniques = data[comedian].nonzero()[0].size\\n    unique_list.append(uniques)\\n\\n# Create a new dataframe that contains this unique word count\\ndata_words = pd.DataFrame(\\n    list(zip(full_names, unique_list)), columns=[\\\"comedian\\\", \\\"unique_words\\\"]\\n)\\ndata_unique_sort = data_words.sort_values(by=\\\"unique_words\\\")\\ndata_unique_sort\";\n",
       "                var nbb_cells = Jupyter.notebook.get_cells();\n",
       "                for (var i = 0; i < nbb_cells.length; ++i) {\n",
       "                    if (nbb_cells[i].input_prompt_number == nbb_cell_id) {\n",
       "                        if (nbb_cells[i].get_text() == nbb_unformatted_code) {\n",
       "                             nbb_cells[i].set_text(nbb_formatted_code);\n",
       "                        }\n",
       "                        break;\n",
       "                    }\n",
       "                }\n",
       "            }, 500);\n",
       "            "
      ],
      "text/plain": [
       "<IPython.core.display.Javascript object>"
      ]
     },
     "metadata": {},
     "output_type": "display_data"
    }
   ],
   "source": [
    "# Find the number of unique words that each comedian uses\n",
    "\n",
    "# Identify the non-zero items in the document-term matrix, meaning that the word occurs at least once\n",
    "unique_list = []\n",
    "for comedian in data.columns:\n",
    "    uniques = data[comedian].nonzero()[0].size\n",
    "    unique_list.append(uniques)\n",
    "\n",
    "# Create a new dataframe that contains this unique word count\n",
    "data_words = pd.DataFrame(\n",
    "    list(zip(full_names, unique_list)), columns=[\"comedian\", \"unique_words\"]\n",
    ")\n",
    "data_unique_sort = data_words.sort_values(by=\"unique_words\")\n",
    "data_unique_sort"
   ]
  },
  {
   "cell_type": "code",
   "execution_count": 27,
   "metadata": {},
   "outputs": [
    {
     "data": {
      "text/html": [
       "<div>\n",
       "<style scoped>\n",
       "    .dataframe tbody tr th:only-of-type {\n",
       "        vertical-align: middle;\n",
       "    }\n",
       "\n",
       "    .dataframe tbody tr th {\n",
       "        vertical-align: top;\n",
       "    }\n",
       "\n",
       "    .dataframe thead th {\n",
       "        text-align: right;\n",
       "    }\n",
       "</style>\n",
       "<table border=\"1\" class=\"dataframe\">\n",
       "  <thead>\n",
       "    <tr style=\"text-align: right;\">\n",
       "      <th></th>\n",
       "      <th>comedian</th>\n",
       "      <th>unique_words</th>\n",
       "      <th>total_words</th>\n",
       "      <th>run_times</th>\n",
       "      <th>words_per_minute</th>\n",
       "    </tr>\n",
       "  </thead>\n",
       "  <tbody>\n",
       "    <tr>\n",
       "      <th>5</th>\n",
       "      <td>deep_texas</td>\n",
       "      <td>1130</td>\n",
       "      <td>2990</td>\n",
       "      <td>66</td>\n",
       "      <td>45.303030</td>\n",
       "    </tr>\n",
       "    <tr>\n",
       "      <th>3</th>\n",
       "      <td>equanimity</td>\n",
       "      <td>1061</td>\n",
       "      <td>3546</td>\n",
       "      <td>60</td>\n",
       "      <td>59.100000</td>\n",
       "    </tr>\n",
       "    <tr>\n",
       "      <th>0</th>\n",
       "      <td>age_spin</td>\n",
       "      <td>1404</td>\n",
       "      <td>4094</td>\n",
       "      <td>67</td>\n",
       "      <td>61.104478</td>\n",
       "    </tr>\n",
       "    <tr>\n",
       "      <th>4</th>\n",
       "      <td>killin_softly</td>\n",
       "      <td>1232</td>\n",
       "      <td>3642</td>\n",
       "      <td>57</td>\n",
       "      <td>63.894737</td>\n",
       "    </tr>\n",
       "    <tr>\n",
       "      <th>1</th>\n",
       "      <td>stick_stones</td>\n",
       "      <td>1320</td>\n",
       "      <td>4351</td>\n",
       "      <td>65</td>\n",
       "      <td>66.938462</td>\n",
       "    </tr>\n",
       "    <tr>\n",
       "      <th>2</th>\n",
       "      <td>the_bird_revelation</td>\n",
       "      <td>1270</td>\n",
       "      <td>3660</td>\n",
       "      <td>49</td>\n",
       "      <td>74.693878</td>\n",
       "    </tr>\n",
       "  </tbody>\n",
       "</table>\n",
       "</div>"
      ],
      "text/plain": [
       "              comedian  unique_words  total_words  run_times  words_per_minute\n",
       "5           deep_texas          1130         2990         66         45.303030\n",
       "3           equanimity          1061         3546         60         59.100000\n",
       "0             age_spin          1404         4094         67         61.104478\n",
       "4        killin_softly          1232         3642         57         63.894737\n",
       "1         stick_stones          1320         4351         65         66.938462\n",
       "2  the_bird_revelation          1270         3660         49         74.693878"
      ]
     },
     "execution_count": 27,
     "metadata": {},
     "output_type": "execute_result"
    },
    {
     "data": {
      "application/javascript": [
       "\n",
       "            setTimeout(function() {\n",
       "                var nbb_cell_id = 27;\n",
       "                var nbb_unformatted_code = \"# Calculate the words per minute of each comedian\\n\\n# Find the total number of words that a comedian uses\\ntotal_list = []\\nfor comedian in data.columns:\\n    totals = sum(data[comedian])\\n    total_list.append(totals)\\n\\n# Comedy special run times from IMDB, in minutes\\nrun_times = [67, 65, 49, 60, 57, 66]\\n\\n# Let's add some columns to our dataframe\\ndata_words[\\\"total_words\\\"] = total_list\\ndata_words[\\\"run_times\\\"] = run_times\\ndata_words[\\\"words_per_minute\\\"] = data_words[\\\"total_words\\\"] / data_words[\\\"run_times\\\"]\\n\\n# Sort the dataframe by words per minute to see who talks the slowest and fastest\\ndata_wpm_sort = data_words.sort_values(by=\\\"words_per_minute\\\")\\ndata_wpm_sort\";\n",
       "                var nbb_formatted_code = \"# Calculate the words per minute of each comedian\\n\\n# Find the total number of words that a comedian uses\\ntotal_list = []\\nfor comedian in data.columns:\\n    totals = sum(data[comedian])\\n    total_list.append(totals)\\n\\n# Comedy special run times from IMDB, in minutes\\nrun_times = [67, 65, 49, 60, 57, 66]\\n\\n# Let's add some columns to our dataframe\\ndata_words[\\\"total_words\\\"] = total_list\\ndata_words[\\\"run_times\\\"] = run_times\\ndata_words[\\\"words_per_minute\\\"] = data_words[\\\"total_words\\\"] / data_words[\\\"run_times\\\"]\\n\\n# Sort the dataframe by words per minute to see who talks the slowest and fastest\\ndata_wpm_sort = data_words.sort_values(by=\\\"words_per_minute\\\")\\ndata_wpm_sort\";\n",
       "                var nbb_cells = Jupyter.notebook.get_cells();\n",
       "                for (var i = 0; i < nbb_cells.length; ++i) {\n",
       "                    if (nbb_cells[i].input_prompt_number == nbb_cell_id) {\n",
       "                        if (nbb_cells[i].get_text() == nbb_unformatted_code) {\n",
       "                             nbb_cells[i].set_text(nbb_formatted_code);\n",
       "                        }\n",
       "                        break;\n",
       "                    }\n",
       "                }\n",
       "            }, 500);\n",
       "            "
      ],
      "text/plain": [
       "<IPython.core.display.Javascript object>"
      ]
     },
     "metadata": {},
     "output_type": "display_data"
    }
   ],
   "source": [
    "# Calculate the words per minute of each comedian\n",
    "\n",
    "# Find the total number of words that a comedian uses\n",
    "total_list = []\n",
    "for comedian in data.columns:\n",
    "    totals = sum(data[comedian])\n",
    "    total_list.append(totals)\n",
    "\n",
    "# Comedy special run times from IMDB, in minutes\n",
    "run_times = [67, 65, 49, 60, 57, 66]\n",
    "\n",
    "# Let's add some columns to our dataframe\n",
    "data_words[\"total_words\"] = total_list\n",
    "data_words[\"run_times\"] = run_times\n",
    "data_words[\"words_per_minute\"] = data_words[\"total_words\"] / data_words[\"run_times\"]\n",
    "\n",
    "# Sort the dataframe by words per minute to see who talks the slowest and fastest\n",
    "data_wpm_sort = data_words.sort_values(by=\"words_per_minute\")\n",
    "data_wpm_sort"
   ]
  },
  {
   "cell_type": "code",
   "execution_count": 28,
   "metadata": {},
   "outputs": [
    {
     "data": {
      "image/png": "[encoded data removed]",
      "text/plain": [
       "<Figure size 1152x432 with 2 Axes>"
      ]
     },
     "metadata": {
      "needs_background": "light"
     },
     "output_type": "display_data"
    },
    {
     "data": {
      "application/javascript": [
       "\n",
       "            setTimeout(function() {\n",
       "                var nbb_cell_id = 28;\n",
       "                var nbb_unformatted_code = \"# Let's plot our findings\\nimport numpy as np\\n\\ny_pos = np.arange(len(data_words))\\n\\nplt.subplot(1, 2, 1)\\nplt.barh(y_pos, data_unique_sort.unique_words, align='center')\\nplt.yticks(y_pos, data_unique_sort.comedian)\\nplt.title('Number of Unique Words', fontsize=20)\\n\\nplt.subplot(1, 2, 2)\\nplt.barh(y_pos, data_wpm_sort.words_per_minute, align='center')\\nplt.yticks(y_pos, data_wpm_sort.comedian)\\nplt.title('Number of Words Per Minute', fontsize=20)\\n\\nplt.tight_layout()\\nplt.show()\";\n",
       "                var nbb_formatted_code = \"# Let's plot our findings\\nimport numpy as np\\n\\ny_pos = np.arange(len(data_words))\\n\\nplt.subplot(1, 2, 1)\\nplt.barh(y_pos, data_unique_sort.unique_words, align=\\\"center\\\")\\nplt.yticks(y_pos, data_unique_sort.comedian)\\nplt.title(\\\"Number of Unique Words\\\", fontsize=20)\\n\\nplt.subplot(1, 2, 2)\\nplt.barh(y_pos, data_wpm_sort.words_per_minute, align=\\\"center\\\")\\nplt.yticks(y_pos, data_wpm_sort.comedian)\\nplt.title(\\\"Number of Words Per Minute\\\", fontsize=20)\\n\\nplt.tight_layout()\\nplt.show()\";\n",
       "                var nbb_cells = Jupyter.notebook.get_cells();\n",
       "                for (var i = 0; i < nbb_cells.length; ++i) {\n",
       "                    if (nbb_cells[i].input_prompt_number == nbb_cell_id) {\n",
       "                        if (nbb_cells[i].get_text() == nbb_unformatted_code) {\n",
       "                             nbb_cells[i].set_text(nbb_formatted_code);\n",
       "                        }\n",
       "                        break;\n",
       "                    }\n",
       "                }\n",
       "            }, 500);\n",
       "            "
      ],
      "text/plain": [
       "<IPython.core.display.Javascript object>"
      ]
     },
     "metadata": {},
     "output_type": "display_data"
    }
   ],
   "source": [
    "# Let's plot our findings\n",
    "import numpy as np\n",
    "\n",
    "y_pos = np.arange(len(data_words))\n",
    "\n",
    "plt.subplot(1, 2, 1)\n",
    "plt.barh(y_pos, data_unique_sort.unique_words, align=\"center\")\n",
    "plt.yticks(y_pos, data_unique_sort.comedian)\n",
    "plt.title(\"Number of Unique Words\", fontsize=20)\n",
    "\n",
    "plt.subplot(1, 2, 2)\n",
    "plt.barh(y_pos, data_wpm_sort.words_per_minute, align=\"center\")\n",
    "plt.yticks(y_pos, data_wpm_sort.comedian)\n",
    "plt.title(\"Number of Words Per Minute\", fontsize=20)\n",
    "\n",
    "plt.tight_layout()\n",
    "plt.show()"
   ]
  },
  {
   "cell_type": "markdown",
   "metadata": {},
   "source": [
    "### Findings"
   ]
  },
  {
   "cell_type": "markdown",
   "metadata": {},
   "source": [
    "* **Vocabulary**\n",
    "   * Ricky Gervais (British comedy) and Bill Burr (podcast host) use a lot of words in their comedy\n",
    "   * Louis C.K. (self-depricating comedy) and Anthony Jeselnik (dark humor) have a smaller vocabulary\n",
    "\n",
    "\n",
    "* **Talking Speed**\n",
    "   * Joe Rogan (blue comedy) and Bill Burr (podcast host) talk fast\n",
    "   * Bo Burnham (musical comedy) and Anthony Jeselnik (dark humor) talk slow\n",
    "   \n",
    "Ali Wong is somewhere in the middle in both cases. Nothing too interesting here."
   ]
  },
  {
   "cell_type": "markdown",
   "metadata": {},
   "source": [
    "## Amount of Profanity"
   ]
  },
  {
   "cell_type": "markdown",
   "metadata": {},
   "source": [
    "### Analysis"
   ]
  },
  {
   "cell_type": "code",
   "execution_count": 29,
   "metadata": {},
   "outputs": [
    {
     "data": {
      "text/plain": [
       "[('like', 6),\n",
       " ('know', 6),\n",
       " ('said', 6),\n",
       " ('just', 6),\n",
       " ('im', 6),\n",
       " ('shit', 6),\n",
       " ('didnt', 6),\n",
       " ('dont', 6),\n",
       " ('fuck', 6),\n",
       " ('thats', 6),\n",
       " ('man', 6),\n",
       " ('got', 6),\n",
       " ('right', 6),\n",
       " ('people', 5),\n",
       " ('good', 5),\n",
       " ('gonna', 5),\n",
       " ('oh', 5),\n",
       " ('say', 5),\n",
       " ('time', 4),\n",
       " ('fucking', 4),\n",
       " ('black', 4),\n",
       " ('nigga', 4),\n",
       " ('hes', 4),\n",
       " ('youre', 4),\n",
       " ('want', 4),\n",
       " ('did', 3),\n",
       " ('tell', 3),\n",
       " ('white', 3),\n",
       " ('mean', 3),\n",
       " ('ahah', 2),\n",
       " ('come', 2),\n",
       " ('guy', 2),\n",
       " ('think', 2),\n",
       " ('motherfucker', 2),\n",
       " ('everybody', 2),\n",
       " ('bitch', 2),\n",
       " ('going', 2),\n",
       " ('lot', 1),\n",
       " ('gay', 1),\n",
       " ('yeah', 1),\n",
       " ('oj', 1),\n",
       " ('kevin', 1),\n",
       " ('pussy', 1),\n",
       " ('dave', 1),\n",
       " ('feel', 1),\n",
       " ('bad', 1),\n",
       " ('yo', 1),\n",
       " ('cause', 1),\n",
       " ('talk', 1),\n",
       " ('ill', 1),\n",
       " ('thing', 1),\n",
       " ('baby', 1),\n",
       " ('gotta', 1),\n",
       " ('uh', 1),\n",
       " ('school', 1),\n",
       " ('okay', 1),\n",
       " ('iceberg', 1),\n",
       " ('money', 1)]"
      ]
     },
     "execution_count": 29,
     "metadata": {},
     "output_type": "execute_result"
    },
    {
     "data": {
      "application/javascript": [
       "\n",
       "            setTimeout(function() {\n",
       "                var nbb_cell_id = 29;\n",
       "                var nbb_unformatted_code = \"# Earlier I said we'd revisit profanity. Let's take a look at the most common words again.\\nCounter(words).most_common()\";\n",
       "                var nbb_formatted_code = \"# Earlier I said we'd revisit profanity. Let's take a look at the most common words again.\\nCounter(words).most_common()\";\n",
       "                var nbb_cells = Jupyter.notebook.get_cells();\n",
       "                for (var i = 0; i < nbb_cells.length; ++i) {\n",
       "                    if (nbb_cells[i].input_prompt_number == nbb_cell_id) {\n",
       "                        if (nbb_cells[i].get_text() == nbb_unformatted_code) {\n",
       "                             nbb_cells[i].set_text(nbb_formatted_code);\n",
       "                        }\n",
       "                        break;\n",
       "                    }\n",
       "                }\n",
       "            }, 500);\n",
       "            "
      ],
      "text/plain": [
       "<IPython.core.display.Javascript object>"
      ]
     },
     "metadata": {},
     "output_type": "display_data"
    }
   ],
   "source": [
    "# Earlier I said we'd revisit profanity. Let's take a look at the most common words again.\n",
    "Counter(words).most_common()"
   ]
  },
  {
   "cell_type": "code",
   "execution_count": 30,
   "metadata": {},
   "outputs": [
    {
     "data": {
      "text/html": [
       "<div>\n",
       "<style scoped>\n",
       "    .dataframe tbody tr th:only-of-type {\n",
       "        vertical-align: middle;\n",
       "    }\n",
       "\n",
       "    .dataframe tbody tr th {\n",
       "        vertical-align: top;\n",
       "    }\n",
       "\n",
       "    .dataframe thead th {\n",
       "        text-align: right;\n",
       "    }\n",
       "</style>\n",
       "<table border=\"1\" class=\"dataframe\">\n",
       "  <thead>\n",
       "    <tr style=\"text-align: right;\">\n",
       "      <th></th>\n",
       "      <th>f_word</th>\n",
       "      <th>s_word</th>\n",
       "    </tr>\n",
       "  </thead>\n",
       "  <tbody>\n",
       "    <tr>\n",
       "      <th>age_spin</th>\n",
       "      <td>65</td>\n",
       "      <td>45</td>\n",
       "    </tr>\n",
       "    <tr>\n",
       "      <th>deep_texas</th>\n",
       "      <td>59</td>\n",
       "      <td>57</td>\n",
       "    </tr>\n",
       "    <tr>\n",
       "      <th>equanimity</th>\n",
       "      <td>36</td>\n",
       "      <td>46</td>\n",
       "    </tr>\n",
       "    <tr>\n",
       "      <th>killin_softly</th>\n",
       "      <td>40</td>\n",
       "      <td>63</td>\n",
       "    </tr>\n",
       "    <tr>\n",
       "      <th>stick_stones</th>\n",
       "      <td>34</td>\n",
       "      <td>34</td>\n",
       "    </tr>\n",
       "    <tr>\n",
       "      <th>the_bird_revelation</th>\n",
       "      <td>28</td>\n",
       "      <td>33</td>\n",
       "    </tr>\n",
       "  </tbody>\n",
       "</table>\n",
       "</div>"
      ],
      "text/plain": [
       "                     f_word  s_word\n",
       "age_spin                 65      45\n",
       "deep_texas               59      57\n",
       "equanimity               36      46\n",
       "killin_softly            40      63\n",
       "stick_stones             34      34\n",
       "the_bird_revelation      28      33"
      ]
     },
     "execution_count": 30,
     "metadata": {},
     "output_type": "execute_result"
    },
    {
     "data": {
      "application/javascript": [
       "\n",
       "            setTimeout(function() {\n",
       "                var nbb_cell_id = 30;\n",
       "                var nbb_unformatted_code = \"# Let's isolate just these bad words\\ndata_bad_words = data.transpose()[['fucking', 'fuck', 'shit']]\\ndata_profanity = pd.concat([data_bad_words.fucking + data_bad_words.fuck, data_bad_words.shit], axis=1)\\ndata_profanity.columns = ['f_word', 's_word']\\ndata_profanity\";\n",
       "                var nbb_formatted_code = \"# Let's isolate just these bad words\\ndata_bad_words = data.transpose()[[\\\"fucking\\\", \\\"fuck\\\", \\\"shit\\\"]]\\ndata_profanity = pd.concat(\\n    [data_bad_words.fucking + data_bad_words.fuck, data_bad_words.shit], axis=1\\n)\\ndata_profanity.columns = [\\\"f_word\\\", \\\"s_word\\\"]\\ndata_profanity\";\n",
       "                var nbb_cells = Jupyter.notebook.get_cells();\n",
       "                for (var i = 0; i < nbb_cells.length; ++i) {\n",
       "                    if (nbb_cells[i].input_prompt_number == nbb_cell_id) {\n",
       "                        if (nbb_cells[i].get_text() == nbb_unformatted_code) {\n",
       "                             nbb_cells[i].set_text(nbb_formatted_code);\n",
       "                        }\n",
       "                        break;\n",
       "                    }\n",
       "                }\n",
       "            }, 500);\n",
       "            "
      ],
      "text/plain": [
       "<IPython.core.display.Javascript object>"
      ]
     },
     "metadata": {},
     "output_type": "display_data"
    }
   ],
   "source": [
    "# Let's isolate just these bad words\n",
    "data_bad_words = data.transpose()[[\"fucking\", \"fuck\", \"shit\"]]\n",
    "data_profanity = pd.concat(\n",
    "    [data_bad_words.fucking + data_bad_words.fuck, data_bad_words.shit], axis=1\n",
    ")\n",
    "data_profanity.columns = [\"f_word\", \"s_word\"]\n",
    "data_profanity"
   ]
  },
  {
   "cell_type": "code",
   "execution_count": 31,
   "metadata": {},
   "outputs": [
    {
     "data": {
      "image/png": "[encoded data removed]",
      "text/plain": [
       "<Figure size 720x576 with 1 Axes>"
      ]
     },
     "metadata": {
      "needs_background": "light"
     },
     "output_type": "display_data"
    },
    {
     "data": {
      "application/javascript": [
       "\n",
       "            setTimeout(function() {\n",
       "                var nbb_cell_id = 31;\n",
       "                var nbb_unformatted_code = \"# Let's create a scatter plot of our findings\\nplt.rcParams['figure.figsize'] = [10, 8]\\n\\nfor i, comedian in enumerate(data_profanity.index):\\n    x = data_profanity.f_word.loc[comedian]\\n    y = data_profanity.s_word.loc[comedian]\\n    plt.scatter(x, y, color='blue')\\n    plt.text(x+1.5, y+0.5, full_names[i], fontsize=10)\\n    plt.xlim(-5, 155) \\n    \\nplt.title('Number of Bad Words Used in Routine', fontsize=20)\\nplt.xlabel('Number of F Bombs', fontsize=15)\\nplt.ylabel('Number of S Words', fontsize=15)\\n\\nplt.show()\";\n",
       "                var nbb_formatted_code = \"# Let's create a scatter plot of our findings\\nplt.rcParams[\\\"figure.figsize\\\"] = [10, 8]\\n\\nfor i, comedian in enumerate(data_profanity.index):\\n    x = data_profanity.f_word.loc[comedian]\\n    y = data_profanity.s_word.loc[comedian]\\n    plt.scatter(x, y, color=\\\"blue\\\")\\n    plt.text(x + 1.5, y + 0.5, full_names[i], fontsize=10)\\n    plt.xlim(-5, 155)\\n\\nplt.title(\\\"Number of Bad Words Used in Routine\\\", fontsize=20)\\nplt.xlabel(\\\"Number of F Bombs\\\", fontsize=15)\\nplt.ylabel(\\\"Number of S Words\\\", fontsize=15)\\n\\nplt.show()\";\n",
       "                var nbb_cells = Jupyter.notebook.get_cells();\n",
       "                for (var i = 0; i < nbb_cells.length; ++i) {\n",
       "                    if (nbb_cells[i].input_prompt_number == nbb_cell_id) {\n",
       "                        if (nbb_cells[i].get_text() == nbb_unformatted_code) {\n",
       "                             nbb_cells[i].set_text(nbb_formatted_code);\n",
       "                        }\n",
       "                        break;\n",
       "                    }\n",
       "                }\n",
       "            }, 500);\n",
       "            "
      ],
      "text/plain": [
       "<IPython.core.display.Javascript object>"
      ]
     },
     "metadata": {},
     "output_type": "display_data"
    }
   ],
   "source": [
    "# Let's create a scatter plot of our findings\n",
    "plt.rcParams[\"figure.figsize\"] = [10, 8]\n",
    "\n",
    "for i, comedian in enumerate(data_profanity.index):\n",
    "    x = data_profanity.f_word.loc[comedian]\n",
    "    y = data_profanity.s_word.loc[comedian]\n",
    "    plt.scatter(x, y, color=\"blue\")\n",
    "    plt.text(x + 1.5, y + 0.5, full_names[i], fontsize=10)\n",
    "    plt.xlim(-5, 155)\n",
    "\n",
    "plt.title(\"Number of Bad Words Used in Routine\", fontsize=20)\n",
    "plt.xlabel(\"Number of F Bombs\", fontsize=15)\n",
    "plt.ylabel(\"Number of S Words\", fontsize=15)\n",
    "\n",
    "plt.show()"
   ]
  },
  {
   "cell_type": "markdown",
   "metadata": {},
   "source": [
    "### Findings"
   ]
  },
  {
   "cell_type": "markdown",
   "metadata": {},
   "source": [
    "* **Averaging 2 F-Bombs Per Minute!** - I don't like too much swearing, especially the f-word, which is probably why I've never heard of Bill Bur, Joe Rogan and Jim Jefferies.\n",
    "* **Clean Humor** - It looks like profanity might be a good predictor of the type of comedy I like. Besides Ali Wong, my two other favorite comedians in this group are John Mulaney and Mike Birbiglia."
   ]
  },
  {
   "cell_type": "markdown",
   "metadata": {
    "collapsed": true
   },
   "source": [
    "## Side Note"
   ]
  },
  {
   "cell_type": "markdown",
   "metadata": {},
   "source": [
    "What was our goal for the EDA portion of our journey? **To be able to take an initial look at our data and see if the results of some basic analysis made sense.**\n",
    "\n",
    "My conclusion - yes, it does, for a first pass. There are definitely some things that could be better cleaned up, such as adding more stop words or including bi-grams. But we can save that for another day. The results, especially the profanity findings, are interesting and make general sense, so we're going to move on.\n",
    "\n",
    "As a reminder, the data science process is an interative one. It's better to see some non-perfect but acceptable results to help you quickly decide whether your project is a dud or not, instead of having analysis paralysis and never delivering anything."
   ]
  },
  {
   "cell_type": "markdown",
   "metadata": {
    "collapsed": true
   },
   "source": [
    "## Additional Exercises"
   ]
  },
  {
   "cell_type": "markdown",
   "metadata": {},
   "source": [
    "1. What other word counts do you think would be interesting to compare instead of the f-word and s-word? Create a scatter plot comparing them."
   ]
  },
  {
   "cell_type": "code",
   "execution_count": null,
   "metadata": {
    "collapsed": true
   },
   "outputs": [],
   "source": []
  }
 ],
 "metadata": {
  "kernelspec": {
   "display_name": "Python 3",
   "language": "python",
   "name": "python3"
  },
  "language_info": {
   "codemirror_mode": {
    "name": "ipython",
    "version": 3
   },
   "file_extension": ".py",
   "mimetype": "text/x-python",
   "name": "python",
   "nbconvert_exporter": "python",
   "pygments_lexer": "ipython3",
   "version": "3.7.1"
  },
  "toc": {
   "base_numbering": 1,
   "nav_menu": {},
   "number_sections": true,
   "sideBar": true,
   "skip_h1_title": false,
   "title_cell": "Table of Contents",
   "title_sidebar": "Contents",
   "toc_cell": false,
   "toc_position": {},
   "toc_section_display": "block",
   "toc_window_display": false
  },
  "varInspector": {
   "cols": {
    "lenName": 16,
    "lenType": 16,
    "lenVar": 40
   },
   "kernels_config": {
    "python": {
     "delete_cmd_postfix": "",
     "delete_cmd_prefix": "del ",
     "library": "var_list.py",
     "varRefreshCmd": "print(var_dic_list())"
    },
    "r": {
     "delete_cmd_postfix": ") ",
     "delete_cmd_prefix": "rm(",
     "library": "var_list.r",
     "varRefreshCmd": "cat(var_dic_list()) "
    }
   },
   "types_to_exclude": [
    "module",
    "function",
    "builtin_function_or_method",
    "instance",
    "_Feature"
   ],
   "window_display": false
  }
 },
 "nbformat": 4,
 "nbformat_minor": 2
}
