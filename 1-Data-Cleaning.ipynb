{
 "cells": [
  {
   "cell_type": "code",
   "execution_count": 1,
   "metadata": {},
   "outputs": [
    {
     "data": {
      "application/javascript": [
       "\n",
       "            setTimeout(function() {\n",
       "                var nbb_cell_id = 1;\n",
       "                var nbb_unformatted_code = \"%load_ext nb_black\";\n",
       "                var nbb_formatted_code = \"%load_ext nb_black\";\n",
       "                var nbb_cells = Jupyter.notebook.get_cells();\n",
       "                for (var i = 0; i < nbb_cells.length; ++i) {\n",
       "                    if (nbb_cells[i].input_prompt_number == nbb_cell_id) {\n",
       "                        if (nbb_cells[i].get_text() == nbb_unformatted_code) {\n",
       "                             nbb_cells[i].set_text(nbb_formatted_code);\n",
       "                        }\n",
       "                        break;\n",
       "                    }\n",
       "                }\n",
       "            }, 500);\n",
       "            "
      ],
      "text/plain": [
       "<IPython.core.display.Javascript object>"
      ]
     },
     "metadata": {},
     "output_type": "display_data"
    }
   ],
   "source": [
    "%load_ext nb_black"
   ]
  },
  {
   "cell_type": "markdown",
   "metadata": {},
   "source": [
    "# Data Cleaning"
   ]
  },
  {
   "cell_type": "markdown",
   "metadata": {},
   "source": [
    "## Introduction"
   ]
  },
  {
   "cell_type": "markdown",
   "metadata": {},
   "source": [
    "1. **Getting the data - **in this case, we'll be scraping data from a website\n",
    "2. **Cleaning the data - **we will walk through popular text pre-processing techniques\n",
    "3. **Organizing the data - **we will organize the cleaned data into a way that is easy to input into other algorithms\n",
    "\n",
    "The output of this notebook will be clean, organized data in two standard text formats:\n",
    "\n",
    "1. **Corpus** - a collection of text\n",
    "2. **Document-Term Matrix** - word counts in matrix format"
   ]
  },
  {
   "cell_type": "markdown",
   "metadata": {},
   "source": [
    "## Problem Statement"
   ]
  },
  {
   "cell_type": "markdown",
   "metadata": {},
   "source": [
    "Doing a Deep Dive into all of Chappelle's standup specials that I can get my hands on. "
   ]
  },
  {
   "cell_type": "markdown",
   "metadata": {},
   "source": [
    "## Getting The Data"
   ]
  },
  {
   "cell_type": "markdown",
   "metadata": {},
   "source": [
    "Data is scrapped from scrapsfromtheloft.com"
   ]
  },
  {
   "cell_type": "code",
   "execution_count": 27,
   "metadata": {},
   "outputs": [
    {
     "data": {
      "application/javascript": [
       "\n",
       "            setTimeout(function() {\n",
       "                var nbb_cell_id = 27;\n",
       "                var nbb_unformatted_code = \"# Web scraping, pickle imports\\nimport requests\\nfrom bs4 import BeautifulSoup\\nimport pickle\\n\\n# Scrapes transcript data from scrapsfromtheloft.com\\ndef url_to_transcript(url):\\n    \\\"\\\"\\\"Returns transcript data specifically from scrapsfromtheloft.com.\\\"\\\"\\\"\\n    page = requests.get(url).text\\n    soup = BeautifulSoup(page, \\\"lxml\\\")\\n    text = [p.text for p in soup.find(class_=\\\"post-content\\\").find_all(\\\"p\\\")]\\n    print(url)\\n    return text\\n\\n\\n# URLs of transcripts in scope\\nurls = [\\n    \\\"http://scrapsfromtheloft.com/2017/04/11/dave-chappelle-age-spin-2017-full-transcript/\\\",\\n    \\\"https://scrapsfromtheloft.com/2019/08/26/dave-chappelle-sticks-stones-transcript/\\\",\\n    \\\"https://scrapsfromtheloft.com/2018/01/03/dave-chappelle-the-bird-revelation-2017-full-transcript/\\\",\\n    \\\"https://scrapsfromtheloft.com/2018/01/03/dave-chappelle-equanimity-2017-full-transcript/\\\",\\n    \\\"https://scrapsfromtheloft.com/2017/05/19/dave-chappelle-killin-softly-2000-full-transcript/\\\",\\n    \\\"https://scrapsfromtheloft.com/2017/04/20/dave-chappelle-deep-heart-texas-2017-full-transcript/\\\",\\n    \\\"https://scrapsfromtheloft.com/2017/05/19/dave-chappelle-worth-2004-full-transcript/\\\",\\n]\\n\\n# Comedian names\\ncomedians = [\\n    \\\"age_spin\\\",\\n    \\\"stick_stones\\\",\\n    \\\"the_bird_revelation\\\",\\n    \\\"equanimity\\\",\\n    \\\"killin_softly\\\",\\n    \\\"deep_texas\\\",\\n    \\\"worth\\\",\\n]\";\n",
       "                var nbb_formatted_code = \"# Web scraping, pickle imports\\nimport requests\\nfrom bs4 import BeautifulSoup\\nimport pickle\\n\\n# Scrapes transcript data from scrapsfromtheloft.com\\ndef url_to_transcript(url):\\n    \\\"\\\"\\\"Returns transcript data specifically from scrapsfromtheloft.com.\\\"\\\"\\\"\\n    page = requests.get(url).text\\n    soup = BeautifulSoup(page, \\\"lxml\\\")\\n    text = [p.text for p in soup.find(class_=\\\"post-content\\\").find_all(\\\"p\\\")]\\n    print(url)\\n    return text\\n\\n\\n# URLs of transcripts in scope\\nurls = [\\n    \\\"http://scrapsfromtheloft.com/2017/04/11/dave-chappelle-age-spin-2017-full-transcript/\\\",\\n    \\\"https://scrapsfromtheloft.com/2019/08/26/dave-chappelle-sticks-stones-transcript/\\\",\\n    \\\"https://scrapsfromtheloft.com/2018/01/03/dave-chappelle-the-bird-revelation-2017-full-transcript/\\\",\\n    \\\"https://scrapsfromtheloft.com/2018/01/03/dave-chappelle-equanimity-2017-full-transcript/\\\",\\n    \\\"https://scrapsfromtheloft.com/2017/05/19/dave-chappelle-killin-softly-2000-full-transcript/\\\",\\n    \\\"https://scrapsfromtheloft.com/2017/04/20/dave-chappelle-deep-heart-texas-2017-full-transcript/\\\",\\n    \\\"https://scrapsfromtheloft.com/2017/05/19/dave-chappelle-worth-2004-full-transcript/\\\",\\n]\\n\\n# Comedian names\\ncomedians = [\\n    \\\"age_spin\\\",\\n    \\\"stick_stones\\\",\\n    \\\"the_bird_revelation\\\",\\n    \\\"equanimity\\\",\\n    \\\"killin_softly\\\",\\n    \\\"deep_texas\\\",\\n    \\\"worth\\\",\\n]\";\n",
       "                var nbb_cells = Jupyter.notebook.get_cells();\n",
       "                for (var i = 0; i < nbb_cells.length; ++i) {\n",
       "                    if (nbb_cells[i].input_prompt_number == nbb_cell_id) {\n",
       "                        if (nbb_cells[i].get_text() == nbb_unformatted_code) {\n",
       "                             nbb_cells[i].set_text(nbb_formatted_code);\n",
       "                        }\n",
       "                        break;\n",
       "                    }\n",
       "                }\n",
       "            }, 500);\n",
       "            "
      ],
      "text/plain": [
       "<IPython.core.display.Javascript object>"
      ]
     },
     "metadata": {},
     "output_type": "display_data"
    }
   ],
   "source": [
    "# Web scraping, pickle imports\n",
    "import requests\n",
    "from bs4 import BeautifulSoup\n",
    "import pickle\n",
    "\n",
    "# Scrapes transcript data from scrapsfromtheloft.com\n",
    "def url_to_transcript(url):\n",
    "    \"\"\"Returns transcript data specifically from scrapsfromtheloft.com.\"\"\"\n",
    "    page = requests.get(url).text\n",
    "    soup = BeautifulSoup(page, \"lxml\")\n",
    "    text = [p.text for p in soup.find(class_=\"post-content\").find_all(\"p\")]\n",
    "    print(url)\n",
    "    return text\n",
    "\n",
    "\n",
    "# URLs of transcripts in scope\n",
    "urls = [\n",
    "    \"http://scrapsfromtheloft.com/2017/04/11/dave-chappelle-age-spin-2017-full-transcript/\",\n",
    "    \"https://scrapsfromtheloft.com/2019/08/26/dave-chappelle-sticks-stones-transcript/\",\n",
    "    \"https://scrapsfromtheloft.com/2018/01/03/dave-chappelle-the-bird-revelation-2017-full-transcript/\",\n",
    "    \"https://scrapsfromtheloft.com/2018/01/03/dave-chappelle-equanimity-2017-full-transcript/\",\n",
    "    \"https://scrapsfromtheloft.com/2017/05/19/dave-chappelle-killin-softly-2000-full-transcript/\",\n",
    "    \"https://scrapsfromtheloft.com/2017/04/20/dave-chappelle-deep-heart-texas-2017-full-transcript/\",\n",
    "    \"https://scrapsfromtheloft.com/2017/05/19/dave-chappelle-worth-2004-full-transcript/\",\n",
    "]\n",
    "\n",
    "# Comedian names\n",
    "comedians = [\n",
    "    \"age_spin\",\n",
    "    \"stick_stones\",\n",
    "    \"the_bird_revelation\",\n",
    "    \"equanimity\",\n",
    "    \"killin_softly\",\n",
    "    \"deep_texas\",\n",
    "    \"worth\",\n",
    "]"
   ]
  },
  {
   "cell_type": "code",
   "execution_count": 28,
   "metadata": {},
   "outputs": [
    {
     "name": "stdout",
     "output_type": "stream",
     "text": [
      "http://scrapsfromtheloft.com/2017/04/11/dave-chappelle-age-spin-2017-full-transcript/\n",
      "https://scrapsfromtheloft.com/2019/08/26/dave-chappelle-sticks-stones-transcript/\n",
      "https://scrapsfromtheloft.com/2018/01/03/dave-chappelle-the-bird-revelation-2017-full-transcript/\n",
      "https://scrapsfromtheloft.com/2018/01/03/dave-chappelle-equanimity-2017-full-transcript/\n",
      "https://scrapsfromtheloft.com/2017/05/19/dave-chappelle-killin-softly-2000-full-transcript/\n",
      "https://scrapsfromtheloft.com/2017/04/20/dave-chappelle-deep-heart-texas-2017-full-transcript/\n",
      "https://scrapsfromtheloft.com/2017/05/19/dave-chappelle-worth-2004-full-transcript/\n"
     ]
    },
    {
     "data": {
      "application/javascript": [
       "\n",
       "            setTimeout(function() {\n",
       "                var nbb_cell_id = 28;\n",
       "                var nbb_unformatted_code = \"# Webscraping webpage\\ntranscripts = [url_to_transcript(u) for u in urls]\";\n",
       "                var nbb_formatted_code = \"# Webscraping webpage\\ntranscripts = [url_to_transcript(u) for u in urls]\";\n",
       "                var nbb_cells = Jupyter.notebook.get_cells();\n",
       "                for (var i = 0; i < nbb_cells.length; ++i) {\n",
       "                    if (nbb_cells[i].input_prompt_number == nbb_cell_id) {\n",
       "                        if (nbb_cells[i].get_text() == nbb_unformatted_code) {\n",
       "                             nbb_cells[i].set_text(nbb_formatted_code);\n",
       "                        }\n",
       "                        break;\n",
       "                    }\n",
       "                }\n",
       "            }, 500);\n",
       "            "
      ],
      "text/plain": [
       "<IPython.core.display.Javascript object>"
      ]
     },
     "metadata": {},
     "output_type": "display_data"
    }
   ],
   "source": [
    "# Webscraping webpage\n",
    "transcripts = [url_to_transcript(u) for u in urls]"
   ]
  },
  {
   "cell_type": "code",
   "execution_count": 29,
   "metadata": {},
   "outputs": [
    {
     "name": "stderr",
     "output_type": "stream",
     "text": [
      "A subdirectory or file transcripts already exists.\n"
     ]
    },
    {
     "data": {
      "application/javascript": [
       "\n",
       "            setTimeout(function() {\n",
       "                var nbb_cell_id = 29;\n",
       "                var nbb_unformatted_code = \"# Pickle files for later use\\n\\n# Make a new directory to hold the text files\\n!mkdir transcripts\\n\\nfor i, c in enumerate(comedians):\\n    with open(\\\"transcripts/\\\" + c + \\\".txt\\\", \\\"wb\\\") as file:\\n        pickle.dump(transcripts[i], file)\";\n",
       "                var nbb_formatted_code = \"# Pickle files for later use\\n\\n# Make a new directory to hold the text files\\n!mkdir transcripts\\n\\nfor i, c in enumerate(comedians):\\n    with open(\\\"transcripts/\\\" + c + \\\".txt\\\", \\\"wb\\\") as file:\\n        pickle.dump(transcripts[i], file)\";\n",
       "                var nbb_cells = Jupyter.notebook.get_cells();\n",
       "                for (var i = 0; i < nbb_cells.length; ++i) {\n",
       "                    if (nbb_cells[i].input_prompt_number == nbb_cell_id) {\n",
       "                        if (nbb_cells[i].get_text() == nbb_unformatted_code) {\n",
       "                             nbb_cells[i].set_text(nbb_formatted_code);\n",
       "                        }\n",
       "                        break;\n",
       "                    }\n",
       "                }\n",
       "            }, 500);\n",
       "            "
      ],
      "text/plain": [
       "<IPython.core.display.Javascript object>"
      ]
     },
     "metadata": {},
     "output_type": "display_data"
    }
   ],
   "source": [
    "# Pickle files for later use\n",
    "\n",
    "# Make a new directory to hold the text files\n",
    "!mkdir transcripts\n",
    "\n",
    "for i, c in enumerate(comedians):\n",
    "    with open(\"transcripts/\" + c + \".txt\", \"wb\") as file:\n",
    "        pickle.dump(transcripts[i], file)"
   ]
  },
  {
   "cell_type": "code",
   "execution_count": 30,
   "metadata": {},
   "outputs": [
    {
     "data": {
      "application/javascript": [
       "\n",
       "            setTimeout(function() {\n",
       "                var nbb_cell_id = 30;\n",
       "                var nbb_unformatted_code = \"# Load pickled files\\ndata = {}\\nfor i, c in enumerate(comedians):\\n    with open(\\\"transcripts/\\\" + c + \\\".txt\\\", \\\"rb\\\") as file:\\n        data[c] = pickle.load(file)\";\n",
       "                var nbb_formatted_code = \"# Load pickled files\\ndata = {}\\nfor i, c in enumerate(comedians):\\n    with open(\\\"transcripts/\\\" + c + \\\".txt\\\", \\\"rb\\\") as file:\\n        data[c] = pickle.load(file)\";\n",
       "                var nbb_cells = Jupyter.notebook.get_cells();\n",
       "                for (var i = 0; i < nbb_cells.length; ++i) {\n",
       "                    if (nbb_cells[i].input_prompt_number == nbb_cell_id) {\n",
       "                        if (nbb_cells[i].get_text() == nbb_unformatted_code) {\n",
       "                             nbb_cells[i].set_text(nbb_formatted_code);\n",
       "                        }\n",
       "                        break;\n",
       "                    }\n",
       "                }\n",
       "            }, 500);\n",
       "            "
      ],
      "text/plain": [
       "<IPython.core.display.Javascript object>"
      ]
     },
     "metadata": {},
     "output_type": "display_data"
    }
   ],
   "source": [
    "# Load pickled files\n",
    "data = {}\n",
    "for i, c in enumerate(comedians):\n",
    "    with open(\"transcripts/\" + c + \".txt\", \"rb\") as file:\n",
    "        data[c] = pickle.load(file)"
   ]
  },
  {
   "cell_type": "code",
   "execution_count": 31,
   "metadata": {},
   "outputs": [
    {
     "data": {
      "text/plain": [
       "dict_keys(['age_spin', 'stick_stones', 'the_bird_revelation', 'equanimity', 'killin_softly', 'deep_texas', 'worth'])"
      ]
     },
     "execution_count": 31,
     "metadata": {},
     "output_type": "execute_result"
    },
    {
     "data": {
      "application/javascript": [
       "\n",
       "            setTimeout(function() {\n",
       "                var nbb_cell_id = 31;\n",
       "                var nbb_unformatted_code = \"# Double check to make sure data has been loaded properly\\ndata.keys()\";\n",
       "                var nbb_formatted_code = \"# Double check to make sure data has been loaded properly\\ndata.keys()\";\n",
       "                var nbb_cells = Jupyter.notebook.get_cells();\n",
       "                for (var i = 0; i < nbb_cells.length; ++i) {\n",
       "                    if (nbb_cells[i].input_prompt_number == nbb_cell_id) {\n",
       "                        if (nbb_cells[i].get_text() == nbb_unformatted_code) {\n",
       "                             nbb_cells[i].set_text(nbb_formatted_code);\n",
       "                        }\n",
       "                        break;\n",
       "                    }\n",
       "                }\n",
       "            }, 500);\n",
       "            "
      ],
      "text/plain": [
       "<IPython.core.display.Javascript object>"
      ]
     },
     "metadata": {},
     "output_type": "display_data"
    }
   ],
   "source": [
    "# Double check to make sure data has been loaded properly\n",
    "data.keys()"
   ]
  },
  {
   "cell_type": "code",
   "execution_count": 33,
   "metadata": {},
   "outputs": [
    {
     "data": {
      "text/plain": [
       "['This is Dave. He tells dirty jokes for a living. That stare is where most of his hard work happens. It signifies a profound train of thought, the alchemist’s fire that transforms fear and tragedy into levity and livelihood. Dave calls that look “the trance.” ♪ Play me ♪ ♪ Buy me ♪ ♪ Workinonit ♪ ♪ Tune up ♪ ♪ Tune ♪ ♪ Oh ♪ ♪ Fade me ♪ ♪ Ah-ah, ah-ah, ah-ah ♪ ♪ In every ghetto ♪ ♪ Ah-ah, ah-ah, ah-ah ♪ ♪ In every ghetto ♪ ♪ Ah-ah, ah-ah, ah-ah ♪ ♪ In every ghetto ♪ ♪ Ah-ah, ah-ah, ah-ah ♪ ♪ In every ghetto ♪ ♪ Ah-ah, ah-ah, ah-ah ♪ ♪ In every ghetto ♪ ♪ Ah-ah, ah-ah, ah-ah ♪ ♪ In every ghetto ♪ ♪ Ah-ah, ah-ah, ah-ah ♪',\n",
       " 'Thank you! Thank you very much! Thank you all. Oh, wow. That was exciting, wasn’t it? Thank you, guys. Have a seat, feel comfortable, relax. I want to thank everyone in LA for a wonderful week. It’s been great here. You know what? It’s been ten years since the last time I played Los Angeles, if you can imagine. I know! I know, I’ve been gone for a very long time. And unbeknownst to you, it was a difficult ten years. I’m not gonna take you through all the agony I’ve been through, but it was tough. Some of it you might’ve seen.\\nI don’t know if you ever saw on TMZ the big headline: “Dave Chappelle Drunk Onstage in Detroit.” Well, if you saw it, I wasn’t drunk. I had smoked some reefer… with some rappers. Yeah. I don’t know if you know anything about hanging out with rappers, but their weed is very strong, stronger than I what I was accustomed to. The article goes on to say I was booed offstage, which is also incorrect. I was booed. I did not leave. It was a long bomb. It was a fucking nightmare. Two puffs of weed, that’s all it was. Two puffs. I never had that happen, where I take two puffs of weed, I looked at the guy next to me, I was like, “I’m gonna bomb, nigga. I can feel it.” And that guy called my name. “Dave Chappelle!” Niggas was like… Normally, when you do a comedy show– you guys don’t know what it looks like up here, but niggas be just looking up at you like… That’s how the show started. Didn’t take long for their faces to switch up like, “What the fuck?” They started looking amongst themselves. So I knew I wasn’t doing good. I don’t remember what I was saying. It just took one person to break the ice. It was a black lady with a Ford Motor shirt on. Stood up suddenly. “Fuck you, Dave Chappelle!” I said, “Excuse me?” She said, “I worked all week for this shit, and this show sucks!” And in a weird act of racial harmony, a conservative white guy stood up and backed her up. “Yeah!” The whole crowd banded together and started chanting, “We want our money back! We want our money back!” I said, “Oh, shit.” I snapped out of it. “Good people of Detroit, hear me. Hear me now. You will never get your fucking money back.” Fuck that. I said, “I’m like Evel Knievel. I get paid for the attempt. I didn’t promise this shit would be good.” “Boo!” They said, “Fuck you!”\\nThis went on for a long time. And then, after the show, I felt so bad, I took half of the money from the show– thousands of dollars– I said, “I’m gonna give this to charity.” You know what I did? I bought $25,000 worth of bubble gum and drove around Detroit and handed it out to the homeless so they could chew it and still be hungry. I was very mad at Detroit that night. Because not only did I bomb, I had to go back to the very same room the next night and do it all over again. Fucking nightmare.\\nThat would be like if you were having sex with a woman and, for some reason– this would never happen– but for some reason, she had a mousetrap in her pussy. You get caught in the trap. And then you’ve got to fuck her again tomorrow night. I’d still do it, but I’d be careful the next time. The old mousetrap-in-the-pussy trick, eh? Fool me once. Yeah. Yeah, it was a tough time. And I wanted to give up sometimes. I almost did give up, but then, right before I gave up, I decided not to. But I made the call. They answered the phone. “Hello? Dancing with the Stars.” I said, “Not yet. Not yet.” Yeah. If you see me on that shit, it’s over. Trust me. My spirit is broken. If you see me waiting for them judges… getting critiqued on my cha-cha, fuck that.',\n",
       " 'I’ve been hanging out in– I haven’t been working in LA, but I come out here and hang out and shit. I was out here a few weeks ago. I almost got arrested. I’m not bullshitting. This happens to a lot of black people. What happened was… I was coming out of one of those nightclubs in Hollywood, and my friend saw me. I guess I was wobbling or something. So, he just rolled up. He’s a good friend of mine. He’s like, “Hey, Dave, give me the keys.” I was like, “All right, nigga, just take the keys.” And I got in the passenger’s side of my car, and he drove it. It was fine. Just talking, chopping it up. And then, on the 10, the blue-and-whites hit us. Now, I should tell you, the friend that was driving me was black, which really doesn’t have anything to do with the story other than to let you know there was fear in the car. Not my fear. I’m black, but I’m also Dave Chappelle. So, I figured, you know, shit will probably be fine. Traffic stop started off on the right foot. The cops came up to the driver’s side. “Hi. How are you guys doing tonight?” And he recognized me immediately. “Oh. Dave Chappelle.” And I looked at my friend like, “We’re getting out of this shit.” And then he says, “You guys were swerving in the lane. Do you mind just stepping out of the car for a second?” Still no cause for alarm. I looked through the rearview mirror. The body language of the arrest looked good. Just talking. So, then I started fucking with the radio. You know a traffic stop is going good if you’re listening to the radio when someone else is outside of the car. But then, when I looked back in the rearview mirror, something had gone horribly wrong. That motherfucker was back there like… And the next thing I knew, they were stuffing him in the back of the car, and I thought what anybody would think in a situation like that: “Oh, my God. What is gonna happen to me?” And the police walked up to the window. “Mr. Chappelle, we had to arrest your friend. He refused to take our breathalyzer test.” I said, “That motherfucker. Not complying? That’s odd. So, officer, what’s gonna happen to me?” “You’re fine. We’re just gonna have to ask you to step out of the car so we can impound the vehicle, and we’ll arrange for you to have a ride home.” I said, “Oh, well, no. I would rather you just give me the keys.” He said, “Mr. Chappelle, your friend already told us he’s your designated driver. We can’t let you drive in this condition.” I was like, “No, nigga, I’m good.” And then suddenly, the shit turned into Vegas. He was like… “I’ll let you blow for it.” I said, “Excuse me?” He said, “If you blow in my breathalyzer–” I said, “Oh, nigga, I thought you was trying to get your dick sucked. What’s the– Whew! Whew!” “If you blow in my breathalyzer and pass, I’ll give you the keys to the car.” I said, “Uh… set ’em up, nigga. Let’s play.” And I blew in that thing. And it made a noise. “Beep!” I said, “Uh-oh.” And he looked at it. He said, “Oh, well, Mr. Chappelle, I guess you’re free to go.” I said, “I am?” I didn’t know that thing didn’t pick up weed. I drove home on the miles an hour. Yeah, it all worked out. It all worked out. I’m one of the lucky ones.\\nIt doesn’t work out that well for everybody. I saw that videotape of that lady that got beat up in LA in traffic. You see that shit on rush hour traffic? They beat a black woman’s ass. This woman didn’t even do anything wrong. It’s fucked up. It was so fucked up, it didn’t even go to court. The City of L.A. just gave that woman $1.5 million for her pain and suffering. That is not bad, considering that’s the same amount of money that Marcos Maidana made to fight Floyd Mayweather the second time. And this woman obviously hasn’t trained a day in her life. You can see it on the tape. She didn’t come to fight. Her guards were low. She was taking a lot of shots.',\n",
       " 'Everybody’s mad at police now. I watched that– You see that shit on Netflix, Making a Murderer? The Steven Avery story. If you haven’t seen it, check it out. Steven Avery is in more trouble than any white person in the history of the United States has ever been in! In a justice system designed for him to thrive, he’s failed miserably twice. I can’t even wrap my mind around it. If Making a Murderer was about a black dude, that shit would be called Duh! Of course everything would go wrong. Seems like he did it, all right. The motherfucker even had $200,000 for his legal defense. That should get you off in Wisconsin. That’s like OJ money. All he needed to get off that he didn’t have was a single black juror. That’s all it would’ve took. Because only a black dude in the United States can look at other dudes and be like, “I think the police did this shit.” He’s fucked up in the game. That’s how OJ got off.']"
      ]
     },
     "execution_count": 33,
     "metadata": {},
     "output_type": "execute_result"
    },
    {
     "data": {
      "application/javascript": [
       "\n",
       "            setTimeout(function() {\n",
       "                var nbb_cell_id = 33;\n",
       "                var nbb_unformatted_code = \"# Looking at a particular standup \\ndata[\\\"age_spin\\\"][:4]\";\n",
       "                var nbb_formatted_code = \"# Looking at a particular standup\\ndata[\\\"age_spin\\\"][:4]\";\n",
       "                var nbb_cells = Jupyter.notebook.get_cells();\n",
       "                for (var i = 0; i < nbb_cells.length; ++i) {\n",
       "                    if (nbb_cells[i].input_prompt_number == nbb_cell_id) {\n",
       "                        if (nbb_cells[i].get_text() == nbb_unformatted_code) {\n",
       "                             nbb_cells[i].set_text(nbb_formatted_code);\n",
       "                        }\n",
       "                        break;\n",
       "                    }\n",
       "                }\n",
       "            }, 500);\n",
       "            "
      ],
      "text/plain": [
       "<IPython.core.display.Javascript object>"
      ]
     },
     "metadata": {},
     "output_type": "display_data"
    }
   ],
   "source": [
    "# Looking at a particular standup\n",
    "data[\"age_spin\"][:4]"
   ]
  },
  {
   "cell_type": "markdown",
   "metadata": {},
   "source": [
    "## Cleaning The Data"
   ]
  },
  {
   "cell_type": "markdown",
   "metadata": {},
   "source": [
    "When dealing with numerical data, data cleaning often involves removing null values and duplicate data, dealing with outliers, etc. With text data, there are some common data cleaning techniques, which are also known as text pre-processing techniques.\n",
    "\n",
    "With text data, this cleaning process can go on forever. There's always an exception to every cleaning step. So, we're going to follow the MVP (minimum viable product) approach - start simple and iterate. Here are a bunch of things you can do to clean your data. We're going to execute just the common cleaning steps here and the rest can be done at a later point to improve our results.\n",
    "\n",
    "**Common data cleaning steps on all text:**\n",
    "* Make text all lower case\n",
    "* Remove punctuation\n",
    "* Remove numerical values\n",
    "* Remove common non-sensical text (/n)\n",
    "* Tokenize text\n",
    "* Remove stop words\n",
    "\n",
    "**More data cleaning steps after tokenization:**\n",
    "* Stemming / lemmatization\n",
    "* Parts of speech tagging\n",
    "* Create bi-grams or tri-grams\n",
    "* Deal with typos\n",
    "* And more..."
   ]
  },
  {
   "cell_type": "code",
   "execution_count": 34,
   "metadata": {},
   "outputs": [
    {
     "data": {
      "text/plain": [
       "'age_spin'"
      ]
     },
     "execution_count": 34,
     "metadata": {},
     "output_type": "execute_result"
    },
    {
     "data": {
      "application/javascript": [
       "\n",
       "            setTimeout(function() {\n",
       "                var nbb_cell_id = 34;\n",
       "                var nbb_unformatted_code = \"# Let's take a look at our data again\\nnext(iter(data.keys()))\";\n",
       "                var nbb_formatted_code = \"# Let's take a look at our data again\\nnext(iter(data.keys()))\";\n",
       "                var nbb_cells = Jupyter.notebook.get_cells();\n",
       "                for (var i = 0; i < nbb_cells.length; ++i) {\n",
       "                    if (nbb_cells[i].input_prompt_number == nbb_cell_id) {\n",
       "                        if (nbb_cells[i].get_text() == nbb_unformatted_code) {\n",
       "                             nbb_cells[i].set_text(nbb_formatted_code);\n",
       "                        }\n",
       "                        break;\n",
       "                    }\n",
       "                }\n",
       "            }, 500);\n",
       "            "
      ],
      "text/plain": [
       "<IPython.core.display.Javascript object>"
      ]
     },
     "metadata": {},
     "output_type": "display_data"
    }
   ],
   "source": [
    "# Let's take a look at our data again\n",
    "next(iter(data.keys()))"
   ]
  },
  {
   "cell_type": "code",
   "execution_count": 35,
   "metadata": {},
   "outputs": [
    {
     "data": {
      "text/plain": [
       "['This is Dave. He tells dirty jokes for a living. That stare is where most of his hard work happens. It signifies a profound train of thought, the alchemist’s fire that transforms fear and tragedy into levity and livelihood. Dave calls that look “the trance.” ♪ Play me ♪ ♪ Buy me ♪ ♪ Workinonit ♪ ♪ Tune up ♪ ♪ Tune ♪ ♪ Oh ♪ ♪ Fade me ♪ ♪ Ah-ah, ah-ah, ah-ah ♪ ♪ In every ghetto ♪ ♪ Ah-ah, ah-ah, ah-ah ♪ ♪ In every ghetto ♪ ♪ Ah-ah, ah-ah, ah-ah ♪ ♪ In every ghetto ♪ ♪ Ah-ah, ah-ah, ah-ah ♪ ♪ In every ghetto ♪ ♪ Ah-ah, ah-ah, ah-ah ♪ ♪ In every ghetto ♪ ♪ Ah-ah, ah-ah, ah-ah ♪ ♪ In every ghetto ♪ ♪ Ah-ah, ah-ah, ah-ah ♪',\n",
       " 'Thank you! Thank you very much! Thank you all. Oh, wow. That was exciting, wasn’t it? Thank you, guys. Have a seat, feel comfortable, relax. I want to thank everyone in LA for a wonderful week. It’s been great here. You know what? It’s been ten years since the last time I played Los Angeles, if you can imagine. I know! I know, I’ve been gone for a very long time. And unbeknownst to you, it was a difficult ten years. I’m not gonna take you through all the agony I’ve been through, but it was tough. Some of it you might’ve seen.\\nI don’t know if you ever saw on TMZ the big headline: “Dave Chappelle Drunk Onstage in Detroit.” Well, if you saw it, I wasn’t drunk. I had smoked some reefer… with some rappers. Yeah. I don’t know if you know anything about hanging out with rappers, but their weed is very strong, stronger than I what I was accustomed to. The article goes on to say I was booed offstage, which is also incorrect. I was booed. I did not leave. It was a long bomb. It was a fucking nightmare. Two puffs of weed, that’s all it was. Two puffs. I never had that happen, where I take two puffs of weed, I looked at the guy next to me, I was like, “I’m gonna bomb, nigga. I can feel it.” And that guy called my name. “Dave Chappelle!” Niggas was like… Normally, when you do a comedy show– you guys don’t know what it looks like up here, but niggas be just looking up at you like… That’s how the show started. Didn’t take long for their faces to switch up like, “What the fuck?” They started looking amongst themselves. So I knew I wasn’t doing good. I don’t remember what I was saying. It just took one person to break the ice. It was a black lady with a Ford Motor shirt on. Stood up suddenly. “Fuck you, Dave Chappelle!” I said, “Excuse me?” She said, “I worked all week for this shit, and this show sucks!” And in a weird act of racial harmony, a conservative white guy stood up and backed her up. “Yeah!” The whole crowd banded together and started chanting, “We want our money back! We want our money back!” I said, “Oh, shit.” I snapped out of it. “Good people of Detroit, hear me. Hear me now. You will never get your fucking money back.” Fuck that. I said, “I’m like Evel Knievel. I get paid for the attempt. I didn’t promise this shit would be good.” “Boo!” They said, “Fuck you!”\\nThis went on for a long time. And then, after the show, I felt so bad, I took half of the money from the show– thousands of dollars– I said, “I’m gonna give this to charity.” You know what I did? I bought $25,000 worth of bubble gum and drove around Detroit and handed it out to the homeless so they could chew it and still be hungry. I was very mad at Detroit that night. Because not only did I bomb, I had to go back to the very same room the next night and do it all over again. Fucking nightmare.\\nThat would be like if you were having sex with a woman and, for some reason– this would never happen– but for some reason, she had a mousetrap in her pussy. You get caught in the trap. And then you’ve got to fuck her again tomorrow night. I’d still do it, but I’d be careful the next time. The old mousetrap-in-the-pussy trick, eh? Fool me once. Yeah. Yeah, it was a tough time. And I wanted to give up sometimes. I almost did give up, but then, right before I gave up, I decided not to. But I made the call. They answered the phone. “Hello? Dancing with the Stars.” I said, “Not yet. Not yet.” Yeah. If you see me on that shit, it’s over. Trust me. My spirit is broken. If you see me waiting for them judges… getting critiqued on my cha-cha, fuck that.',\n",
       " 'I’ve been hanging out in– I haven’t been working in LA, but I come out here and hang out and shit. I was out here a few weeks ago. I almost got arrested. I’m not bullshitting. This happens to a lot of black people. What happened was… I was coming out of one of those nightclubs in Hollywood, and my friend saw me. I guess I was wobbling or something. So, he just rolled up. He’s a good friend of mine. He’s like, “Hey, Dave, give me the keys.” I was like, “All right, nigga, just take the keys.” And I got in the passenger’s side of my car, and he drove it. It was fine. Just talking, chopping it up. And then, on the 10, the blue-and-whites hit us. Now, I should tell you, the friend that was driving me was black, which really doesn’t have anything to do with the story other than to let you know there was fear in the car. Not my fear. I’m black, but I’m also Dave Chappelle. So, I figured, you know, shit will probably be fine. Traffic stop started off on the right foot. The cops came up to the driver’s side. “Hi. How are you guys doing tonight?” And he recognized me immediately. “Oh. Dave Chappelle.” And I looked at my friend like, “We’re getting out of this shit.” And then he says, “You guys were swerving in the lane. Do you mind just stepping out of the car for a second?” Still no cause for alarm. I looked through the rearview mirror. The body language of the arrest looked good. Just talking. So, then I started fucking with the radio. You know a traffic stop is going good if you’re listening to the radio when someone else is outside of the car. But then, when I looked back in the rearview mirror, something had gone horribly wrong. That motherfucker was back there like… And the next thing I knew, they were stuffing him in the back of the car, and I thought what anybody would think in a situation like that: “Oh, my God. What is gonna happen to me?” And the police walked up to the window. “Mr. Chappelle, we had to arrest your friend. He refused to take our breathalyzer test.” I said, “That motherfucker. Not complying? That’s odd. So, officer, what’s gonna happen to me?” “You’re fine. We’re just gonna have to ask you to step out of the car so we can impound the vehicle, and we’ll arrange for you to have a ride home.” I said, “Oh, well, no. I would rather you just give me the keys.” He said, “Mr. Chappelle, your friend already told us he’s your designated driver. We can’t let you drive in this condition.” I was like, “No, nigga, I’m good.” And then suddenly, the shit turned into Vegas. He was like… “I’ll let you blow for it.” I said, “Excuse me?” He said, “If you blow in my breathalyzer–” I said, “Oh, nigga, I thought you was trying to get your dick sucked. What’s the– Whew! Whew!” “If you blow in my breathalyzer and pass, I’ll give you the keys to the car.” I said, “Uh… set ’em up, nigga. Let’s play.” And I blew in that thing. And it made a noise. “Beep!” I said, “Uh-oh.” And he looked at it. He said, “Oh, well, Mr. Chappelle, I guess you’re free to go.” I said, “I am?” I didn’t know that thing didn’t pick up weed. I drove home on the miles an hour. Yeah, it all worked out. It all worked out. I’m one of the lucky ones.\\nIt doesn’t work out that well for everybody. I saw that videotape of that lady that got beat up in LA in traffic. You see that shit on rush hour traffic? They beat a black woman’s ass. This woman didn’t even do anything wrong. It’s fucked up. It was so fucked up, it didn’t even go to court. The City of L.A. just gave that woman $1.5 million for her pain and suffering. That is not bad, considering that’s the same amount of money that Marcos Maidana made to fight Floyd Mayweather the second time. And this woman obviously hasn’t trained a day in her life. You can see it on the tape. She didn’t come to fight. Her guards were low. She was taking a lot of shots.',\n",
       " 'Everybody’s mad at police now. I watched that– You see that shit on Netflix, Making a Murderer? The Steven Avery story. If you haven’t seen it, check it out. Steven Avery is in more trouble than any white person in the history of the United States has ever been in! In a justice system designed for him to thrive, he’s failed miserably twice. I can’t even wrap my mind around it. If Making a Murderer was about a black dude, that shit would be called Duh! Of course everything would go wrong. Seems like he did it, all right. The motherfucker even had $200,000 for his legal defense. That should get you off in Wisconsin. That’s like OJ money. All he needed to get off that he didn’t have was a single black juror. That’s all it would’ve took. Because only a black dude in the United States can look at other dudes and be like, “I think the police did this shit.” He’s fucked up in the game. That’s how OJ got off.',\n",
       " 'I’ve been watching that new OJ show. I can’t get enough of that shit. Doesn’t it bring back good memories? But I forgot just how polarizing that OJ case was. And you know, I’ve met OJ Simpson on four different occasions in my life. And before the end of the show, I will tell you about each of those occasions. The first time I met OJ Simpson, I was in Santa Monica. -Santa Monica! -Yeah! I can’t believe a black dude was like, “Santa Monica!” You the last nigga I would expect to say that. Let me see your shoes. You got some Vans on, nigga? What you got? “Santa Monica!” You? At the time, I was . I had done a show, and the guy from the club came up and was like, “Hey, OJ Simpson’s here, and he said he wants to meet you.” I said, “What? Fuck yeah!” I ran down the steps, and OJ was down there. He’s like, “Hey, young man. How are you? It’s very good to meet you. And you’re doing really good work, and I hope good things happen for you in your life.” I was like, “Man, thanks, Mr. Juice.” Standing beside him, was– I don’t know the nice way to say this– his soon-to-be-slain wife. Ladies and gentlemen, man the fuck up, or you’re not gonna make it to the end of this show. Just man the fuck up. She’s dead. We already know what happened. We don’t know who did it, but we know what happened. I should tell you, that woman was very nice to me. She actually embraced me. She said, “I think you’re adorable,” and she hugged me. She goes, “Good luck to you,” and she held me for a long time. And I whispered in her ear, “Bitch, are you trying to get us both killed?” I’m just kidding. I didn’t say that, but… that was the first time, in a nutshell.',\n",
       " 'It’s good to see so many… so many different people here from so many different ethnicities. Very diverse crowd. Looks like you thought Bernie Sanders was gonna come out in this motherfucker. But… surprise! It’s me. Yeah. Yeah, you know, I’m happy, really, to see black people come. A lot of black people don’t fuck with me like they used to. But there’s a few reasons you don’t see black people at my shows. One is because, obviously, black people have slower Internet connections. I mean, that would be my guess. I don’t know what– Actually, my own actions drew a wedge between me and the community I hold so dear.',\n",
       " 'A couple of weeks ago, I was supposed to be in Flint, Michigan, for a charity benefit that was supposed to raise awareness for the appalling condition of the water in Flint. I don’t know if you know this, but the water in Flint is fucking poisonous. It’s actually making people sick. Hollywood people are like, “So what? At least they have water.” But this water– this water is fucked up. So, a lot of black celebrities flew into Flint, and they did a tremendous charity benefit, and I was on the schedule to appear.\\nUh… So, the reason a lot of people haven’t heard about this benefit– it was the same day as the Oscars. Right, I know. So, I was on my way to the airport to go to Flint, and then Chris Rock calls me and is like, “Hey, Dave, I got a ticket for you for the Oscars. Can you make it?” And I was like, “Sure, nigga. I’m on my way to the airport right now.” Come on, man. What am I gonna do about that water? What am I, a fucking superhero? I need to have fun. I need to live, too! I didn’t fuck that water up! Stevie Wonder was there. They didn’t need me. I’m sorry, everybody. I’d never been to the Oscars. You’ve seen the movies I make. I was excited.\\nI knew I was gonna get into some trouble, because when I was walking on the red carpet, the black press came after me. “Excuse me, brother.” When you hear somebody call you “brother” too much, something terrible is about to happen. “Excuse me, brother. Brother?” And I looked back, and the motherfucker had a tuxedo with the kente cloth tie. I said, “Uh-oh.” He said, “I just want to ask you a couple questions.” I said, “What publication are you with?” He said, “Me? I’m with The Daily Bongo.” I said, “Daily Bongo? What the fuck? Who the fuck reads this?” He said, “Listen, brother, I just want to ask you a quick question. You understand that this year, this is a boycott for the Oscars. So, I’m just wondering what made you, of all people, cross the motherfucking picket line and be here tonight.” I said, “Boycott? Nigga, I haven’t been working in ten years. What do you mean, boycott? I’ve been on strike. Y’all niggas didn’t stop working. I had to watch fucking Key and Peele do my show every night! So, fuck The Daily Bongo,” is what I said. I went to the Oscars and had a wonderful time. I went in that fucking green room. It was filled with so many stars, I couldn’t even believe what I was seeing. Hollywood was seducing me all over again. I was sitting back there. I’m smoking, drinking with the stars.\\nAnd then two Hollywood movie producers came over, right to me. “Oh, my God. Dave Chappelle,” said the leader one. He was obviously gay. Some guys, you can just tell. The other one seemed like a money guy. Maybe he was from Texas or some shit. But the gay one was definitely the leader because he did all the talking. And then he hit me with: “So, David, um… do you have any movie ideas that you would like to pursue?” The truth is, I don’t. But if you know the game, you’re not supposed to tell motherfuckers you don’t have ideas. I was like, “Yeah, man. I got plenty of ideas.” And he called my bluff. “Really? Like what?” “Huh? Oh. Um… um…”\\nAnd then I just started making up shit that I thought maybe he’d like to see. I said, “I have a superhero idea.” He goes, “Really?” I go, “Yeah. He’s a– He’s a gay superhero.” He was like, “Really?! What’s it called?” “Huh? Oh, it’s called– It’s called Same Hero, New Boots. It’s about a gay sous-chef in San Francisco… that gets bit by a radioactive rat on his shift when he’s taking out the trash and is blessed with powers beyond his wildest dreams, supersonic gay kind of powers. And he starts saving everybody in San Francisco. But at first, he only saves gay people. Later, he saves everybody, and the whole city just falls in love with him. The only problem is, no one remembers him when he saves them.” “Well, I don’t understand. Why wouldn’t they remember him?” I said, “Because, dummy, he’s gay. He keeps changing his outfit. People come up– ‘Thanks for saving me, sir. What’s your name anyway?’ He’s like, ‘Same Hero, New Boots!’ And that motherfucker flies away.”\\nHe was like, “I like it a lot.” The Texan didn’t like that shit at all. He was upset. “That’s impossible, a gay superhero.” I said, “What? Well, I have others. I have a superhero you’d love, ’cause he’s stronger than Superman and he fights for truth, justice and the American way, like Superman, but more than Superman. He beats up Mexicans for no reason.” The Texan’s like, “You got my attention.” I’m like, “Man, this motherfucker’s so strong, he can fly and do all this great shit. Only problem with this guy is he can’t even activate his powers unless he touches– unless he touches a woman’s vagina. Not a long touch, just a couple of pats.” He said, “Well, what’s the problem with that?” I said, “The problem, sir, is that our hero is not a handsome man. And he’s often short on cash. So, whenever trouble breaks out, he has to run around the city and convince women to let him pat their vaginas. ‘Please, miss! That building’s on fire. Can I pat your vagina? Quickly. People are dying!’ But he can’t tell them exactly why. ‘Eww! Get away! You’re gross!’ ‘Please, miss! People are dying! Just a couple of pats!’ ‘Eww! Gross! Get away!’ So, he rapes them.\\nI know, I know. That’s the dilemma for the audience. Because he rapes, but he saves a lot of lives. And he saves way more than he rapes, and he only rapes to save. But he does rape.” I didn’t realize it, but the whole green room was looking at us. All the celebrities were disgusted. “Ohh.” That guy from Texas was like, “Here’s my card. Call me on Monday.” That worked out.',\n",
       " 'The second time I met OJ Simpson. It was right after the trial of the century. There I was, now a young man of probably 23. OJ Simpson was the most famous, or infamous, face on planet Earth. I was in a restaurant in Beverly Hills with my agents. I wasn’t alone in the restaurant, but I was alone. I was the only black person in the restaurant. And in the 90’s, that felt very uncomfortable. Now I tend to enjoy it at this age. I was having dinner with my agents, celebrating a deal that they told me was lucrative, but I later learned fucking sucked. And suddenly, a group of women walked by. Every race was in that group. Black, white, Asian, Latina, white, white… and white again. They were all gorgeous. I watched them walk by. Then I saw a familiar face. Al Cowlings, the man from the infamous Bronco chase, walked by and embraced one of the women, and they walked towards the door. Couldn’t believe what I saw. And then, close behind him, was OJ Simpson, newly released from jail. The restaurant fell still. I was shocked. I didn’t mean to say it out loud, but it just came out. “OJ!” He stopped, turned around to see who said it, saw my black face and correctly assumed it was me. I was sitting in the corner of the booth. He leaned over all the white people I was having dinner with and shook my hand. “How are you, young man?” He looked in my eyes, and I could see in his eyes that he didn’t remember meeting me the first time. And then he walked away. And I looked back at my agents, and all of them had nothing short of disgust on their faces. And the only one with the courage to voice their disgust was a woman named Sharon who used to represent me. “How could you?” she said. “How could you shake hands with that murderer?” I said, “Sharon, with all due respect, that murderer ran for over 11,000 yards. And he was acquitted. So, you know, fuck it. The glove didn’t fit. The glove didn’t fit. Get over yourself.” Some people can’t do that.',\n",
       " 'Some people just can’t get over themselves. Gay people have a hard time doing that recently. Here we go. Here comes the deep water. No, recently I’ve noticed that. I noticed it with that Manny Pacquiao controversy. Yeah, it was– Now, in the gay community’s defense, Manny Pacquiao said some outlandish shit about gay people, very not nice things that I won’t repeat, but there was biblical verses and some analogies to animals. It wasn’t a good look. Nike took his shoes immediately. Which I thought was a little harsh. A little harsh, you know what I mean? Just ’cause he’s Asian. You know what I mean? How the fuck are you gonna take the shoes off an Asian dude to appease a gay dude? You know what I mean? No? You don’t know what I mean. But Asian people kind of know what I mean. No? No Asians in the front? No? No, this is what I mean. Look, you’re an Asian dude– I say this with no disrespect.\\nWe’re all Americans, right? And we can agree that America has a huge body count all over the world, but nowhere more than Asia. Literally, if you look at history, recently, we have bombed the masculinity out of an entire continent. We dropped two atomic bombs on fucking Japan, and they’ve been drawing Hello Kitty and shit ever since. There’s a lot of lady-boys in the wake of our bombs. And I know these things because my wife is Asian. She’s Filipino. All right, okay. So, that explains it. Now you know why you see me at all those Filipino events. I’m not there picking up pussy. I’m dropping some off. I take my wife to all that shit. I took my wife to see Pacquiao fight Mayweather. We sat ringside, okay? That– Yeah, that was a quiet car ride home, that’s what that was.\\nBut if you know what’s popping in the Philippines, you know that they got a whole generation of kids in the Philippines growing up without their mothers. Yes. A lot of women in the Philippines go to the Arabian Peninsula, they come to the United States, they make all their money here, they send all that money back home, which is still one of the number-one staples in the Philippines’ economy– money that the expats send back to the Philippines. The men, on the other hand, are left rearing children, twiddling their thumbs, waiting on their wives’ checks. These men have been fucking emasculated.\\nAnd then suddenly, a boxer rises from amongst them and reinstates their manhood with his motherfucking fist. This is not the guy you’re supposed to ask, “What do you think of homosexuals?” He’s not your champ. Shit. That’s why I don’t have a sneaker deal, ’cause if you say something that people don’t like, they’ll take your fucking shoes off.\\nIf Martin Luther King had a sneaker deal, we’d still be on the back of the bus. It’s true. The Nike exec would come up– “Hi, Martin. Uh… we need you to tone down the talk of civil rights and blacks being humans. It’s upsetting our Southern distributors.” “But I don’t understand. I thought that’s why I had a sneaker deal in the first place.” “Not quite. Really, it’s a walking shoe. And we like the marching, but… Try to understand.” Fuck that shit.\\nYou know, I get it, though. I understand why gay people are mad, and I empathize. You know what? I’m just telling you this as a black dude. I support your movement. But if you want to take some advice from a Negro, pace yourself. These things take a while. Just ’cause they passed the law doesn’t mean they’re gonna like it. Brown v. Board of Education was in.',\n",
       " 'Somebody called me a nigger in traffic last Wednesday. It takes a minute. My wife’s friend Stewart told me that. My wife has a lot of gay friends. Stewart’s their leader. She has a lot of gay friends. And I don’t like ’em. Not ’cause they’re gay. I’m just judging them on the merits of their character. They’re just not nice dudes. They’re fucking rude houseguests. They’re sitting on my couch, giggling with my wife, eating my motherfucking macaroons. Then I come in, and they act like the party’s over. “Hey, Stewart. What’s going on?” This guy talks to me the way a cat would speak if a cat could talk. “Hi, David.” “Stewart, what’s all the beef, man? What’s going–” He always wants to have some kind of gay political argument. The last one was about a petition in federal court to take the words “husband and wife” out of the law. I said, “Why would you want those words out of the law?” He said, “Because it discriminates against same-sex couples.” I was like, “Niggas, please, save me the semantics. Just trust me. Take your chips and get the fuck out of the casino. You’re about to crap out! Just go outside, talk that over amongst yourselves, and whichever one of you is gayer, that’s the wife.” No, no. Stewart didn’t like that. Stewart educates me about this movement. I didn’t even know shit about it. He told me it’s called “LBGTQ!” I was like, “What the fuck is the ‘Q’?” Does that even make sense? “Q”? Turns out “Q” is like the vowels. That shit is sometimes “Y.” It’s for gay dudes that don’t really know they’re gay. Like prison fags who are like, “What? I’m not gay, nigga. I’m just sucking these dicks to pass the time. I’m not ‘G.’ I’m ‘Q.’ Ugh.” I think– Okay, again, of all those letters, the “T” has the toughest road ahead. In fact, I think the “T” should stand for “Tough road ahead.”',\n",
       " 'They’ve got the longest mental gap to bridge. That’s all I’m saying. Because whenever I see one of them Ts on the street, I don’t mind them, but I’ll be like, “Man, I miss Bruce.” I’m sorry, guys. I’m 42. I remember Bruce Jenner. Before the Kardashians, before all that, this motherfucker was a white American superhero. It was amazing. He was beating Africans at track and field. We’d never seen anything like it. He was on my cereal box growing up. You know how much of that cereal I ate? Nigga, I didn’t know he was gonna do that. I knew before you guys knew. I heard things on the street in Hollywood. You’d just be out, see people. “Hey, what’s up, Kanye? Why the long face?” “Nigga, you’ll see. I got two mother-in-laws now.” And when I heard he was gonna do it, I was scared. I didn’t think the public was ready. I didn’t think the media was ready. And you know what? I was wrong. Not only did the public embrace him, but the media was nice. I’d never seen anything like it. “Welcome to the world, Caitlyn. So long, Bruce. Hello, Caitlyn.” I was shocked! Is this happening?\\nWait a minute. Is this a time in American history where an American can make a decision for themselves, and even though other Americans don’t understand it, they’ll support it and let this person live a happy life? Is this what’s happening? If it is, then good for America. That’s Dave Chappelle, the American. Although, Dave Chappelle, the black American, he was a little jealous. I was like, “How the fuck are transgender people beating black people in the discrimination Olympics?” If the police shot half as many transgenders as they did niggas last year, there’d be a fucking war in LA. I know black dudes in Brooklyn– hard street motherfuckers– that wear high heels just to feel safe. Transgenders are gangsters. I used to do business with a transgender in Hollywood. Man, everybody would be scared of her in the boardroom. She’d walk in there, newly-minted woman, high heels, purse. Wouldn’t say anything to us, just walk around the conference table, looking mean and shit. Then she’d walk to the head of the conference table, stare at us all, reach in her purse, pull her old dick out and throw it on the table. “Let’s talk business, gentlemen.” “Aaah!” Shit is scary as fuck. If your best friend pitched that to you, you’d be horrified. “Yo, nigga, let’s go to the hospital and cut our dicks off and make pussies out of them shits.” “What?! Can’t we just get matching jackets or tattoos or something? You sure that’s what you want to do?” “There’s only way to find out, nigga. Wu-Tang! Pow! Pow! Let’s go to the club and trick niggas into fucking us. Yeah.”',\n",
       " 'The third time I met OJ Simpson— The third time I met OJ Simpson, I was doing great in life. I’d just finished the second season of Chappelle’s Show. Man, those were good days. I was playing a comedy club in Miami, The Improv. I don’t know if you’ve ever been, but if you have, you’d know the door for the green room is right on the stage. Can you imagine such a thing? If I walked out of the door of the green room, bam, I was right here, right from the dressing room. And I did that. I walked out, and the whole crowd was like, “Hooray!” And I looked– ma’am, as close as you are to me– I saw him as soon as I came out: The Juice. And I saw recognition in his eyes, and it filled me with pride that he knew who I was. I didn’t acknowledge his presence because it was a white audience, and I didn’t want to start a panic. But I did my show. The show went great. I said, “Good night, everyone.” They all said, “Yay!” And I didn’t say nothing to OJ, but I just gave him the signal to let him know I knew he was there. And I walked into the green room, and OJ was already in there! I was like, “How the fuck is this possible?” I was scared. And then my friends came in, and we all started talking. We sat down on the couch. And I’m just telling you what I saw with my own eyes. You can believe me or not believe me. But in my experience, OJ Simpson– one of the nicest men I’d ever met. He was nice to me. He was nice to my friends. The conversation was filled with warmth and levity, humor and wisdom. We talked for minutes, and then suddenly, the Juice said, “You know what? I’ve got to be going. But it’s good to see you again, and I’m glad things went so well.” I said, “Thanks, Juice.” And my friends said, “Yeah, goodbye, Mr. Juice.” They were new to the game. He said, “No. Thank you… for your hospitality. Good night, guys.“ And we said, “Good night.” And he just walked out of the room. And as soon as the door closed, we all looked at each other like, “That nigga did that shit. Did you feel that? I could feel like… murder in the room.”',\n",
       " 'Well, you young heads missed that shit. You’re all too young. You don’t remember that. -How old are you, young, man? You. -Twenty-four. Twenty-four? You don’t know shit. You don’t know shit! You gotta Google shit that I lived through. See, this is why I lock motherfuckers’ phones up. Seriously. Because the young kids, you guys need to take a break from that– We all need to break just from that technology, just for a minute. You know, I’m from a different time, young man. A dark time to you. I’m from a time that I didn’t even used to know who was on the phone until I answered the shit. Like, when tragedy used to strike.\\nI remember I was 12 years old, and the teacher wheeled a television set into the classroom. You remember these days? And she turned it on to one of three channels. And she said, “Class, the space shuttle is taking off, and we’re all gonna watch it take off.” Man, that shit was going great for like, three to five minutes. That’s right. You remember. It fucking exploded! Right on television. Everybody on board, dead. Immediately presumed dead. It was so bad, the teacher looked at all the kids and was like… “You can go home.” It was a goddamn national tragedy. This was Cold War America. The Russians were laughing at us.',\n",
       " 'My point is, for a guy your age wouldn’t even know the pain, because in your generation, it’s like the space shuttle blows up every fucking day. How can you care about anything when you know every goddamn thing? I’m getting over one cop shooting, and then another one happens, and then another one happens, and another one happens. I’m crying about Paris, and then Brussels happens. I can’t keep track of all this shit. So you just give the fuck up. That’s the hallmark of your generation, and that’s fucked up, because your generation lives in the most difficult time in human history. This is the age of spin. The age where nobody knows what the fuck they’re even looking at. Did you know that Planned Parenthood was for abortions? It’s for people that don’t plan things out at all. That’s right. So, a guy your age doesn’t really know how he feels. Are you pro-choice? Are you anti-consequences? What does it all really mean? It’s easier not to care for you. But for us, we were trained to care. We were raised that way.',\n",
       " 'I used to watch a fucking cartoon when I was growing up called Care Bears. It was about a fucking group of teddy-bear people. They were like teddy bears, but they were like people, and they were all different colors, and they all fucking just walked around, caring. They cared about each other and everything else. They all had different designs on their stomachs, and the designs told you something about what they might be like inside. Very, very loving group of beings. And when shit got real bad, as nice as those teddy bears were, they didn’t get mean faces. They got determined. Hmm! And the leader would say, “Come on, guys. It’s time for the Care Bear Stare!” Remember that shit? And them little teddy bears would lock arms… and stare at the problem– and I’m not even bullshitting– actual love would shoot out of their chests… and would dispel anything that was fucked up. And when we grew up, we wanted to be like those bears. And then we got our hearts broken, because we found out that life wasn’t gonna let us do that and that it’s impossible to shoot love out of your chest.',\n",
       " 'However, I have shot love onto somebody’s chest before. I do it all the time. It’s the next best thing. You kids don’t know. Your generation is just determined to be angry, mad. Everybody’s mad. Back when we were growing up, only black people were mad. Now everybody’s just trying to get in on the act. I try to think to myself, “When did everyone get mad?” And then I realize this happened before we were born. This is a long way to go, but… it probably started in the Second World War. Think about it. All these black men, millions of black men, leave the United States for the first time, go over to Europe with America’s Armed Forces and fight the Nazis and make more money fighting Nazis than they ever dreamed they would make in the United States. And a lot of those men, while they were in Europe– just to be real, not to be crass– a lot of them probably got their dicks sucked by white women. I’m sorry, ladies and gentlemen. This was World War II Europe, and these were desperate times, and penises were being sucked for shoelaces and chocolate and very frivolous things. And it’s very hard to come back to America and sit on the back of the bus after you’ve been in the South of France, getting your dick sucked for a Crunch bar or some crazy shit like that. That’s a life-changing experience. And while that was happening in Europe, here in America, for the first time, women entered the workforce en masse, by the millions. All the men were gone. Someone had to run the factory. The ladies did it. That’s right. This was the first generation of American women to have independent income en masse, and when the men came back, the women weren’t the same. American women had grown. They were uttering phrases that no woman on Earth had ever spoken before, things like, “No” and “Shut the fuck up” and “I don’t feel like it.”\\nAnd then behind the scenes of that, there was a little-known government agency that started testing mind control drugs on the American public. They fucked up. They tested it for 12 years. They didn’t realize these drugs were not mind-controlling. They were mind-expanding. It was LSD and mescaline and shit like that. And for the first time, there was a new school of thought that was chemically induced that made people question the very society they lived in. By 1960, the President of the United States was only 42 years old. Can you imagine? DMX is older than that. And he was gonna usher in a new era of peace. He was gonna avoid the Cold War. He was gonna end segregation. And they blew his fucking brains out in front of everyone in Dallas. This country was never the same. There were seven more major assassinations in the ’60s. Anyone that stood up and said anything was shot down in the streets like a fucking dog. Kennedy, Kennedy, King, X, Evers, on and on. You didn’t even have to be famous. You could be a college student at Kent State, or in Mississippi, protesting the Vietnam War, and they shot them, too.',\n",
       " 'The ’70s were a wild era. And while all this was going on… Bill Cosby raped 54 people. Holy shit. That’s a lot of rapes, man. This guy’s putting up real numbers. He’s like the Steph Curry of rape. Man, that’s a lot of rapes. Fifty-four? If he had raped less people… that’s still two dozen rapes! Don’t forget, each one of these rapes has eight hours of sleep in it. Ladies and gentlemen, that’s over hours of rape. It only takes hours to get a pilot’s license. If rapes were aircrafts, this nigga is Top Gun for sure.\\nYeah, that’s a tough one. And I was onstage not too long ago. I was in Syracuse, New York. Yeah. Well, yeah, for Syracuse. But the show didn’t go so good… all because I was talking about Bill Cosby a little bit. Not a little bit. I’ll be honest. I talked about him for like, minutes. And a woman stood up in the back of the room, and she screamed out, “You are a fucking asshole for saying these things!” “I know.” Instantly, I felt bad. Not bad about what I was saying. I just felt bad like, “Oh, that’s too bad she doesn’t like the show.” I didn’t realize it at first, but not only did she say that, she was rushing the stage. By the time I saw her, I just saw this shadowy figure fucking charging up the aisle towards me in full fight mode. I was horrified. I said, “Oh, my God! I’m gonna kick this bitch in the face.” Lucky for me, I didn’t have to. Security tackled her. But it was a really fucking horrifying scene. A scuffle ensued. And then, finally, she screamed out to me, “Women suffer!” I said, “I know.” And, ladies, I need you to know… that I know. I need you to know. Seriously, there’s a lot of men in this room that identify themselves as feminists. I would include myself in that. Don’t ever forget, we all have mothers and daughters and sisters and wives, and we want to see all these women do well and not be held back by their gender. There’s a lot of men like that in this room. There’s a lot of men like that in the world. Or as we are known on the streets, bitch-ass niggas. But as this woman was wrestling and screaming at me, I started to take offense. And I’ll be honest, race was involved. She was a young white woman. Well-intentioned, but just not thinking it all the way through. “Bitch, how the fuck are you going to yell at a black man about discrimination?” She didn’t get it. She just kept going. “Women suffer!” “I know.” “Women suffer!” “Same team.” “Women suffer!” “I know.” And this is when she went too far: “We suffer just like you.” “Slow your roll, bitch. You suffer, yes, but not like me. Not like us.” She goes, “Suffering is suffering. What’s the difference?” I said, “Come on, white woman, you know what it is. You was in on the heist. You just don’t like your cut.” You suffer, I suffer. You suffer, I suffer. That’s how it works.\\nCan’t do comparative suffering. If you’re hungry, and your friend says, “You know, people are starving in Africa,” “So what, nigga? I still want lunch.” Black people know about comparative suffering, and you know that it’s a fucking dead-end game. Blacks and Jews do that shit to each other all the time. You ever played Who Suffered More with a Jewish person? It’s a tough game. Whenever you think you’ve got the Jewish guy on the ropes, that motherfucker will be like, “Well, don’t forget about Egypt.” “Egypt?! God damn, nigga, I didn’t know we was going all the way back to Egypt.” What the fuck is wrong with her? What does she think? Does she think that I don’t know that rape is wrong? Does she think that maybe I don’t have empathy for Bill Cosby’s alleged victims? And I would be remiss if I didn’t remind you that technically these are all still allegations. Although, I admit it looks very bad. Perhaps if she looked at it correctly, she would have empathy for me, the man she was attacking, a 42-year-old black comedian.\\nObviously, Bill Cosby was a hero to me. And she doesn’t know what it feels like to think that your hero might’ve done something so heinous, my God, you can’t imagine. It’d be as if you heard that chocolate ice cream itself… had raped 54 people. You’d say to yourself, “Oh, man, but I like chocolate ice cream. I don’t want it to rape.” Didn’t want to believe it. At first, I didn’t believe it. I said, “These people are obviously trying to destroy Dr. Cosby’s rich legacy.” Even 34 allegations into it, I was still like, “Man… he probably only raped ten or 11 of those people.” I know, I know. But it’s really tough.',\n",
       " 'You guys are young. Imagine if you found out 40 years from now that Kevin Hart raped 54 people. You’d be like, “Oh, my God.” The only one that would believe that would be Katt Williams. He’d be like, “I knew that motherfucker was up to something! I knew Kevin had raped those people.” You know, I was mad at Kevin, too, though. You know why? Okay, first of all, I didn’t even know Kevin was as successful as he was. I found that shit out the hard way. I was at home when my son busted in. He said, “Dad, I need $250.” He’s only years old, so I freaked out. “What’s going on, nigga? Is somebody trying to kill you?” He said, “No, no. Kevin Hart’s coming to town, and I wanted to see his show.” I said, “How much are the tickets?” He said, “They’re $125.” I said, “God damn! Mine are only 80.” I said, “Why do you need $250, then?” He goes, “Because I want to go with you, Dad. Please? And there it is. So, I took him to the show. And we go, we sit right up front. The lights go down, and one opening act after another goes on. Then Kevin takes the stage. The crowd goes fucking nuts. Thousands of people. I was furious. The longer the show went on, the madder I got. Because his show was fucking outstanding. It was maddening. These people were fucking holding their stomachs. My son was slapping his knee. I’m like, “Damn, nigga, I do this, too.” Kevin says, “Good night.” The crowd goes crazy. And then everyone starts walking to his door, and the lights come on, and then my son is just standing there, looking at an empty stage. People are pushing past me, and nobody’s recognizing me. I’m like, “Man, this place fucking sucks!” I said, “Come on, son, let’s get out of here.” Then my son looks back at me and says, “Dad, please. Please, I have to meet him.” I was like, “Oh, my God.” So, I took him backstage. I’ve known Kevin for years, but can you believe I was scared to knock on his dressing room door? I almost said… “Son, I haven’t seen him for a long time.” And one of Kevin’s goons opened the door. “Hey, what’s up, Dave Chappelle? What are you doing, man? It’s good to see you, brother. What are you doing in this area? This is a terrible area.” I’m like, “Actually, I live around here. Listen… is Kevin here? My son just wanted to meet him real quick.” “I don’t know, ’cause Kevin’s about to eat dinner.” Just then, Kevin came around the corner to see who it was. “What? Oh, shit! What’s up, Dave? Come on back. I was just about to have dinner. I don’t know if you guys ate, but you’re welcome to join me if you’d like.” And then my son pushed passed me. It was some cold shit. He goes, “Actually, Mr. Hart, we haven’t eaten in several hours.” Man, Kevin took us into his back room. This guy had a fucking spread. It was Tuesday night. This motherfucker was having Sunday dinner. There were steaks, chops, corn with butter all over it. My son was eating all fast, embarrassing me. I was like, “Slow down, son.” He was like… Then I looked over in the corner, and there was a box of custom-made jerseys for the local team. Each one was hand-stitched, and on the back, they stitched on “K-Hart” on all of them. Kevin saw me staring at that box, and he went over and grabbed one of them jerseys, and he walked right to my son. He said, “Hey, little man. I want you to have this.” And my son was like, “Thanks, Mr. Hart.” This is when I got mad. He goes, “If your father ever makes you mad, put that on.” And he walked out. Oh, that was some cold shit. Then I realized– I looked up what Kevin made on Google. I couldn’t believe that shit. Kevin is the first comedian that a Drake song could be about. Kevin could walk around his house and sing “All Me,” and the whole song would still be true.',\n",
       " '“♪ Got everything, I got everything ♪ ♪ I cannot complain, I cannot ♪ ♪ I don’t even know How much I really made ♪ ♪ I forgot, it’s a lot ♪ ♪ Fuck that, never mind what I got ♪” And his wife will be like, “Kevin, come to bed!” He’ll be like… “♪ Ho, shut the fuck up ♪ ♪ I got way too much– ♪”',\n",
       " 'You know how much money you have to have to tell a girl to shut the fuck up? I have “Quiet, please” money at best. I’d have to take a loan out for “Shut the fuck up.” “Shut the fuck up–” That’s Jay Z money. And Beyoncé got “No, you shut the fuck up” money.',\n",
       " 'Let’s not forget. Let’s not forget. I’ve never met Bill Cosby, so I’m not defending him. Let’s just remember that he has a valuable legacy that I can’t just throw away. I remember that he’s the first black man to ever win an Emmy in television. I also remember that he’s the first guy to make a cartoon with black characters where their lips and noses were drawn proportionately. I remember that he had a television show that got numbers equivalent to the Super Bowl every Thursday night. And I remember that he partnered up with a clinical psychologist to make sure that there was not one negative image of African-Americans on his show. I’m telling you, that’s no small thing. I’ve had a television show. I wouldn’t have done that shit. He gave tens of millions of dollars to African-American institutions of higher learning, and is directly responsible for thousands of black kids going to college. Not just the ones he raped. Here comes the kicker. You ready? Here’s the fact that I heard, but haven’t confirmed. I heard that when Martin Luther King stood on the steps of the Lincoln Memorial and said he had a dream, he was speaking into a PA system that Bill Cosby paid for. So, you understand what I’m saying? The point is this: He rapes, but he saves. And he saves more than he rapes. But he probably does rape. Thank you very much! Good night!',\n",
       " '♪ Ah-ah, ah-ah ♪ ♪ In every ghetto ♪ ♪ Ah-ah, ah-ah, ah-ah ♪ ♪ In every ghetto ♪ ♪ Ah-ah, ah-ah, ah-ah ♪ ♪ In every ghetto ♪ ♪ Ah-ah, ah-ah, ah-ah ♪ ♪ In every ghetto ♪',\n",
       " 'Wait, wait, wait, wait, wait! I forgot. The fourth time I met OJ Simpson. The fourth time is not the funniest time, but it was the last time I’d see the Juice. For some reason, I was at the Kentucky Derby. It’s a very long story. This is right after I quit Chappelle’s Show in spectacular fashion. There was a party hosted by Michael Jordan, and every athlete I’ve ever admired was in that room. Yes. And then I saw a familiar face by the bar, standing there, drinking alone. It was Chris Tucker. Now… you have to remember, at this time, we were both technically missing. And we went over, and we’re talking with one another, and motherfuckers were amazed to see us together. Seeing me and Chris Tucker at that point would be like seeing Bigfoot riding a unicorn. You wouldn’t believe that’s what you were seeing. And then, through all the gawkers, a familiar face pushed through the crowd. Here he was again. The Juice. He had his camera ready. He was like, “Dave, Chris. Good to see you guys. Hey, come on, guys. Let’s all get together for a picture.” And at the same time, me and Chris were like, “No. I can’t do that. Sorry, Juice, my career is too flimsy to survive a picture with you.” That’s the end. Good night.',\n",
       " '♪ Ah-ah, ah-ah ♪ ♪ In every ghetto ♪ ♪ Ah-ah ♪ ♪ Revolution ♪ ♪ Ah-ah, ah-ah, ah-ah ♪ ♪ In every ghetto… ♪',\n",
       " 'One last thing. Before you go, I just wanted to acknowledge for the real comedy fans. We can’t not acknowledge it. We lost a fucking juggernaut in comedy this week. So, I’m just shouting out the family and friends of Garry Shandling. Much love to you guys. My sincerest condolences. And for the hip-hop fans in the building… put two fingers up in the air for A Tribe Called Quest and my man Phife Dawg. May he rest in peace forever and ever. Thank you for that beautiful music. Good night, everybody. Thank you. Twos up! Twos up! Hands up, hands up! Twos up! We’re gonna do this for Phife! I need everybody to rap with me right now!',\n",
       " '♪ Can I kick it? ♪ ♪ Yes, you can ♪ ♪ Can I kick it? ♪ ♪ Yes, you can ♪ ♪ Can I kick it? ♪ ♪ Yes, you can ♪ ♪ Well, I’m gone ♪ ♪ Go on, then ♪ ♪ Can I kick it? To my Tribe that flows in layers ♪ ♪ Right now, Phife is a poem sayer ♪ ♪ At times, I’m a studio conveyor ♪ ♪ Mr. Dinkins Would you please be my mayor? ♪ ♪ You’ll be doing us a really big favor ♪ ♪ Boy, this track really has a lot Of flavor ♪ ♪ When it comes to rhythms Quest is your savior ♪ ♪ Follow us for the funky behavior ♪ ♪ Make a note On the rhythm we gave ya ♪  ♪ Feel free, drop your pants Check your hair ♪ ♪ Do you like the garments That we wear? ♪ ♪ I instruct you to be the obeyer ♪ ♪ A rhythm recipe that you’ll savor ♪ ♪ Doesn’t matter if you’re minor Or major ♪ ♪ Yes, the Tribe of the game We’re the player ♪ ♪ As you inhale Like a breath of fresh air ♪ I’m rich, biatch!']"
      ]
     },
     "execution_count": 35,
     "metadata": {},
     "output_type": "execute_result"
    },
    {
     "data": {
      "application/javascript": [
       "\n",
       "            setTimeout(function() {\n",
       "                var nbb_cell_id = 35;\n",
       "                var nbb_unformatted_code = \"# Notice that our dictionary is currently in key: comedian, value: list of text format\\nnext(iter(data.values()))\";\n",
       "                var nbb_formatted_code = \"# Notice that our dictionary is currently in key: comedian, value: list of text format\\nnext(iter(data.values()))\";\n",
       "                var nbb_cells = Jupyter.notebook.get_cells();\n",
       "                for (var i = 0; i < nbb_cells.length; ++i) {\n",
       "                    if (nbb_cells[i].input_prompt_number == nbb_cell_id) {\n",
       "                        if (nbb_cells[i].get_text() == nbb_unformatted_code) {\n",
       "                             nbb_cells[i].set_text(nbb_formatted_code);\n",
       "                        }\n",
       "                        break;\n",
       "                    }\n",
       "                }\n",
       "            }, 500);\n",
       "            "
      ],
      "text/plain": [
       "<IPython.core.display.Javascript object>"
      ]
     },
     "metadata": {},
     "output_type": "display_data"
    }
   ],
   "source": [
    "# Notice that our dictionary is currently in key: comedian, value: list of text format\n",
    "next(iter(data.values()))"
   ]
  },
  {
   "cell_type": "code",
   "execution_count": 36,
   "metadata": {},
   "outputs": [
    {
     "data": {
      "application/javascript": [
       "\n",
       "            setTimeout(function() {\n",
       "                var nbb_cell_id = 36;\n",
       "                var nbb_unformatted_code = \"# We are going to change this to key: comedian, value: string format\\ndef combine_text(list_of_text):\\n    \\\"\\\"\\\"Takes a list of text and combines them into one large chunk of text.\\\"\\\"\\\"\\n    combined_text = \\\" \\\".join(list_of_text)\\n    return combined_text\";\n",
       "                var nbb_formatted_code = \"# We are going to change this to key: comedian, value: string format\\ndef combine_text(list_of_text):\\n    \\\"\\\"\\\"Takes a list of text and combines them into one large chunk of text.\\\"\\\"\\\"\\n    combined_text = \\\" \\\".join(list_of_text)\\n    return combined_text\";\n",
       "                var nbb_cells = Jupyter.notebook.get_cells();\n",
       "                for (var i = 0; i < nbb_cells.length; ++i) {\n",
       "                    if (nbb_cells[i].input_prompt_number == nbb_cell_id) {\n",
       "                        if (nbb_cells[i].get_text() == nbb_unformatted_code) {\n",
       "                             nbb_cells[i].set_text(nbb_formatted_code);\n",
       "                        }\n",
       "                        break;\n",
       "                    }\n",
       "                }\n",
       "            }, 500);\n",
       "            "
      ],
      "text/plain": [
       "<IPython.core.display.Javascript object>"
      ]
     },
     "metadata": {},
     "output_type": "display_data"
    }
   ],
   "source": [
    "# We are going to change this to key: comedian, value: string format\n",
    "def combine_text(list_of_text):\n",
    "    \"\"\"Takes a list of text and combines them into one large chunk of text.\"\"\"\n",
    "    combined_text = \" \".join(list_of_text)\n",
    "    return combined_text"
   ]
  },
  {
   "cell_type": "code",
   "execution_count": 37,
   "metadata": {},
   "outputs": [
    {
     "data": {
      "application/javascript": [
       "\n",
       "            setTimeout(function() {\n",
       "                var nbb_cell_id = 37;\n",
       "                var nbb_unformatted_code = \"# Combine it!\\ndata_combined = {key: [combine_text(value)] for (key, value) in data.items()}\";\n",
       "                var nbb_formatted_code = \"# Combine it!\\ndata_combined = {key: [combine_text(value)] for (key, value) in data.items()}\";\n",
       "                var nbb_cells = Jupyter.notebook.get_cells();\n",
       "                for (var i = 0; i < nbb_cells.length; ++i) {\n",
       "                    if (nbb_cells[i].input_prompt_number == nbb_cell_id) {\n",
       "                        if (nbb_cells[i].get_text() == nbb_unformatted_code) {\n",
       "                             nbb_cells[i].set_text(nbb_formatted_code);\n",
       "                        }\n",
       "                        break;\n",
       "                    }\n",
       "                }\n",
       "            }, 500);\n",
       "            "
      ],
      "text/plain": [
       "<IPython.core.display.Javascript object>"
      ]
     },
     "metadata": {},
     "output_type": "display_data"
    }
   ],
   "source": [
    "# Combine it!\n",
    "data_combined = {key: [combine_text(value)] for (key, value) in data.items()}"
   ]
  },
  {
   "cell_type": "code",
   "execution_count": 38,
   "metadata": {},
   "outputs": [
    {
     "data": {
      "text/html": [
       "<div>\n",
       "<style scoped>\n",
       "    .dataframe tbody tr th:only-of-type {\n",
       "        vertical-align: middle;\n",
       "    }\n",
       "\n",
       "    .dataframe tbody tr th {\n",
       "        vertical-align: top;\n",
       "    }\n",
       "\n",
       "    .dataframe thead th {\n",
       "        text-align: right;\n",
       "    }\n",
       "</style>\n",
       "<table border=\"1\" class=\"dataframe\">\n",
       "  <thead>\n",
       "    <tr style=\"text-align: right;\">\n",
       "      <th></th>\n",
       "      <th>transcript</th>\n",
       "    </tr>\n",
       "  </thead>\n",
       "  <tbody>\n",
       "    <tr>\n",
       "      <th>age_spin</th>\n",
       "      <td>This is Dave. He tells dirty jokes for a living. That stare is where most of his hard work happens. It signifies a profound train of thought, the ...</td>\n",
       "    </tr>\n",
       "    <tr>\n",
       "      <th>deep_texas</th>\n",
       "      <td>[Morgan Freeman] He’s in the trance. He isn’t thinking of jokes, though. He’s composing the voiceover I’m saying to you right now. Getting me to a...</td>\n",
       "    </tr>\n",
       "    <tr>\n",
       "      <th>equanimity</th>\n",
       "      <td>“Equanimity” was shot in Washington, D.C., and it covers the material that Chappelle developed in his monthlong stint at Radio City Music Hall in ...</td>\n",
       "    </tr>\n",
       "    <tr>\n",
       "      <th>killin_softly</th>\n",
       "      <td>Wooo! Ya’ll gone make me lose my mind. Up in here! Up in here! Y’all gone make me throw her out. Up in here! Up in here! Y’all gone make me act a ...</td>\n",
       "    </tr>\n",
       "    <tr>\n",
       "      <th>stick_stones</th>\n",
       "      <td>Sticks &amp; Stones is Dave Chappelle’s fifth Netflix special.\\nIn the promotional trailer Morgan Freeman narrates as Chappelle swaggers across a salt...</td>\n",
       "    </tr>\n",
       "    <tr>\n",
       "      <th>the_bird_revelation</th>\n",
       "      <td>Recorded at the Comedy Store in Los Angeles in November 2017 [Dave Chappelle] Sometimes, the funniest thing to say is mean. You know what I mean? ...</td>\n",
       "    </tr>\n",
       "    <tr>\n",
       "      <th>worth</th>\n",
       "      <td>Why’d you pick San Francisco to shoot your special? This is one of the best towns that ever knew comedy. And this is the most historic venue you g...</td>\n",
       "    </tr>\n",
       "  </tbody>\n",
       "</table>\n",
       "</div>"
      ],
      "text/plain": [
       "                                                                                                                                                                transcript\n",
       "age_spin             This is Dave. He tells dirty jokes for a living. That stare is where most of his hard work happens. It signifies a profound train of thought, the ...\n",
       "deep_texas           [Morgan Freeman] He’s in the trance. He isn’t thinking of jokes, though. He’s composing the voiceover I’m saying to you right now. Getting me to a...\n",
       "equanimity           “Equanimity” was shot in Washington, D.C., and it covers the material that Chappelle developed in his monthlong stint at Radio City Music Hall in ...\n",
       "killin_softly        Wooo! Ya’ll gone make me lose my mind. Up in here! Up in here! Y’all gone make me throw her out. Up in here! Up in here! Y’all gone make me act a ...\n",
       "stick_stones         Sticks & Stones is Dave Chappelle’s fifth Netflix special.\\nIn the promotional trailer Morgan Freeman narrates as Chappelle swaggers across a salt...\n",
       "the_bird_revelation  Recorded at the Comedy Store in Los Angeles in November 2017 [Dave Chappelle] Sometimes, the funniest thing to say is mean. You know what I mean? ...\n",
       "worth                Why’d you pick San Francisco to shoot your special? This is one of the best towns that ever knew comedy. And this is the most historic venue you g..."
      ]
     },
     "execution_count": 38,
     "metadata": {},
     "output_type": "execute_result"
    },
    {
     "data": {
      "application/javascript": [
       "\n",
       "            setTimeout(function() {\n",
       "                var nbb_cell_id = 38;\n",
       "                var nbb_unformatted_code = \"# We can either keep it in dictionary format or put it into a pandas dataframe\\nimport pandas as pd\\n\\npd.set_option(\\\"max_colwidth\\\", 150)\\n\\ndata_df = pd.DataFrame.from_dict(data_combined).transpose()\\ndata_df.columns = [\\\"transcript\\\"]\\ndata_df = data_df.sort_index()\\ndata_df\";\n",
       "                var nbb_formatted_code = \"# We can either keep it in dictionary format or put it into a pandas dataframe\\nimport pandas as pd\\n\\npd.set_option(\\\"max_colwidth\\\", 150)\\n\\ndata_df = pd.DataFrame.from_dict(data_combined).transpose()\\ndata_df.columns = [\\\"transcript\\\"]\\ndata_df = data_df.sort_index()\\ndata_df\";\n",
       "                var nbb_cells = Jupyter.notebook.get_cells();\n",
       "                for (var i = 0; i < nbb_cells.length; ++i) {\n",
       "                    if (nbb_cells[i].input_prompt_number == nbb_cell_id) {\n",
       "                        if (nbb_cells[i].get_text() == nbb_unformatted_code) {\n",
       "                             nbb_cells[i].set_text(nbb_formatted_code);\n",
       "                        }\n",
       "                        break;\n",
       "                    }\n",
       "                }\n",
       "            }, 500);\n",
       "            "
      ],
      "text/plain": [
       "<IPython.core.display.Javascript object>"
      ]
     },
     "metadata": {},
     "output_type": "display_data"
    }
   ],
   "source": [
    "# We can either keep it in dictionary format or put it into a pandas dataframe\n",
    "import pandas as pd\n",
    "\n",
    "pd.set_option(\"max_colwidth\", 150)\n",
    "\n",
    "data_df = pd.DataFrame.from_dict(data_combined).transpose()\n",
    "data_df.columns = [\"transcript\"]\n",
    "data_df = data_df.sort_index()\n",
    "data_df"
   ]
  },
  {
   "cell_type": "code",
   "execution_count": 40,
   "metadata": {},
   "outputs": [
    {
     "data": {
      "text/plain": [
       "'Sticks & Stones is Dave Chappelle’s fifth Netflix special.\\nIn the promotional trailer Morgan Freeman narrates as Chappelle swaggers across a salt flat in leather pants, aviator shades and a remarkably long t-shirt. [Morgan Freeman] This is Dave. He tells jokes for a living. Hopefully he makes people laugh, but these days it’s a high stakes game. Hmm, how did we get here, I wonder? I don’t mean that metaphorically, I’m really asking: how did Dave get here? I mean, what the fuck is this? But what do I know? I’m just Morgan Freeman. Anyway, I guess what I’m trying to say is\\xa0if you say anything… you risk everything. But if that’s the way it’s gotta be—okay, fine, fuck it!  Ahahah, he’s back folks! Sticks & Stones streamed August 26, 2019 on Netflix. “TELL ME SOMETHING’ YOU MOTHAFUCKAS\\nCAN’T TELL ME NOTHIN’ I’D RATHER DIE THAN\\nTO LISTEN TO YOU…” —KENDRICK LAMAR,\\nPULITZER PRIZE WINNER “I KNOW REAL NIGGAS\\nHAPPEN TO LOVE IT” —SHAWN CARTER\\n(BILLIONAIRE) ♪ I was dreaming When I wrote this ♪\\n♪ Forgive me if it goes astray ♪\\n♪ But when I woke up this morning ♪\\n♪ Could’ve sworn it was Judgment Day ♪\\n♪ Sky was all purple ♪\\n♪There were people running everywhere ♪ And this is the bar of the whole song. Prince say… ♪ Trying to run from my destruction ♪\\n♪ You know I didn’t even care ♪ Good people of Atlanta, we must never forget… that Anthony Bourdain… Yeah! …killed himself. Anthony Bourdain had the greatest job that show business ever produced. This nigga flew around the world… …and ate delicious meals with outstanding people. That man with that job hung himself in a luxury suite in France. ♪ They say 2000-zero-zero ♪\\n♪ Party over, oops, out of time ♪\\n♪ So, tonight I’m gonna party ♪\\n♪ Like it’s 1999 ♪ I knew a nigga in high school that was an urban genius. This motherfucker’s grades was so good, he got all the way from the hood to an Ivy League school with a full scholarship. From there, the motherfucker got himself into one of the best law schools in the country. And when he was in law school, he met a woman and they fell in love. And they were gonna get married. I remember him telling me about it. He was home for Christmas, and I told him, I said, “My man, my man… save that bitch for late in your life.” But he’s in love. He didn’t listen to me. He married her while he was in law school, and sadly, they got divorced, while he was in law school. He was a street nigga from the hood. This man had nothing… and that bitch took half of that. And then, I just never saw him again for years, and then, two years ago, I was home in DC doing some shoppin’, tryin’ to buy my sons some socks at Foot Locker. I go to Foot Locker. Guess who’s the manager? That nigga. Dressed like a referee, the whole shit. This motherfucker is 45 years old! We went out drinking that night just tryin’ to catch up, and… and he told me. He said he’s been living with his mother for, like, ten years, just trying to get back on his feet. But that’s not the point of the story. The point of the story is… never occurred to this nigga to kill himself. He’s alive and well in D.C. I even suggested to him that he should try it out. Like, “I don’t know, maybe…” Nobody’s life is perfect. No matter what it looks like from the outside, you don’t know what the fuck’s going on inside. I have a great life, but it’s not a perfect life, but it’s good. It’s… My shit’s like an above ground pool. You ever seen one of them? It’s a pool. So, in that spirit, tonight I thought I’d start my show a little differently. Tonight I’m gonna do something that I’m not particularly good at but that I like to do. Tonight I’m gonna try some impressions out. I only got two. Aight, the first impression’s kind of dumb, but I like it. This… This is my impression, you ready? This is my impression… of the Founding Fathers of America… when the Constitution was being written. You ready? Here it goes. Hurry up and finish that Constitution, nigger. I’m trying to get some sleep. It’s not bad, right? All right, the next one… The next one’s a little harder. I want to see if you can guess who it is I’m doing an impression of. All right? Let me get into character. You gotta guess who it is, though. Okay, here it goes. Uh, duh. Hey! Durr! If you do anything wrong in your life, duh, and I find out about it, I’m gonna try to take everything away from you, and I don’t care when I find out. Could be today, tomorrow, 15, 20 years from now. If I find out, you’re fucking-duh-finished. – Trump. – Who… Who’s that? – Trump – Trump. That’s YOU! That’s what the audience sounds like to me. That’s why I don’t be coming out doing comedy all the time, ’cause y’all niggas is the worst motherfuckers I’ve ever tried to entertain in my FUCKING life. Ugh. I’m goddamn sick of it. This is the worst time ever to be a celebrity. You’re gonna be finished. Everyone’s doomed. Michael Jackson has been dead for ten years and this nigga has two new cases. And if you haven’t watched that documentary… uh, then I’m begging you, don’t watch it. It’s fucking gross. I felt like HBO was sticking baby dicks in my ears for four hours straight. Really nasty shit. I don’t want to know all these things. Turns out, uh, Michael Jackson allegedly likes a long gander at the anus. They said he stares at people’s buttholes. That’s what they said. That’s how gross the documentary was. I’m gonna say something that I’m not allowed to say. But I gotta be real. Uh… I don’t believe these motherfuckers. I do not believe them. But… let me qualify the statement. I… I am what’s known on the streets as a victim blamer. You know what I mean? If somebody come up to me like, “Dave, Dave, Chris Brown just beat up Rihanna.” I’ll be like, “Well, what did she do?” “Dave, Michael Jackson was molesting children.” “Well, what were those kids wearing at the time?” I don’t think he did it. But you know what? Even if he did do it… You know what I mean? You know what I mean? Eh… I mean, it’s Michael Jackson. I know more than half the people in this room have been molested in their lives. But it wasn’t no goddamn Michael Jackson, was it? This kid got his dick sucked by the King of Pop. All we get is awkward Thanksgivings for the rest of our lives. You know how good it must’ve felt to go to school the next day after that shit? “Hey, Billy, how was the weekend?” “How was my weekend? Michael Jackson sucked my dick! And that was my first sexual experience. If I’m starting here, then sky’s the limit!” I know it seems harsh, but, man, somebody’s gotta teach these kids. There’s no such thing as a free trip to Hawaii. He’s gonna want to look at your butthole or something. You know why I don’t believe it? You know why I don’t believe it? Because if Michael Jackson’s out here doing all this molesting, then– then why not Macaulay Culkin? Hmm? Macaulay Culkin stated in an interview that Michael Jackson never did anything inappropriate with him or even around him. Think about that shit. You know… I’m not a pedophile. But if I was… Macaulay Culkin’s the first kid I’m fucking, I’ll tell you that right now. I’d be a goddamn hero. “Hey, that guy over there fucked the kid from Home Alone. And you know how hard he is to catch.” ♪ My mind’s telling me, “No” ♪ – Oh! R. Kelly! Well, okay. R. Kelly is different. I mean, you know, if I’m a bettin’ man, I’m gonna put my money on “He probably did that shit.” I’m pretty sure he did that shit. You know, it was bad, okay, so a couple years ago, I was doing a show in Detroit. And I’m sitting backstage in my dressing room and a friend of mine comes by, this chick, Dream Hampton. Dream, uh, tells me, right before I’m going on stage, she goes, “Dave, I’m working on a documentary about R. Kelly. “Would you like to be in it?” And I was like, “Nah, bitch, I’m cool.” I went onstage, I just forgot about the shit, and then two years later, the documentary comes out, Surviving R. Kelly. And when it comes out, Dream’s promotin’ shit and she keeps bringing me up. She said, “I asked Dave Chappelle to be in my documentary, and he said it was too hot for TV.” Bitch, I did not say that. That does not even sound like how I talk. “Oh, that’s too hot for TV.” I would never say that shit. But I’m gonna tell you guys why I wasn’t in the documentary. It’s a very simple reason, and, uh, I cannot stress this point enough. The only reason that I didn’t do it was because, and this is very important… I don’t know this nigga at all! I don’t know anything! I don’t know anything that they don’t tell me about. I don’t hang out with this nigga. Nothing. So what the fuck do I got to be in the documentary for? This guy, R. Kelly, got another sex tape out now. Can you believe that shit? This guy makes more sex tapes than he does music. He’s like the DJ Khaled of sex tapes. “Another one.” Like, damn, nigga! That’s a lot of tapes. The new one’s so bad that they didn’t even show it. I’ve never seen anything like this. The prosecutor in Chicago came out in a press conference and read to the media a transcript of a sex tape. Have you ever heard of such a thing? This nigga read the sex tape. And it was so bad that R. Kelly sounded guilty in the transcripts. It’s fucking amazing. Sixteen times the girl’s age was mentioned. Isn’t that crazy? This motherfucker is an idiot. He was fuckin’ her like, “Yeah, this is the best 14-year-old pussy I’ve ever had in my life.” She was like, “You like this 14-year-old pussy?” Like, “Oh, yeah, I love this.” I’m like, “Man, you need to shut the fuck up.” You gotta give your lawyer something to work with. You supposed to be on the tape like, “This is the best… 36-year-old pussy I’ve ever had in my life.” Then your lawyer can be like, “Your Honor, clearly my client thought that this woman was 36, as he mentioned some 16 times in the tape.” They gonna know you lying, though, you know what I mean. Everybody knows… no such thing as good 36-year-old pussy. Doesn’t matter what I say. And if you at home watching this shit on Netflix, remember, bitch, you clicked on my face. Celebrity hunting season. Doesn’t matter what I say, they’re going to get everybody eventually. Like, look, I don’t think I did anything wrong, but… but we’ll see. They even got poor Kevin Hart. Can you imagine such a thing? Kevin Hart, let me tell you something. It was… It was Kevin Hart’s dream to host the Oscars. That’s what he told me. And I remember when he told me, ’cause I was thinking to myself, “Well, that’s an awfully strange dream for an African American.” What kind of nigga dreams of hosting the Oscars? Kevin did, that’s who. And he did it. Against all the odds, Kevin became the most famous comedian this world has ever seen, and he got the job that only one black man before him had had. He was gonna host the 80th Oscars. And I don’t know what you know about Kevin, but I know Kevin Hart is damn near perfect. As close to perfect as anybody I’ve ever seen. In fact, Kevin is precisely four tweets shy of being perfect. Ten years ago, Kevin had made some very homophobic comments. And I’m not gonna repeat what he said… because this is Atlanta. You know what I mean. I’m sure there’s a lot of gay men here tonight… with their wives. Far be it from me to offend anybody. All right, I’ll tell you what he said. But just remember, these are not my words. These were Kevin’s words. And it was a long time ago. And I’m paraphrasing, ’cause I’m not good at telling other people’s jokes. Okay, Kevin said… that if his little son was demonstrating or-or-or exhibiting, uh, homosexual behavior around the house, that he’d chastise him. He’d say, “Hey, that’s gay.” And then he said he would smash a dollhouse over that child’s head. Ooh, the gay community was furious. And I don’t blame ’em. I got a lot of gay friends. And all of them, 100% of them, all have told me fuckin’ horror stories about the shit they had to go through just to be themselves. Crazy, crazy stories. And in all those stories, I gotta say, not one of them has ever mentioned anything like… their father smashing a fucking dollhouse over their head. ‘Cause, clearly, Kevin was joking. Think about it. You would have to buy this nigga a dollhouse to break it over his head in the first place. Does that sound right? Is anybody gonna do that? The gay community was upset, and then they put so much pressure on the Academy of Motion Pictures and Sciences that they went to Kevin and said, “If you don’t apologize to that community, then you cannot host these Oscars.” And then Kevin said, “Fuck it, I quit.” And then he went on every talk show in America and apologized for six weeks. Kevin fucked up. I understand the mistake he made because I’ve made the same mistake early in my career. This is many years ago, 15 years ago. It was when I was doing Chappelle’s Show. There’s a– Thank you. Thank you. On network television, they have a department that’s called Standards and Practices. This is the department that tells you what you can and cannot say on television. And if you’re doing your job well, you should never hear from ’em. But if you’re making Chappelle’s Show, you’ll hear from these motherfuckers all the time. And remember, this was 15 years ago. I made a mistake. I didn’t even know I’d done anything wrong. I had written a sketch… that had the word… “faggot” in it. So I had to go to Standards and Practices. They call me up. I don’t know why they’re calling me, but I like the lady that runs the department. She’s usually really fair and was one of my favorite people I’ve ever worked with. So she sits me down. We have a nice conversation. She tells me, “Oh, the sketches are great.” I go, “Oh, fantastic. Well, then… well, then, why am I here?” She said, “Because, David, there’s no way… that you can ever say the word… “faggot” on our network. I didn’t know I did anything wrong. I didn’t try to defend myself. I said, “All right. Fuck it, I’ll take it out. Have a good afternoon.” And as I was leaving, it occurred to me. “Hey. Hey, Renée, quick question. It’s just a question. Seriously, I wanna know. Like, wh-why is it… why is it that… that I can say the word “nigger” with impunity… …but I can’t say the word “faggot”?” And she said, “Because, David, you are not gay.” I said, “Well, Renée… I’m not a nigger either.” But, you see, what I didn’t realize at the time and what Kevin had to learn the hard way is we were breaking an unwritten and unspoken rule of show business. And if I say it, you’ll know that I’m telling you the truth. The rule is that no matter what you do in your artistic expression, you are never, ever, allowed to upset… the alphabet people. You know who I mean. Those people that took 20% of the alphabet for themselves. I’d say the letters, but I don’t want to conjure their anger. Ah, it’s too late now. I’m talking about them L’s and them B’s and them G’s and the T’s. People would be surprised. I have friends of all kinds of letters. Everybody loves me and I love everybody. I got friends who are L’s. I got friends who are B’s. And I got friends who are G’s. But the T’s hate my fuckin’ guts. And I don’t blame ’em. It’s not their fault. It’s mine. I can’t stop telling jokes about these niggas. I don’t want to write these jokes, but I just can’t stop! You know, you hear all those letters together all the time. “LBGT, LBGT,” and you think it’s just one big movement. It’s not. All those letters are their own movement. They just travel in the same car together. And… my guess is… Oh! What is this, high school? This nigga probably got a babysitter or something. Go and answer your phone, nigga. Get that shit out of here. I’m… I’m in the middle of something important. Wouldn’t it be funny if we made fun of him and he’s like, “Ha, ha,” and he went outside like, “Hello?” “Mama’s dead.” “Oh, no!” “Mama’s dead.” That was a weird-timed phone call, wasn’t it? It’s like his phone is gay. Like I was saying… my guess is… the G’s are driving that car. That makes sense to me. ‘Cause there’s white men in the G’s. And these people are trying to get around, uh, discrimination and oppression, and you know how white dudes are. “We know these roads. In fact, we built these roads. “The rest of you, buckle up. We’ll get you to where you want to go.” So the G’s are just driving the car. Of course, next to the G’s in the passenger seat… is the L’s. Everybody likes the L’s, except for the G’s. I don’t know what that’s about. I just know the G’s don’t like them that much. The G’s always say, like, little subliminal digs on ’em. It’s unnecessary shit. It’s not mean, but you know what I mean? They just be like… “I wouldn’t wear that.” And the only thing that breaks the tension between the L’s and the G’s are the B’s in the backseat. That’s right. There you go. Everybody scream out when you hear your letter. If there’s one thing that the L’s and the G’s agree on, is it’s that the B’s are fuckin’ gross. They seem greedy to the L’s and the G’s. You know what I mean? ‘Cause they’re just sittin’ in the back seat like, “Yeah, man, I’ll fuck anybody in this car. What’s going on, man?” And sitting next to the B’s, all the way in the backseat by themselves looking out the window… that’s the T’s. Everybody in the car respects the T’s, but everyone also… resents the T’s. It’s not the T’s’ fault, but everyone in the car just feels like the T’s are making the trip take longer. Anything the T’s say gets on everybody’s nerves. And then, the T’s don’t even say anything bad. They just be in the back talking to themselves. “Hm… “I’m hot.” “Shut up. Shut the fuck up, okay? You should roll the window down, you… Bitch, I don’t know what you…” “What? I just said I was hot. Can you pull over at the next exit? I need to use the restroom.” “There is not a restroom for you for four states, nigga! Will you just shut the fuck up so we can get where we’re going?” And just when that car can’t get any more tense, the Q’s are a hitchhiker that they pick up on the road. Some white dude in booty shorts just walking in the freeway. The G’s see him. “Hm, that guy might be one of us. Hey, are you okay? You need some help?” And he come over there with them booty shorts, leaning on the window. “Hey, what’s going on, fellas?” Lady. Whatever pronoun makes you feel comfortable in the back. Yeah. I don’t really know where I’m going. I don’t know if I’m gay or I’m straight or whatever. All I know for sure is that, um… I really want to get in this car.” And they make him get in and sit between the B’s and the T’s. I feel bad for T’s. But they’re so confusing. And it’s not all my fault. I-I feel like they need to take some responsibility for my jokes. ‘Cause I didn’t come up with this idea on my own, this idea that a person can be born in the wrong body. But they have to admit that’s a fucking hilarious predicament. It’s really fucking funny. If it happened to me, you’d laugh. Wouldn’t you? That wouldn’t be funny if it happened to me? I think it would be. What if… What if it did? What if… What if I was… What if I was Chinese? But… But born in this nigga body. That’s not funny? And for the rest of my life, I had to go around making that face. “Hey, everybody, I’m Chinese!” And everyone gets mad. “Stop making that face. That’s offensive.” -“What?” “This is how I feel inside.” \\xa0 It’s hard not to write these jokes. It’s hard not to think about it. Even when I watch sports, I’d be thinking about it. Like, think about it. Okay, say… say LeBron James, uh, changed his gender. You know what I mean? Okay. Can he stay in the NBA, or, because he’s a woman, does he have to go to the WNBA where he will score 840 points a game? What does it actually mean to be equal? You know what I mean? Like, if women are actually equal to men, then there would be no WNBA, would there? You would just be good enough to play in the NBA with us. Or, here’s another idea that’s going to be very controversial, you could… shut the fuck up. I’m sorry, ladies. I just… I got a fucking Me Too headache. Y’all is killing me right now. It’s really fuckin’ tough to watch what’s going on. You know, ladies, I said it in my last special, and I got in a lot of trouble for this. I told you, you were right. But the way you’re going about it is not going to work. But I’m biased. I said it. Louis C.K. was a very good friend of mine before he died in that terrible masturbation accident. And it was his room. You read the story. He was masturbating in his own room. That’s where you supposed to masturbate. Then he said, “Hey, everybody, I’m gonna pull my dick out.” Nobody ran for the door or nothing like that. They all just kind of hung out, like, “I wonder if this guy is serious.” And he came on his own stomach. There it is. What is the threat? Have any women ever seen a guy that just came on his own stomach? This is the least threatening motherfucker the Earth has ever seen. All you see is shame in their face and… cum dripping down like pancake butter. He didn’t do anything that you can call the police for. I dare you to try. Call the police on him. “Hello? Police, yes. I am… I am on the other line with comedian Louis C.K., and I think that he is masturbating while I’m on the phone.” You know what the police are gonna say in Atlanta? “Well, what are you guys talking about? Mm-hm. Mm-hmm.” They ruined this nigga’s life, and now he’s coming back playing comedy clubs, and they acting like if he’s able to do that, that’s gonna hurt women. What the fuck is your agenda, ladies? Is– Is sexism dead? No, in fact, the opposite happened. I said it was gonna get worse, and they said I was tone deaf. But eight states, including your state, have passed the most stringent anti-abortion laws this nation has seen since Roe v. Wade. I… I told you. I told you. I’ll be real with you, and I know nobody gives a fuck what I think anyway. -Uh… I’m not for abortion. -Oh, shut up, nigga. I’m not for it, but I’m not against it either. It all depends… on who I get pregnant. I don’t care– I’ll tell you right now. I don’t care what your religious beliefs are or anything. If you have a dick, you need to shut the fuck up on this one. Seriously. This is theirs. The right to choose is their unequivocal right. Not only do I believe they have the right to choose, I believe that they shouldn’t have to consult anybody, -except for a physician… …about how they exercise that right. Gentleman, that is fair. And ladies, to be fair to us, I also believe if you decide to have the baby, a man should not have to pay. That’s fair. If you can kill this motherfucker, I can at least abandon ’em. It’s my money, my choice. And if I’m wrong, then perhaps we’re wrong. So, figure that shit out for yourselves. I mean, really, uh, what the fuck are we doing? I can’t live in this new world you’re proposing. And meanwhile, while we’re worrying about this other shit, look at what’s happening. They just killed another 12 people in a mass shooting in Virginia Beach. This shit’s happening every week. It happens so much, I’m almost– I don’t care anymore. I came home early from the road. I had a $12,000 suit on, ’cause life’s been going good. And I got home early, and dinner was cookin’. You ever come home when dinner’s cookin’? Doesn’t that smell good? And my son saw me, and he was like, “Dad’s home.” And he got up from the table and ran over to give me a hug, but he had chicken grease all over his face, so I stiffed on him, like, “Yo, yo, yo, yo, yo, my man, my man. Watch these threads, son. This is an expensive suit. I don’t want you to get that chicken grease all over me.” A-And he was like, “What the f… Chicken grease? Dad, this is duck.” Hmm. A tear came out of my eyes. I never dreamt I’d do so well in life that I’d raise a nigga with duck grease all over his face. And we sat down, we just talked about everything. I was telling my wife about how my shows were going, and I told her my trans jokes, and she was like, “Oh, I hate that joke.” And you know why she hates the joke? ‘Cause she’s Asian. But you know what I mean? I don’t make that face at the house, u-unless we’re really fightin’. And me and her, we weren’t arguing, but you know what I mean? She’s like, “You need to stop doing that.” And then, I tried to change the subject. “Oh, how is school going, boys?” And my son’s telling me, “Well, we didn’t have school today, technically.” I’m like, “What… What’s going on?” He said, “Well there was, like, a school shooting drill.” I never heard of this. You know what this is? They have drills that they make kids do, uh, where they practice what to do if somebody comes to shoot up their school. I’d never heard of that before. I was like, “What the fuck?” I had to tell my sons the truth. I didn’t want to tell them this shit. “Son… Son, listen to me. Fuck that drill. If somebody comes to your school and wants to shoot it up, I’m just gonna be honest with you. You probably gonna get shot, nigga. I’m just being real. You got a famous dad. I talk a lot of shit. They gonna be gunning for you, little buddy. Just stay low and run in a zigzag pattern, and don’t try to save anybody, son. Do you understand me?” Why would you have kids rehearse for some shit they have no control over? All you’re doing is training these kids to worry. It’s the stupidest drill I’ve ever heard of. And while you’re in there training ’em during these drills, well, aren’t you training the shooter, too? This nigga’s in here listening and learning like the other kids. Sittin’ in the back… “So, where are we supposed to meet? Okay.” All right. If you’re a parent, this shit is terrifying. This shit is real scary. All the parents is looking at each other crazy, because we know, as parents, that one of us is raising the shooter. We just don’t know which one of us it is. All we know for sure… is that if you’re a white parent, the chances that it’s you… …it’s exponentially higher than the rest of us. Shooting up school is a white kids’ game. It’s fuckin’ crazy. You know, I hated school, too. It never occurred to me… kill everybody in school? It’s fuckin’ crazy. Just do what I did, nigga. Try some things. “Have you skipped school, nigga? Skip school! Take a walk and meet some other kids. Fuck school, nigga. Try drugs. Have you tried drugs out? Nigga, that might…” Some scary shit. I’ve given this a lot of thought. I don’t see any peaceful way to disarm America’s whites. There’s only one thing that’s going to save this country from itself. Same thing that always saves this country from itself, and that is African Americans. Right. And I know the question that a lot of y’all have in your minds is, “Should we do it?” Yeah. Fuck yeah, we should do it. Listen, no matter what they say or how they make you feel, remember, this is your country, too. -It is incumbent upon us… to save our country. And you know what we have to do. This is a fuckin’ election year. We gotta be serious. Every able-bodied African American must register for a legal firearm. That’s the only way they’ll change the law. I hate guns, personally. I can’t stand ’em. Yeah, but I have several. I don’t want ’em, but I feel like I need ’em. Don’t forget where I live. I live in Ohio. And anyone that knows anything about Ohio knows that even the word “Ohio” is an old Native American word. It means, literally, uh, “land of poor white people.” And I don’t know what’s going on down here, but in my experience, uh, poor white people love, and, I mean, they fucking love… heroin. They can’t seem to get enough of it. I didn’t know what I was looking at at first. I was driving, like, “Why are all these white people so sleepy out here?” It’s really bad. Matter of fact, I was coming out of the nightclub the other night in Dayton, and I had parked my car in the alley, and no one was out. I didn’t have no bodyguards or nothing. I was home. I figured everything was fine. And as soon as I open my car door, all by myself, suddenly, uh, one of these heroin-addicted whites just pops out of a trash can. It scared the shit out of me. I screamed. “Aah!” And then, I realized it was a woman. She was fucked up. She was like… “Hey, man. Hey, man. Relax, okay? I’m sick, all right? I need some drugs, man. Please? I’ll suck your dick for five dollars, man.” I was like, “Ick… Two.” Obviously, I’m joking. This opioid crisis is a crisis. I see it everyday. It’s as bad as they say. It’s ruining lives, it’s… destroying families. Sadly, you know what it reminds me of? Seeing it? Reminds me of us. These white folks look exactly like us during the crack epidemic. You know, it’s really crazy to see. And all this shit they talk about on the news about how divided the nation is, I don’t believe it. I feel like, nowadays, we’re gettin’ a real good look at each other. It’s wild, because I even have insight into how the white community must’ve felt watching the black community go through the scourge of crack… because I don’t care either. “Hang in there, Whites. Just say no. What’s so hard about that?” Remember when y’all said that to us? But it’s okay. There’s no grudges. Now you finally got it right. Once it started happening to your kids, you realize it’s a health crisis. These people are sick. They are not criminals. They are sick. Be that as it may, I’m armed to the teeth. First gun I bought was a 12-gauge shotgun. I didn’t want the gun. Remember, though, I’d moved to a farm and I was sittin’ on the porch, and I see a white dude walking across my property, entitled, like he’s supposed to be there. He had a rifle over his shoulder, too. Ain’t that a bitch? I said, “What the fuck is this guy doing on my property?” I was mad as shit, but I was unarmed. So, I ended up just waving to this motherfucker like a bitch. I was just, like… And as soon as he got far enough away, I ran to my car and sped to Kmart. This is in a rural white area. And remember, I was nervous, ’cause the guy was on my property, I’m black, and I was sweating. You know what I mean? And I ran to the gun counter. Black and sweaty, sweating and black, and I looked up and I was like… I looked like a slave or something. I said, “I need a gun. Immediately.” Like that. Just like that. The guy didn’t ask no questions, he just… grabbed a 12-gauge shotgun, handed it to me. I’d never even held a gun before. I’m like… “Well, I need… I need some bullets, too.” And the guy reached under the counter, put two boxes of shells on the counter. He said, “All right, buddy. Which box do you want?” I didn’t know. One box had a picture of some ducks on it. The other box had a picture of some deer. I said, “Well, what’s that box with them ducks?” He said, “Oh, that there’s bird shot.” And then he goes just like this, I’m not exaggerating, he goes, “That won’t kill a man.” He said, “It’ll just pepper him up nicely.” I said, “What the fuck? Pepper?” You know what it means to pepper a motherfucker up? It means that when the shell explodes, hot BBs will shoot out of the barrel of the gun, not killing a motherfucker, but penetrating their skin and shallow flesh. Boy, that’s gotta hurt. Hot BBs? “Aah! Aaaah!” Remember when Dick Cheney shot a motherfucker in the face and he lived? That was bird shot. I said, “Well, what’s that box with the deer on it?” He goes, “Oh, that there is buckshot. That’ll put a hole in a goddamn truck if you wanted to. So, which box do you want?” And he picked the one with the deer up and shook it. I thought he was trying to trick me. I was like, “Do you have a box, uh, with a picture of a white dude trespassing on it? ‘Cause… ….that’s exactly the strength I’m looking for. But I didn’t know that if you’re defending your home with a shotgun, the formula dictates that you’re supposed to buy both boxes. This was not a formula that I was familiar with. It goes like this: there’s six shots in a 12-gauge shotgun. So when you load the gun, you load it like this. First shot, bird shot. Next shot, buckshot. Bird shot, and then after that, gun’s Jamaican. Buckshot, buckshot, buckshot. But you gotta picture it. Okay, like, say I’m in bed and I’m sleepin’, and suddenly, my wife wakes me up. “David. David, wake up!” And I’m like, “Uh, oh. Look who’s come around.” And I pull my dick over the top of my pajamas. And she’s says, “No, I hear somethin’.” I go, “Oh, this bitch.” So I get up out of bed… Uh, grab the gun. I say, “Wait here, baby. I’ll go check it out. Just lock the door behind me.” Oh, my God, she’s right. Right there in the kitchen is a heroin-addicted white and… he’s digging through the change jar by the door. “I work really hard for that change. I gotta do something.” So, first, I rack the shotgun. “Hey, motherfucker!” Click-clack. That’s a test. That click-clack sound will stop a rational human being in their tracks. But, sure enough, this person is not rational. They’re sick on drugs. They’re digging in the change. I gotta act fast. This nigga’s almost got $1.50. “I warned you.” Bird shot! And there it goes. Hot BB’s will permeate his yellow heroin skin. Remember, I’m not killing him, I’m just “peppering him up nice.” He lets out a heroin scream. No! And that should be the end of it. But… Uh-oh. I miscalculated. While he’s on the ground screaming, I notice that his teeth are horribly miscolored. That’s not heroin at all, is it? That’s crystal meth. He pops right back up, unscathed. Time for the heavy stuff. Clack-clack. Buckshot! And then, if he got a friend with him, I got one more bird shot left. And I repeat the cycle. After that nigga, it’s slugs for everybody. And I’ll be in a kitchen full of dying heroin addicts, saying stupid heroin last words. “You shot me, bro.” “Oh, it hurts, man. It hurts. Ah.” Their last words are always the dumbest words, like… “Why is your dick out?” I’m just afraid of being attacked. It happens to the best of us. Don’t ever forget what happened to that French actor. You know who I’m talking about. Jussie Smollett, he’s a very French… A very famous French actor. Y’all never heard of Jussie Smollett? Jussie Smollett is an actor from France. A-And he became famous on a show called Empire. And one night, he was in Chicago late at night, and was the victim… He was the victim of a racist and homophobic attack. You see, Jussie Smollett is… gay, and he is black, not just French. Oh, it was a crazy story. Apparently, when he’s walking down the street late at night, two white men came out of the shadows, uh… with MAGA hats on and beat him up. Tied a rope around his neck, called him all kinds of niggas and… and… put some bleach on him and ran off into the night. This shit was, like, international news. And everybody was furious, especially in Hollywood. It’s all over everybody’s Twitter feed and Instagram page. “Justice for Jussie” and all this shit. The whole country was up in arms. We was talking about it all the time on the news, and… and, for some reason, uh, African Americans, we were like oddly quiet. We were so quiet about this shit that the gay community started accusing the African American community of being homophobic for not supporting him. But what they didn’t understand is that we were supporting him with our silence. Because we understood that this nigga was clearly lying. None of these details added up at all. He said he’s walking down the street in Chicago and-and, uh, white dudes come up to him and say, “Hey, man, aren’t you that faggot nigger from Empire?” What the fuck? Does that sound like how white people talk? I know white people. They don’t talk like that. “Are you that faggot nigger from Empire?” They would never say that. It sounds like something… that I would say. If you’re racist and homophobic, you don’t even know who this nigga is. You can’t watch Empire. Black people never feel sorry for the police, but this time, we even felt sorry for the police. Can you imagine if you was a police veteran taking this kid’s police report? “Okay, Mr. Smollett. Please, tell me what happened.” “All right, you… 2:00 a.m. You left the house at 2:00 a.m. It was minus 16 degrees and… -All right. You were walking? You were walking. All right. And… and where were you going? Subway? Sandwiches? That’s when the men approached you? Did you see them? Do you have any– Okay, what did they have on? MAGA hats? MAGA hats on in Chicago? Excuse me, one second, Mr. Smollett. Frank, come here for a second. Find out where Kanye West was last night.” Such a fucking outrageous story. He said they put a rope around his neck. Has anyone here ever been to Chicago? Yes! All right. All right, so you’ve been there. Now, tell me, how much rope do you remember seeing? Who the fuck is carrying rope? Like, when did you get mugged, nigga, in 1850? -Who’s got rope? – Who’s got rope? Man, that shit was awful. So, okay. I’m doing a show somewhere, and I’m on stage, and I was a little drunk, you know. I figured, “Fuck, let me talk about that nigga a little bit.” I figured it’d be safe, ’cause, you know, everybody’s phones are locked up… And I went in on this kid. I was talking all kinds of shit. Now, I didn’t know that there was a journalist in the audience. And unfortunately for me, that motherfucker… took impeccable notes. He told everybody everything I said. He was even puttin’ the jokes in the headline. The headline said, “Dave Chappelle Says He Wants To Smash A Dollhouse Over Jussie Smollett’s Head.” I thought for sure when I read that headline, I said, “Well, that’s it for me. I’m canceled.” But lucky for me, that very same day, the Chicago police caught the motherfuckers that actually did it, and, hilariously, they were both, uh, Nigerian. Not only were they not white, they were very, very black. They were Nigerian, which is the funniest shit. The whole story is funnier now. “This is MAGA country, you faggot nigger.” “You faggot nigger.” If… If you’re in a group that I made fun of, then just know that I probably will only make fun of you if I see myself in you. I make fun of poor white people because I was once poor. And I know that the only difference between a poor black person and a poor white person is that a poor white person feels like it’s not supposed to be happening to them. Yeah! Everything else is the same. I know what it’s like to have a cold house. I wasn’t allowed to touch the thermostat growing up without asking my father, and it would be fuckin’ freezing in the house. I’d be like, “Dad, please. Can I please just turn the heat up to, like, I don’t know, 32, nigga? It’s really cold.” And my dad would say, “Just put more clothes on, David.” “I got all three of my outfits on, nigga. Will you look at me? I’m freezing up here.” And he said, “Just don’t think about how cold you are, David.” And I said this. I didn’t say it to him, but I said it in front of him so he could hear. I said, “I fuckin’ hate being poor.” And my dad got really upset. He didn’t scream or howl. That wasn’t his way. He just threw his newspaper on the floor, and he said, “David, David, David. You are not poor.” He said, “Poor is a mentality.” He said, “It’s a mentality that very few people ever recover from. Don’t you forget it, son. You are broke.” He said, “These are just financial circumstances that I hope to overcome one day very soon.” And I said, “Well, Dad, whatever you want to call this, uh, it’s wildly uncomfortable.” There was a big dance coming up in the middle school. I was 12 years old. I said, “Dad, can I go to the dance?” He said, “Of course you can go. I want you to get out and meet some more kids.” I said, “Great. Uh, it costs three dollars to get in.” And my dad said, “Ooh… Sorry, son, uh… I don’t have it.” I was like, “What the fuck? You don’t have three dollars? Well, then, how are we alive, Dad? Wish I found some way out of this hell! I’d do anything to not be poor. I will show Michael Jackson my anus if I get a chance. I just gotta get out of this hell.” Dad said, “If you want to go to the dance bad enough, I’ll tell you what. There’s some money in the change jar, get the money from there.” I was 12 years old. That’s what I did. I showed up to the dance early. There’s a long line of kids waiting behind me while I’m at the door, trying to count out 300 pennies to get inside. I will never forget this shit as long as I fuckin’ live. Oh, man, you know. If you’ve been poor, you know what that feels like. You ashamed all the time. Feels like it’s your fault. And all them kids was laughing, “Ha, ha, ha, look how poor Dave Chappelle is.” Oh. Like, when I think back at it, that was really the only time in my life that I ever thought to myself, “I should kill everybody at school.” Thank you very much, everybody, and good night. ♪ Got loyalty, got royalty Inside my DNA ♪\\n♪ Got loyalty, got royalty Inside my DNA ♪\\n♪ I got loyalty, got royalty Inside my DNA ♪\\n♪ I got… This is my heritage, all I’m inheritin’ ♪\\n♪ Money and power The makin’ of marriages ♪\\n♪ Tell me somethin’ ♪\\n♪ You motherfuckers Can’t tell me nothin’ ♪\\n♪ I’d rather die than to listen to you ♪\\n♪ My DNA not for imitation ♪\\n♪ Your DNA an abomination This how it is when you’re in the Matrix ♪\\n♪ Dodgin’ bullets, reapin’ what you sow ♪\\n♪ Stackin’ up the footage Livin’ on the go, sleepin’ in a villa ♪\\n♪ Sippin’ from a Grammy Walkin’ in the buildin’ ♪\\n♪ Diamond in the ceilin’ Marble floors ♪\\n♪ Beach inside the window Peekin’ out the window ♪\\n♪ Baby in the pool, Godfather goals Only Lord knows ♪\\n♪ I’ve been goin’ hammer Dodgin’ paparazzi ♪\\n♪ Freakin’ through the cameras ♪\\n♪ Eat at Four Daughters Brock wearin’ sandals ♪\\n♪ Yoga on a Monday Stretchin’ to Nirvana ♪\\n♪ Watchin’ all the snakes Curvin’ all the fakes ♪\\n♪ Phone never on, I don’t conversate I don’t compromise, I just penetrate ♪\\n♪ Sex, money, murder, these are the breaks These are the times, level number nine ♪\\n♪ Look up in the sky, ten is on the way Sentence on the way, killings on the way ♪\\n♪ Motherfucker, I got winners on the way ♪\\n♪ You ain’t shit Without a body on your belt ♪\\n♪ You ain’t shit Without a ticket on your plate ♪\\n♪ You ain’t sick enough To pull it on yourself ♪\\n♪ You ain’t rich enough To hit the lot and skate ♪\\n♪ Tell me when destruction Gonna be my fate ♪\\n♪ Gonna be your fate Gonna be our faith ♪\\n♪ Peace to the world, let it rotate ♪\\n♪ Sex, money, murder, our DNA ♪\\n♪ Mommy ♪\\n♪ Why does everybody have a bomb? ♪\\n♪ Mommy ♪\\n♪ Why does everybody have a bomb? ♪ By the way… Vanglorious! This is protected by the red, the black, and the green, at the crossroad, with a key, sissy!'"
      ]
     },
     "execution_count": 40,
     "metadata": {},
     "output_type": "execute_result"
    },
    {
     "data": {
      "application/javascript": [
       "\n",
       "            setTimeout(function() {\n",
       "                var nbb_cell_id = 40;\n",
       "                var nbb_unformatted_code = \"# Let's take a look at one of the specials\\ndata_df.transcript.loc[\\\"stick_stones\\\"]\";\n",
       "                var nbb_formatted_code = \"# Let's take a look at one of the specials\\ndata_df.transcript.loc[\\\"stick_stones\\\"]\";\n",
       "                var nbb_cells = Jupyter.notebook.get_cells();\n",
       "                for (var i = 0; i < nbb_cells.length; ++i) {\n",
       "                    if (nbb_cells[i].input_prompt_number == nbb_cell_id) {\n",
       "                        if (nbb_cells[i].get_text() == nbb_unformatted_code) {\n",
       "                             nbb_cells[i].set_text(nbb_formatted_code);\n",
       "                        }\n",
       "                        break;\n",
       "                    }\n",
       "                }\n",
       "            }, 500);\n",
       "            "
      ],
      "text/plain": [
       "<IPython.core.display.Javascript object>"
      ]
     },
     "metadata": {},
     "output_type": "display_data"
    }
   ],
   "source": [
    "# Let's take a look at one of the specials\n",
    "data_df.transcript.loc[\"stick_stones\"]"
   ]
  },
  {
   "cell_type": "code",
   "execution_count": 41,
   "metadata": {},
   "outputs": [
    {
     "data": {
      "application/javascript": [
       "\n",
       "            setTimeout(function() {\n",
       "                var nbb_cell_id = 41;\n",
       "                var nbb_unformatted_code = \"# Apply a first round of text cleaning techniques\\nimport re\\nimport string\\n\\n\\ndef clean_text_round1(text):\\n    \\\"\\\"\\\"Make text lowercase, remove text in square brackets, remove punctuation and remove words containing numbers.\\\"\\\"\\\"\\n    text = text.lower()\\n    text = re.sub(\\\"\\\\[.*?\\\\]\\\", \\\"\\\", text)\\n    text = re.sub(\\\"[%s]\\\" % re.escape(string.punctuation), \\\"\\\", text)\\n    text = re.sub(\\\"\\\\w*\\\\d\\\\w*\\\", \\\"\\\", text)\\n    return text\\n\\n\\nround1 = lambda x: clean_text_round1(x)\";\n",
       "                var nbb_formatted_code = \"# Apply a first round of text cleaning techniques\\nimport re\\nimport string\\n\\n\\ndef clean_text_round1(text):\\n    \\\"\\\"\\\"Make text lowercase, remove text in square brackets, remove punctuation and remove words containing numbers.\\\"\\\"\\\"\\n    text = text.lower()\\n    text = re.sub(\\\"\\\\[.*?\\\\]\\\", \\\"\\\", text)\\n    text = re.sub(\\\"[%s]\\\" % re.escape(string.punctuation), \\\"\\\", text)\\n    text = re.sub(\\\"\\\\w*\\\\d\\\\w*\\\", \\\"\\\", text)\\n    return text\\n\\n\\nround1 = lambda x: clean_text_round1(x)\";\n",
       "                var nbb_cells = Jupyter.notebook.get_cells();\n",
       "                for (var i = 0; i < nbb_cells.length; ++i) {\n",
       "                    if (nbb_cells[i].input_prompt_number == nbb_cell_id) {\n",
       "                        if (nbb_cells[i].get_text() == nbb_unformatted_code) {\n",
       "                             nbb_cells[i].set_text(nbb_formatted_code);\n",
       "                        }\n",
       "                        break;\n",
       "                    }\n",
       "                }\n",
       "            }, 500);\n",
       "            "
      ],
      "text/plain": [
       "<IPython.core.display.Javascript object>"
      ]
     },
     "metadata": {},
     "output_type": "display_data"
    }
   ],
   "source": [
    "# Apply a first round of text cleaning techniques\n",
    "import re\n",
    "import string\n",
    "\n",
    "\n",
    "def clean_text_round1(text):\n",
    "    \"\"\"Make text lowercase, remove text in square brackets, remove punctuation and remove words containing numbers.\"\"\"\n",
    "    text = text.lower()\n",
    "    text = re.sub(\"\\[.*?\\]\", \"\", text)\n",
    "    text = re.sub(\"[%s]\" % re.escape(string.punctuation), \"\", text)\n",
    "    text = re.sub(\"\\w*\\d\\w*\", \"\", text)\n",
    "    return text\n",
    "\n",
    "\n",
    "round1 = lambda x: clean_text_round1(x)"
   ]
  },
  {
   "cell_type": "code",
   "execution_count": 42,
   "metadata": {},
   "outputs": [
    {
     "data": {
      "text/html": [
       "<div>\n",
       "<style scoped>\n",
       "    .dataframe tbody tr th:only-of-type {\n",
       "        vertical-align: middle;\n",
       "    }\n",
       "\n",
       "    .dataframe tbody tr th {\n",
       "        vertical-align: top;\n",
       "    }\n",
       "\n",
       "    .dataframe thead th {\n",
       "        text-align: right;\n",
       "    }\n",
       "</style>\n",
       "<table border=\"1\" class=\"dataframe\">\n",
       "  <thead>\n",
       "    <tr style=\"text-align: right;\">\n",
       "      <th></th>\n",
       "      <th>transcript</th>\n",
       "    </tr>\n",
       "  </thead>\n",
       "  <tbody>\n",
       "    <tr>\n",
       "      <th>age_spin</th>\n",
       "      <td>this is dave he tells dirty jokes for a living that stare is where most of his hard work happens it signifies a profound train of thought the alch...</td>\n",
       "    </tr>\n",
       "    <tr>\n",
       "      <th>deep_texas</th>\n",
       "      <td>he’s in the trance he isn’t thinking of jokes though he’s composing the voiceover i’m saying to you right now getting me to agree to this was bey...</td>\n",
       "    </tr>\n",
       "    <tr>\n",
       "      <th>equanimity</th>\n",
       "      <td>“equanimity” was shot in washington dc and it covers the material that chappelle developed in his monthlong stint at radio city music hall in     ...</td>\n",
       "    </tr>\n",
       "    <tr>\n",
       "      <th>killin_softly</th>\n",
       "      <td>wooo ya’ll gone make me lose my mind up in here up in here y’all gone make me throw her out up in here up in here y’all gone make me act a fool up...</td>\n",
       "    </tr>\n",
       "    <tr>\n",
       "      <th>stick_stones</th>\n",
       "      <td>sticks  stones is dave chappelle’s fifth netflix special\\nin the promotional trailer morgan freeman narrates as chappelle swaggers across a salt f...</td>\n",
       "    </tr>\n",
       "    <tr>\n",
       "      <th>the_bird_revelation</th>\n",
       "      <td>recorded at the comedy store in los angeles in november   sometimes the funniest thing to say is mean you know what i mean it’s a tough position t...</td>\n",
       "    </tr>\n",
       "    <tr>\n",
       "      <th>worth</th>\n",
       "      <td>why’d you pick san francisco to shoot your special this is one of the best towns that ever knew comedy and this is the most historic venue you got...</td>\n",
       "    </tr>\n",
       "  </tbody>\n",
       "</table>\n",
       "</div>"
      ],
      "text/plain": [
       "                                                                                                                                                                transcript\n",
       "age_spin             this is dave he tells dirty jokes for a living that stare is where most of his hard work happens it signifies a profound train of thought the alch...\n",
       "deep_texas            he’s in the trance he isn’t thinking of jokes though he’s composing the voiceover i’m saying to you right now getting me to agree to this was bey...\n",
       "equanimity           “equanimity” was shot in washington dc and it covers the material that chappelle developed in his monthlong stint at radio city music hall in     ...\n",
       "killin_softly        wooo ya’ll gone make me lose my mind up in here up in here y’all gone make me throw her out up in here up in here y’all gone make me act a fool up...\n",
       "stick_stones         sticks  stones is dave chappelle’s fifth netflix special\\nin the promotional trailer morgan freeman narrates as chappelle swaggers across a salt f...\n",
       "the_bird_revelation  recorded at the comedy store in los angeles in november   sometimes the funniest thing to say is mean you know what i mean it’s a tough position t...\n",
       "worth                why’d you pick san francisco to shoot your special this is one of the best towns that ever knew comedy and this is the most historic venue you got..."
      ]
     },
     "execution_count": 42,
     "metadata": {},
     "output_type": "execute_result"
    },
    {
     "data": {
      "application/javascript": [
       "\n",
       "            setTimeout(function() {\n",
       "                var nbb_cell_id = 42;\n",
       "                var nbb_unformatted_code = \"# Let's take a look at the updated text\\ndata_clean = pd.DataFrame(data_df.transcript.apply(round1))\\ndata_clean\";\n",
       "                var nbb_formatted_code = \"# Let's take a look at the updated text\\ndata_clean = pd.DataFrame(data_df.transcript.apply(round1))\\ndata_clean\";\n",
       "                var nbb_cells = Jupyter.notebook.get_cells();\n",
       "                for (var i = 0; i < nbb_cells.length; ++i) {\n",
       "                    if (nbb_cells[i].input_prompt_number == nbb_cell_id) {\n",
       "                        if (nbb_cells[i].get_text() == nbb_unformatted_code) {\n",
       "                             nbb_cells[i].set_text(nbb_formatted_code);\n",
       "                        }\n",
       "                        break;\n",
       "                    }\n",
       "                }\n",
       "            }, 500);\n",
       "            "
      ],
      "text/plain": [
       "<IPython.core.display.Javascript object>"
      ]
     },
     "metadata": {},
     "output_type": "display_data"
    }
   ],
   "source": [
    "# Let's take a look at the updated text\n",
    "data_clean = pd.DataFrame(data_df.transcript.apply(round1))\n",
    "data_clean"
   ]
  },
  {
   "cell_type": "code",
   "execution_count": 43,
   "metadata": {},
   "outputs": [
    {
     "data": {
      "application/javascript": [
       "\n",
       "            setTimeout(function() {\n",
       "                var nbb_cell_id = 43;\n",
       "                var nbb_unformatted_code = \"# Apply a second round of cleaning\\ndef clean_text_round2(text):\\n    \\\"\\\"\\\"Get rid of some additional punctuation and non-sensical text that was missed the first time around.\\\"\\\"\\\"\\n    text = re.sub(\\\"[\\u2018\\u2019\\u201c\\u201d\\u2026]\\\", \\\"\\\", text)\\n    text = re.sub(\\\"\\\\n\\\", \\\"\\\", text)\\n    return text\\n\\n\\nround2 = lambda x: clean_text_round2(x)\";\n",
       "                var nbb_formatted_code = \"# Apply a second round of cleaning\\ndef clean_text_round2(text):\\n    \\\"\\\"\\\"Get rid of some additional punctuation and non-sensical text that was missed the first time around.\\\"\\\"\\\"\\n    text = re.sub(\\\"[\\u2018\\u2019\\u201c\\u201d\\u2026]\\\", \\\"\\\", text)\\n    text = re.sub(\\\"\\\\n\\\", \\\"\\\", text)\\n    return text\\n\\n\\nround2 = lambda x: clean_text_round2(x)\";\n",
       "                var nbb_cells = Jupyter.notebook.get_cells();\n",
       "                for (var i = 0; i < nbb_cells.length; ++i) {\n",
       "                    if (nbb_cells[i].input_prompt_number == nbb_cell_id) {\n",
       "                        if (nbb_cells[i].get_text() == nbb_unformatted_code) {\n",
       "                             nbb_cells[i].set_text(nbb_formatted_code);\n",
       "                        }\n",
       "                        break;\n",
       "                    }\n",
       "                }\n",
       "            }, 500);\n",
       "            "
      ],
      "text/plain": [
       "<IPython.core.display.Javascript object>"
      ]
     },
     "metadata": {},
     "output_type": "display_data"
    }
   ],
   "source": [
    "# Apply a second round of cleaning\n",
    "def clean_text_round2(text):\n",
    "    \"\"\"Get rid of some additional punctuation and non-sensical text that was missed the first time around.\"\"\"\n",
    "    text = re.sub(\"[‘’“”…]\", \"\", text)\n",
    "    text = re.sub(\"\\n\", \"\", text)\n",
    "    return text\n",
    "\n",
    "\n",
    "round2 = lambda x: clean_text_round2(x)"
   ]
  },
  {
   "cell_type": "code",
   "execution_count": 44,
   "metadata": {},
   "outputs": [
    {
     "data": {
      "text/html": [
       "<div>\n",
       "<style scoped>\n",
       "    .dataframe tbody tr th:only-of-type {\n",
       "        vertical-align: middle;\n",
       "    }\n",
       "\n",
       "    .dataframe tbody tr th {\n",
       "        vertical-align: top;\n",
       "    }\n",
       "\n",
       "    .dataframe thead th {\n",
       "        text-align: right;\n",
       "    }\n",
       "</style>\n",
       "<table border=\"1\" class=\"dataframe\">\n",
       "  <thead>\n",
       "    <tr style=\"text-align: right;\">\n",
       "      <th></th>\n",
       "      <th>transcript</th>\n",
       "    </tr>\n",
       "  </thead>\n",
       "  <tbody>\n",
       "    <tr>\n",
       "      <th>age_spin</th>\n",
       "      <td>this is dave he tells dirty jokes for a living that stare is where most of his hard work happens it signifies a profound train of thought the alch...</td>\n",
       "    </tr>\n",
       "    <tr>\n",
       "      <th>deep_texas</th>\n",
       "      <td>hes in the trance he isnt thinking of jokes though hes composing the voiceover im saying to you right now getting me to agree to this was beyond ...</td>\n",
       "    </tr>\n",
       "    <tr>\n",
       "      <th>equanimity</th>\n",
       "      <td>equanimity was shot in washington dc and it covers the material that chappelle developed in his monthlong stint at radio city music hall in     ♪ ...</td>\n",
       "    </tr>\n",
       "    <tr>\n",
       "      <th>killin_softly</th>\n",
       "      <td>wooo yall gone make me lose my mind up in here up in here yall gone make me throw her out up in here up in here yall gone make me act a fool up in...</td>\n",
       "    </tr>\n",
       "    <tr>\n",
       "      <th>stick_stones</th>\n",
       "      <td>sticks  stones is dave chappelles fifth netflix specialin the promotional trailer morgan freeman narrates as chappelle swaggers across a salt flat...</td>\n",
       "    </tr>\n",
       "    <tr>\n",
       "      <th>the_bird_revelation</th>\n",
       "      <td>recorded at the comedy store in los angeles in november   sometimes the funniest thing to say is mean you know what i mean its a tough position to...</td>\n",
       "    </tr>\n",
       "    <tr>\n",
       "      <th>worth</th>\n",
       "      <td>whyd you pick san francisco to shoot your special this is one of the best towns that ever knew comedy and this is the most historic venue you got ...</td>\n",
       "    </tr>\n",
       "  </tbody>\n",
       "</table>\n",
       "</div>"
      ],
      "text/plain": [
       "                                                                                                                                                                transcript\n",
       "age_spin             this is dave he tells dirty jokes for a living that stare is where most of his hard work happens it signifies a profound train of thought the alch...\n",
       "deep_texas            hes in the trance he isnt thinking of jokes though hes composing the voiceover im saying to you right now getting me to agree to this was beyond ...\n",
       "equanimity           equanimity was shot in washington dc and it covers the material that chappelle developed in his monthlong stint at radio city music hall in     ♪ ...\n",
       "killin_softly        wooo yall gone make me lose my mind up in here up in here yall gone make me throw her out up in here up in here yall gone make me act a fool up in...\n",
       "stick_stones         sticks  stones is dave chappelles fifth netflix specialin the promotional trailer morgan freeman narrates as chappelle swaggers across a salt flat...\n",
       "the_bird_revelation  recorded at the comedy store in los angeles in november   sometimes the funniest thing to say is mean you know what i mean its a tough position to...\n",
       "worth                whyd you pick san francisco to shoot your special this is one of the best towns that ever knew comedy and this is the most historic venue you got ..."
      ]
     },
     "execution_count": 44,
     "metadata": {},
     "output_type": "execute_result"
    },
    {
     "data": {
      "application/javascript": [
       "\n",
       "            setTimeout(function() {\n",
       "                var nbb_cell_id = 44;\n",
       "                var nbb_unformatted_code = \"# Let's take a look at the updated text\\ndata_clean = pd.DataFrame(data_clean.transcript.apply(round2))\\ndata_clean\";\n",
       "                var nbb_formatted_code = \"# Let's take a look at the updated text\\ndata_clean = pd.DataFrame(data_clean.transcript.apply(round2))\\ndata_clean\";\n",
       "                var nbb_cells = Jupyter.notebook.get_cells();\n",
       "                for (var i = 0; i < nbb_cells.length; ++i) {\n",
       "                    if (nbb_cells[i].input_prompt_number == nbb_cell_id) {\n",
       "                        if (nbb_cells[i].get_text() == nbb_unformatted_code) {\n",
       "                             nbb_cells[i].set_text(nbb_formatted_code);\n",
       "                        }\n",
       "                        break;\n",
       "                    }\n",
       "                }\n",
       "            }, 500);\n",
       "            "
      ],
      "text/plain": [
       "<IPython.core.display.Javascript object>"
      ]
     },
     "metadata": {},
     "output_type": "display_data"
    }
   ],
   "source": [
    "# Let's take a look at the updated text\n",
    "data_clean = pd.DataFrame(data_clean.transcript.apply(round2))\n",
    "data_clean"
   ]
  },
  {
   "cell_type": "markdown",
   "metadata": {},
   "source": [
    "## Organizing The Data"
   ]
  },
  {
   "cell_type": "markdown",
   "metadata": {},
   "source": [
    "1. **Corpus - **a collection of text\n",
    "2. **Document-Term Matrix - **word counts in matrix format"
   ]
  },
  {
   "cell_type": "markdown",
   "metadata": {},
   "source": [
    "### Corpus"
   ]
  },
  {
   "cell_type": "markdown",
   "metadata": {},
   "source": [
    "We already created a corpus in an earlier step. The definition of a corpus is a collection of texts, and they are all put together neatly in a pandas dataframe here."
   ]
  },
  {
   "cell_type": "code",
   "execution_count": 45,
   "metadata": {},
   "outputs": [
    {
     "data": {
      "text/html": [
       "<div>\n",
       "<style scoped>\n",
       "    .dataframe tbody tr th:only-of-type {\n",
       "        vertical-align: middle;\n",
       "    }\n",
       "\n",
       "    .dataframe tbody tr th {\n",
       "        vertical-align: top;\n",
       "    }\n",
       "\n",
       "    .dataframe thead th {\n",
       "        text-align: right;\n",
       "    }\n",
       "</style>\n",
       "<table border=\"1\" class=\"dataframe\">\n",
       "  <thead>\n",
       "    <tr style=\"text-align: right;\">\n",
       "      <th></th>\n",
       "      <th>transcript</th>\n",
       "    </tr>\n",
       "  </thead>\n",
       "  <tbody>\n",
       "    <tr>\n",
       "      <th>age_spin</th>\n",
       "      <td>This is Dave. He tells dirty jokes for a living. That stare is where most of his hard work happens. It signifies a profound train of thought, the ...</td>\n",
       "    </tr>\n",
       "    <tr>\n",
       "      <th>deep_texas</th>\n",
       "      <td>[Morgan Freeman] He’s in the trance. He isn’t thinking of jokes, though. He’s composing the voiceover I’m saying to you right now. Getting me to a...</td>\n",
       "    </tr>\n",
       "    <tr>\n",
       "      <th>equanimity</th>\n",
       "      <td>“Equanimity” was shot in Washington, D.C., and it covers the material that Chappelle developed in his monthlong stint at Radio City Music Hall in ...</td>\n",
       "    </tr>\n",
       "    <tr>\n",
       "      <th>killin_softly</th>\n",
       "      <td>Wooo! Ya’ll gone make me lose my mind. Up in here! Up in here! Y’all gone make me throw her out. Up in here! Up in here! Y’all gone make me act a ...</td>\n",
       "    </tr>\n",
       "    <tr>\n",
       "      <th>stick_stones</th>\n",
       "      <td>Sticks &amp; Stones is Dave Chappelle’s fifth Netflix special.\\nIn the promotional trailer Morgan Freeman narrates as Chappelle swaggers across a salt...</td>\n",
       "    </tr>\n",
       "    <tr>\n",
       "      <th>the_bird_revelation</th>\n",
       "      <td>Recorded at the Comedy Store in Los Angeles in November 2017 [Dave Chappelle] Sometimes, the funniest thing to say is mean. You know what I mean? ...</td>\n",
       "    </tr>\n",
       "    <tr>\n",
       "      <th>worth</th>\n",
       "      <td>Why’d you pick San Francisco to shoot your special? This is one of the best towns that ever knew comedy. And this is the most historic venue you g...</td>\n",
       "    </tr>\n",
       "  </tbody>\n",
       "</table>\n",
       "</div>"
      ],
      "text/plain": [
       "                                                                                                                                                                transcript\n",
       "age_spin             This is Dave. He tells dirty jokes for a living. That stare is where most of his hard work happens. It signifies a profound train of thought, the ...\n",
       "deep_texas           [Morgan Freeman] He’s in the trance. He isn’t thinking of jokes, though. He’s composing the voiceover I’m saying to you right now. Getting me to a...\n",
       "equanimity           “Equanimity” was shot in Washington, D.C., and it covers the material that Chappelle developed in his monthlong stint at Radio City Music Hall in ...\n",
       "killin_softly        Wooo! Ya’ll gone make me lose my mind. Up in here! Up in here! Y’all gone make me throw her out. Up in here! Up in here! Y’all gone make me act a ...\n",
       "stick_stones         Sticks & Stones is Dave Chappelle’s fifth Netflix special.\\nIn the promotional trailer Morgan Freeman narrates as Chappelle swaggers across a salt...\n",
       "the_bird_revelation  Recorded at the Comedy Store in Los Angeles in November 2017 [Dave Chappelle] Sometimes, the funniest thing to say is mean. You know what I mean? ...\n",
       "worth                Why’d you pick San Francisco to shoot your special? This is one of the best towns that ever knew comedy. And this is the most historic venue you g..."
      ]
     },
     "execution_count": 45,
     "metadata": {},
     "output_type": "execute_result"
    },
    {
     "data": {
      "application/javascript": [
       "\n",
       "            setTimeout(function() {\n",
       "                var nbb_cell_id = 45;\n",
       "                var nbb_unformatted_code = \"# Let's take a look at our dataframe\\ndata_df\";\n",
       "                var nbb_formatted_code = \"# Let's take a look at our dataframe\\ndata_df\";\n",
       "                var nbb_cells = Jupyter.notebook.get_cells();\n",
       "                for (var i = 0; i < nbb_cells.length; ++i) {\n",
       "                    if (nbb_cells[i].input_prompt_number == nbb_cell_id) {\n",
       "                        if (nbb_cells[i].get_text() == nbb_unformatted_code) {\n",
       "                             nbb_cells[i].set_text(nbb_formatted_code);\n",
       "                        }\n",
       "                        break;\n",
       "                    }\n",
       "                }\n",
       "            }, 500);\n",
       "            "
      ],
      "text/plain": [
       "<IPython.core.display.Javascript object>"
      ]
     },
     "metadata": {},
     "output_type": "display_data"
    }
   ],
   "source": [
    "# Let's take a look at our dataframe\n",
    "data_df"
   ]
  },
  {
   "cell_type": "code",
   "execution_count": 46,
   "metadata": {},
   "outputs": [
    {
     "data": {
      "text/html": [
       "<div>\n",
       "<style scoped>\n",
       "    .dataframe tbody tr th:only-of-type {\n",
       "        vertical-align: middle;\n",
       "    }\n",
       "\n",
       "    .dataframe tbody tr th {\n",
       "        vertical-align: top;\n",
       "    }\n",
       "\n",
       "    .dataframe thead th {\n",
       "        text-align: right;\n",
       "    }\n",
       "</style>\n",
       "<table border=\"1\" class=\"dataframe\">\n",
       "  <thead>\n",
       "    <tr style=\"text-align: right;\">\n",
       "      <th></th>\n",
       "      <th>transcript</th>\n",
       "      <th>titles</th>\n",
       "    </tr>\n",
       "  </thead>\n",
       "  <tbody>\n",
       "    <tr>\n",
       "      <th>age_spin</th>\n",
       "      <td>This is Dave. He tells dirty jokes for a living. That stare is where most of his hard work happens. It signifies a profound train of thought, the ...</td>\n",
       "      <td>age_spin</td>\n",
       "    </tr>\n",
       "    <tr>\n",
       "      <th>deep_texas</th>\n",
       "      <td>[Morgan Freeman] He’s in the trance. He isn’t thinking of jokes, though. He’s composing the voiceover I’m saying to you right now. Getting me to a...</td>\n",
       "      <td>deep_texas</td>\n",
       "    </tr>\n",
       "    <tr>\n",
       "      <th>equanimity</th>\n",
       "      <td>“Equanimity” was shot in Washington, D.C., and it covers the material that Chappelle developed in his monthlong stint at Radio City Music Hall in ...</td>\n",
       "      <td>equanimity</td>\n",
       "    </tr>\n",
       "    <tr>\n",
       "      <th>killin_softly</th>\n",
       "      <td>Wooo! Ya’ll gone make me lose my mind. Up in here! Up in here! Y’all gone make me throw her out. Up in here! Up in here! Y’all gone make me act a ...</td>\n",
       "      <td>killin_softly</td>\n",
       "    </tr>\n",
       "    <tr>\n",
       "      <th>stick_stones</th>\n",
       "      <td>Sticks &amp; Stones is Dave Chappelle’s fifth Netflix special.\\nIn the promotional trailer Morgan Freeman narrates as Chappelle swaggers across a salt...</td>\n",
       "      <td>stick_stones</td>\n",
       "    </tr>\n",
       "    <tr>\n",
       "      <th>the_bird_revelation</th>\n",
       "      <td>Recorded at the Comedy Store in Los Angeles in November 2017 [Dave Chappelle] Sometimes, the funniest thing to say is mean. You know what I mean? ...</td>\n",
       "      <td>the_bird_revelation</td>\n",
       "    </tr>\n",
       "    <tr>\n",
       "      <th>worth</th>\n",
       "      <td>Why’d you pick San Francisco to shoot your special? This is one of the best towns that ever knew comedy. And this is the most historic venue you g...</td>\n",
       "      <td>worth</td>\n",
       "    </tr>\n",
       "  </tbody>\n",
       "</table>\n",
       "</div>"
      ],
      "text/plain": [
       "                                                                                                                                                                transcript  \\\n",
       "age_spin             This is Dave. He tells dirty jokes for a living. That stare is where most of his hard work happens. It signifies a profound train of thought, the ...   \n",
       "deep_texas           [Morgan Freeman] He’s in the trance. He isn’t thinking of jokes, though. He’s composing the voiceover I’m saying to you right now. Getting me to a...   \n",
       "equanimity           “Equanimity” was shot in Washington, D.C., and it covers the material that Chappelle developed in his monthlong stint at Radio City Music Hall in ...   \n",
       "killin_softly        Wooo! Ya’ll gone make me lose my mind. Up in here! Up in here! Y’all gone make me throw her out. Up in here! Up in here! Y’all gone make me act a ...   \n",
       "stick_stones         Sticks & Stones is Dave Chappelle’s fifth Netflix special.\\nIn the promotional trailer Morgan Freeman narrates as Chappelle swaggers across a salt...   \n",
       "the_bird_revelation  Recorded at the Comedy Store in Los Angeles in November 2017 [Dave Chappelle] Sometimes, the funniest thing to say is mean. You know what I mean? ...   \n",
       "worth                Why’d you pick San Francisco to shoot your special? This is one of the best towns that ever knew comedy. And this is the most historic venue you g...   \n",
       "\n",
       "                                  titles  \n",
       "age_spin                        age_spin  \n",
       "deep_texas                    deep_texas  \n",
       "equanimity                    equanimity  \n",
       "killin_softly              killin_softly  \n",
       "stick_stones                stick_stones  \n",
       "the_bird_revelation  the_bird_revelation  \n",
       "worth                              worth  "
      ]
     },
     "execution_count": 46,
     "metadata": {},
     "output_type": "execute_result"
    },
    {
     "data": {
      "application/javascript": [
       "\n",
       "            setTimeout(function() {\n",
       "                var nbb_cell_id = 46;\n",
       "                var nbb_unformatted_code = \"# Let's add the comedians' full names as well\\ntitles = [\\n    \\\"age_spin\\\",\\n    \\\"deep_texas\\\",\\n    \\\"equanimity\\\",\\n    \\\"killin_softly\\\",\\n    \\\"stick_stones\\\",\\n    \\\"the_bird_revelation\\\",\\n    \\\"worth\\\"\\n]\\n\\ndata_df[\\\"titles\\\"] = titles\\ndata_df\";\n",
       "                var nbb_formatted_code = \"# Let's add the comedians' full names as well\\ntitles = [\\n    \\\"age_spin\\\",\\n    \\\"deep_texas\\\",\\n    \\\"equanimity\\\",\\n    \\\"killin_softly\\\",\\n    \\\"stick_stones\\\",\\n    \\\"the_bird_revelation\\\",\\n    \\\"worth\\\",\\n]\\n\\ndata_df[\\\"titles\\\"] = titles\\ndata_df\";\n",
       "                var nbb_cells = Jupyter.notebook.get_cells();\n",
       "                for (var i = 0; i < nbb_cells.length; ++i) {\n",
       "                    if (nbb_cells[i].input_prompt_number == nbb_cell_id) {\n",
       "                        if (nbb_cells[i].get_text() == nbb_unformatted_code) {\n",
       "                             nbb_cells[i].set_text(nbb_formatted_code);\n",
       "                        }\n",
       "                        break;\n",
       "                    }\n",
       "                }\n",
       "            }, 500);\n",
       "            "
      ],
      "text/plain": [
       "<IPython.core.display.Javascript object>"
      ]
     },
     "metadata": {},
     "output_type": "display_data"
    }
   ],
   "source": [
    "# Let's add the comedians' full names as well\n",
    "titles = [\n",
    "    \"age_spin\",\n",
    "    \"deep_texas\",\n",
    "    \"equanimity\",\n",
    "    \"killin_softly\",\n",
    "    \"stick_stones\",\n",
    "    \"the_bird_revelation\",\n",
    "    \"worth\",\n",
    "]\n",
    "\n",
    "data_df[\"titles\"] = titles\n",
    "data_df"
   ]
  },
  {
   "cell_type": "code",
   "execution_count": 47,
   "metadata": {},
   "outputs": [
    {
     "data": {
      "application/javascript": [
       "\n",
       "            setTimeout(function() {\n",
       "                var nbb_cell_id = 47;\n",
       "                var nbb_unformatted_code = \"# Let's pickle it for later use\\ndata_df.to_pickle(\\\"corpus.pkl\\\")\";\n",
       "                var nbb_formatted_code = \"# Let's pickle it for later use\\ndata_df.to_pickle(\\\"corpus.pkl\\\")\";\n",
       "                var nbb_cells = Jupyter.notebook.get_cells();\n",
       "                for (var i = 0; i < nbb_cells.length; ++i) {\n",
       "                    if (nbb_cells[i].input_prompt_number == nbb_cell_id) {\n",
       "                        if (nbb_cells[i].get_text() == nbb_unformatted_code) {\n",
       "                             nbb_cells[i].set_text(nbb_formatted_code);\n",
       "                        }\n",
       "                        break;\n",
       "                    }\n",
       "                }\n",
       "            }, 500);\n",
       "            "
      ],
      "text/plain": [
       "<IPython.core.display.Javascript object>"
      ]
     },
     "metadata": {},
     "output_type": "display_data"
    }
   ],
   "source": [
    "# Let's pickle it for later use\n",
    "data_df.to_pickle(\"corpus.pkl\")"
   ]
  },
  {
   "cell_type": "markdown",
   "metadata": {},
   "source": [
    "### Document-Term Matrix"
   ]
  },
  {
   "cell_type": "markdown",
   "metadata": {},
   "source": [
    "For many of the techniques we'll be using in future notebooks, the text must be tokenized, meaning broken down into smaller pieces. The most common tokenization technique is to break down text into words. We can do this using scikit-learn's CountVectorizer, where every row will represent a different document and every column will represent a different word.\n",
    "\n",
    "In addition, with CountVectorizer, we can remove stop words. Stop words are common words that add no additional meaning to text such as 'a', 'the', etc."
   ]
  },
  {
   "cell_type": "code",
   "execution_count": 48,
   "metadata": {},
   "outputs": [
    {
     "data": {
      "text/html": [
       "<div>\n",
       "<style scoped>\n",
       "    .dataframe tbody tr th:only-of-type {\n",
       "        vertical-align: middle;\n",
       "    }\n",
       "\n",
       "    .dataframe tbody tr th {\n",
       "        vertical-align: top;\n",
       "    }\n",
       "\n",
       "    .dataframe thead th {\n",
       "        text-align: right;\n",
       "    }\n",
       "</style>\n",
       "<table border=\"1\" class=\"dataframe\">\n",
       "  <thead>\n",
       "    <tr style=\"text-align: right;\">\n",
       "      <th></th>\n",
       "      <th>aaaah</th>\n",
       "      <th>aaah</th>\n",
       "      <th>aah</th>\n",
       "      <th>aand</th>\n",
       "      <th>abandon</th>\n",
       "      <th>able</th>\n",
       "      <th>ablebodied</th>\n",
       "      <th>abomination</th>\n",
       "      <th>abortion</th>\n",
       "      <th>abortions</th>\n",
       "      <th>...</th>\n",
       "      <th>youtube</th>\n",
       "      <th>youve</th>\n",
       "      <th>yuck</th>\n",
       "      <th>zeke</th>\n",
       "      <th>zero</th>\n",
       "      <th>zigzag</th>\n",
       "      <th>zigzagging</th>\n",
       "      <th>zip</th>\n",
       "      <th>zippitydoodah</th>\n",
       "      <th>zone</th>\n",
       "    </tr>\n",
       "  </thead>\n",
       "  <tbody>\n",
       "    <tr>\n",
       "      <th>age_spin</th>\n",
       "      <td>0</td>\n",
       "      <td>1</td>\n",
       "      <td>0</td>\n",
       "      <td>0</td>\n",
       "      <td>0</td>\n",
       "      <td>0</td>\n",
       "      <td>0</td>\n",
       "      <td>0</td>\n",
       "      <td>0</td>\n",
       "      <td>1</td>\n",
       "      <td>...</td>\n",
       "      <td>0</td>\n",
       "      <td>5</td>\n",
       "      <td>0</td>\n",
       "      <td>0</td>\n",
       "      <td>0</td>\n",
       "      <td>0</td>\n",
       "      <td>0</td>\n",
       "      <td>0</td>\n",
       "      <td>0</td>\n",
       "      <td>0</td>\n",
       "    </tr>\n",
       "    <tr>\n",
       "      <th>deep_texas</th>\n",
       "      <td>0</td>\n",
       "      <td>0</td>\n",
       "      <td>0</td>\n",
       "      <td>0</td>\n",
       "      <td>0</td>\n",
       "      <td>0</td>\n",
       "      <td>0</td>\n",
       "      <td>0</td>\n",
       "      <td>0</td>\n",
       "      <td>0</td>\n",
       "      <td>...</td>\n",
       "      <td>2</td>\n",
       "      <td>2</td>\n",
       "      <td>0</td>\n",
       "      <td>0</td>\n",
       "      <td>1</td>\n",
       "      <td>0</td>\n",
       "      <td>0</td>\n",
       "      <td>0</td>\n",
       "      <td>0</td>\n",
       "      <td>1</td>\n",
       "    </tr>\n",
       "    <tr>\n",
       "      <th>equanimity</th>\n",
       "      <td>0</td>\n",
       "      <td>0</td>\n",
       "      <td>0</td>\n",
       "      <td>0</td>\n",
       "      <td>0</td>\n",
       "      <td>1</td>\n",
       "      <td>0</td>\n",
       "      <td>0</td>\n",
       "      <td>0</td>\n",
       "      <td>0</td>\n",
       "      <td>...</td>\n",
       "      <td>0</td>\n",
       "      <td>1</td>\n",
       "      <td>2</td>\n",
       "      <td>1</td>\n",
       "      <td>0</td>\n",
       "      <td>0</td>\n",
       "      <td>0</td>\n",
       "      <td>0</td>\n",
       "      <td>0</td>\n",
       "      <td>0</td>\n",
       "    </tr>\n",
       "    <tr>\n",
       "      <th>killin_softly</th>\n",
       "      <td>0</td>\n",
       "      <td>0</td>\n",
       "      <td>0</td>\n",
       "      <td>0</td>\n",
       "      <td>0</td>\n",
       "      <td>1</td>\n",
       "      <td>0</td>\n",
       "      <td>0</td>\n",
       "      <td>0</td>\n",
       "      <td>0</td>\n",
       "      <td>...</td>\n",
       "      <td>0</td>\n",
       "      <td>2</td>\n",
       "      <td>0</td>\n",
       "      <td>0</td>\n",
       "      <td>0</td>\n",
       "      <td>0</td>\n",
       "      <td>1</td>\n",
       "      <td>2</td>\n",
       "      <td>1</td>\n",
       "      <td>0</td>\n",
       "    </tr>\n",
       "    <tr>\n",
       "      <th>stick_stones</th>\n",
       "      <td>1</td>\n",
       "      <td>0</td>\n",
       "      <td>2</td>\n",
       "      <td>2</td>\n",
       "      <td>1</td>\n",
       "      <td>1</td>\n",
       "      <td>1</td>\n",
       "      <td>1</td>\n",
       "      <td>1</td>\n",
       "      <td>0</td>\n",
       "      <td>...</td>\n",
       "      <td>0</td>\n",
       "      <td>2</td>\n",
       "      <td>0</td>\n",
       "      <td>0</td>\n",
       "      <td>0</td>\n",
       "      <td>1</td>\n",
       "      <td>0</td>\n",
       "      <td>0</td>\n",
       "      <td>0</td>\n",
       "      <td>0</td>\n",
       "    </tr>\n",
       "    <tr>\n",
       "      <th>the_bird_revelation</th>\n",
       "      <td>0</td>\n",
       "      <td>0</td>\n",
       "      <td>0</td>\n",
       "      <td>0</td>\n",
       "      <td>0</td>\n",
       "      <td>1</td>\n",
       "      <td>0</td>\n",
       "      <td>0</td>\n",
       "      <td>0</td>\n",
       "      <td>0</td>\n",
       "      <td>...</td>\n",
       "      <td>0</td>\n",
       "      <td>1</td>\n",
       "      <td>4</td>\n",
       "      <td>0</td>\n",
       "      <td>0</td>\n",
       "      <td>0</td>\n",
       "      <td>0</td>\n",
       "      <td>0</td>\n",
       "      <td>0</td>\n",
       "      <td>0</td>\n",
       "    </tr>\n",
       "    <tr>\n",
       "      <th>worth</th>\n",
       "      <td>0</td>\n",
       "      <td>0</td>\n",
       "      <td>0</td>\n",
       "      <td>0</td>\n",
       "      <td>0</td>\n",
       "      <td>1</td>\n",
       "      <td>0</td>\n",
       "      <td>0</td>\n",
       "      <td>0</td>\n",
       "      <td>0</td>\n",
       "      <td>...</td>\n",
       "      <td>0</td>\n",
       "      <td>2</td>\n",
       "      <td>0</td>\n",
       "      <td>0</td>\n",
       "      <td>0</td>\n",
       "      <td>0</td>\n",
       "      <td>0</td>\n",
       "      <td>0</td>\n",
       "      <td>0</td>\n",
       "      <td>0</td>\n",
       "    </tr>\n",
       "  </tbody>\n",
       "</table>\n",
       "<p>7 rows × 4451 columns</p>\n",
       "</div>"
      ],
      "text/plain": [
       "                     aaaah  aaah  aah  aand  abandon  able  ablebodied  \\\n",
       "age_spin                 0     1    0     0        0     0           0   \n",
       "deep_texas               0     0    0     0        0     0           0   \n",
       "equanimity               0     0    0     0        0     1           0   \n",
       "killin_softly            0     0    0     0        0     1           0   \n",
       "stick_stones             1     0    2     2        1     1           1   \n",
       "the_bird_revelation      0     0    0     0        0     1           0   \n",
       "worth                    0     0    0     0        0     1           0   \n",
       "\n",
       "                     abomination  abortion  abortions  ...  youtube  youve  \\\n",
       "age_spin                       0         0          1  ...        0      5   \n",
       "deep_texas                     0         0          0  ...        2      2   \n",
       "equanimity                     0         0          0  ...        0      1   \n",
       "killin_softly                  0         0          0  ...        0      2   \n",
       "stick_stones                   1         1          0  ...        0      2   \n",
       "the_bird_revelation            0         0          0  ...        0      1   \n",
       "worth                          0         0          0  ...        0      2   \n",
       "\n",
       "                     yuck  zeke  zero  zigzag  zigzagging  zip  zippitydoodah  \\\n",
       "age_spin                0     0     0       0           0    0              0   \n",
       "deep_texas              0     0     1       0           0    0              0   \n",
       "equanimity              2     1     0       0           0    0              0   \n",
       "killin_softly           0     0     0       0           1    2              1   \n",
       "stick_stones            0     0     0       1           0    0              0   \n",
       "the_bird_revelation     4     0     0       0           0    0              0   \n",
       "worth                   0     0     0       0           0    0              0   \n",
       "\n",
       "                     zone  \n",
       "age_spin                0  \n",
       "deep_texas              1  \n",
       "equanimity              0  \n",
       "killin_softly           0  \n",
       "stick_stones            0  \n",
       "the_bird_revelation     0  \n",
       "worth                   0  \n",
       "\n",
       "[7 rows x 4451 columns]"
      ]
     },
     "execution_count": 48,
     "metadata": {},
     "output_type": "execute_result"
    },
    {
     "data": {
      "application/javascript": [
       "\n",
       "            setTimeout(function() {\n",
       "                var nbb_cell_id = 48;\n",
       "                var nbb_unformatted_code = \"# We are going to create a document-term matrix using CountVectorizer, and exclude common English stop words\\nfrom sklearn.feature_extraction.text import CountVectorizer\\n\\ncv = CountVectorizer(stop_words=\\\"english\\\")\\ndata_cv = cv.fit_transform(data_clean.transcript)\\ndata_dtm = pd.DataFrame(data_cv.toarray(), columns=cv.get_feature_names())\\ndata_dtm.index = data_clean.index\\ndata_dtm\";\n",
       "                var nbb_formatted_code = \"# We are going to create a document-term matrix using CountVectorizer, and exclude common English stop words\\nfrom sklearn.feature_extraction.text import CountVectorizer\\n\\ncv = CountVectorizer(stop_words=\\\"english\\\")\\ndata_cv = cv.fit_transform(data_clean.transcript)\\ndata_dtm = pd.DataFrame(data_cv.toarray(), columns=cv.get_feature_names())\\ndata_dtm.index = data_clean.index\\ndata_dtm\";\n",
       "                var nbb_cells = Jupyter.notebook.get_cells();\n",
       "                for (var i = 0; i < nbb_cells.length; ++i) {\n",
       "                    if (nbb_cells[i].input_prompt_number == nbb_cell_id) {\n",
       "                        if (nbb_cells[i].get_text() == nbb_unformatted_code) {\n",
       "                             nbb_cells[i].set_text(nbb_formatted_code);\n",
       "                        }\n",
       "                        break;\n",
       "                    }\n",
       "                }\n",
       "            }, 500);\n",
       "            "
      ],
      "text/plain": [
       "<IPython.core.display.Javascript object>"
      ]
     },
     "metadata": {},
     "output_type": "display_data"
    }
   ],
   "source": [
    "# We are going to create a document-term matrix using CountVectorizer, and exclude common English stop words\n",
    "from sklearn.feature_extraction.text import CountVectorizer\n",
    "\n",
    "cv = CountVectorizer(stop_words=\"english\")\n",
    "data_cv = cv.fit_transform(data_clean.transcript)\n",
    "data_dtm = pd.DataFrame(data_cv.toarray(), columns=cv.get_feature_names())\n",
    "data_dtm.index = data_clean.index\n",
    "data_dtm"
   ]
  },
  {
   "cell_type": "code",
   "execution_count": 49,
   "metadata": {},
   "outputs": [
    {
     "data": {
      "application/javascript": [
       "\n",
       "            setTimeout(function() {\n",
       "                var nbb_cell_id = 49;\n",
       "                var nbb_unformatted_code = \"# Let's pickle it for later use\\ndata_dtm.to_pickle(\\\"dtm.pkl\\\")\";\n",
       "                var nbb_formatted_code = \"# Let's pickle it for later use\\ndata_dtm.to_pickle(\\\"dtm.pkl\\\")\";\n",
       "                var nbb_cells = Jupyter.notebook.get_cells();\n",
       "                for (var i = 0; i < nbb_cells.length; ++i) {\n",
       "                    if (nbb_cells[i].input_prompt_number == nbb_cell_id) {\n",
       "                        if (nbb_cells[i].get_text() == nbb_unformatted_code) {\n",
       "                             nbb_cells[i].set_text(nbb_formatted_code);\n",
       "                        }\n",
       "                        break;\n",
       "                    }\n",
       "                }\n",
       "            }, 500);\n",
       "            "
      ],
      "text/plain": [
       "<IPython.core.display.Javascript object>"
      ]
     },
     "metadata": {},
     "output_type": "display_data"
    }
   ],
   "source": [
    "# Let's pickle it for later use\n",
    "data_dtm.to_pickle(\"dtm.pkl\")"
   ]
  },
  {
   "cell_type": "code",
   "execution_count": 50,
   "metadata": {},
   "outputs": [
    {
     "data": {
      "application/javascript": [
       "\n",
       "            setTimeout(function() {\n",
       "                var nbb_cell_id = 50;\n",
       "                var nbb_unformatted_code = \"# Let's also pickle the cleaned data (before we put it in document-term matrix format) and the CountVectorizer object\\ndata_clean.to_pickle(\\\"data_clean.pkl\\\")\\npickle.dump(cv, open(\\\"cv.pkl\\\", \\\"wb\\\"))\";\n",
       "                var nbb_formatted_code = \"# Let's also pickle the cleaned data (before we put it in document-term matrix format) and the CountVectorizer object\\ndata_clean.to_pickle(\\\"data_clean.pkl\\\")\\npickle.dump(cv, open(\\\"cv.pkl\\\", \\\"wb\\\"))\";\n",
       "                var nbb_cells = Jupyter.notebook.get_cells();\n",
       "                for (var i = 0; i < nbb_cells.length; ++i) {\n",
       "                    if (nbb_cells[i].input_prompt_number == nbb_cell_id) {\n",
       "                        if (nbb_cells[i].get_text() == nbb_unformatted_code) {\n",
       "                             nbb_cells[i].set_text(nbb_formatted_code);\n",
       "                        }\n",
       "                        break;\n",
       "                    }\n",
       "                }\n",
       "            }, 500);\n",
       "            "
      ],
      "text/plain": [
       "<IPython.core.display.Javascript object>"
      ]
     },
     "metadata": {},
     "output_type": "display_data"
    }
   ],
   "source": [
    "# Let's also pickle the cleaned data (before we put it in document-term matrix format) and the CountVectorizer object\n",
    "data_clean.to_pickle(\"data_clean.pkl\")\n",
    "pickle.dump(cv, open(\"cv.pkl\", \"wb\"))"
   ]
  },
  {
   "cell_type": "code",
   "execution_count": null,
   "metadata": {},
   "outputs": [],
   "source": []
  }
 ],
 "metadata": {
  "kernelspec": {
   "display_name": "Python 3",
   "language": "python",
   "name": "python3"
  },
  "language_info": {
   "codemirror_mode": {
    "name": "ipython",
    "version": 3
   },
   "file_extension": ".py",
   "mimetype": "text/x-python",
   "name": "python",
   "nbconvert_exporter": "python",
   "pygments_lexer": "ipython3",
   "version": "3.7.1"
  },
  "toc": {
   "base_numbering": 1,
   "nav_menu": {},
   "number_sections": true,
   "sideBar": true,
   "skip_h1_title": false,
   "title_cell": "Table of Contents",
   "title_sidebar": "Contents",
   "toc_cell": false,
   "toc_position": {},
   "toc_section_display": "block",
   "toc_window_display": false
  },
  "varInspector": {
   "cols": {
    "lenName": 16,
    "lenType": 16,
    "lenVar": 40
   },
   "kernels_config": {
    "python": {
     "delete_cmd_postfix": "",
     "delete_cmd_prefix": "del ",
     "library": "var_list.py",
     "varRefreshCmd": "print(var_dic_list())"
    },
    "r": {
     "delete_cmd_postfix": ") ",
     "delete_cmd_prefix": "rm(",
     "library": "var_list.r",
     "varRefreshCmd": "cat(var_dic_list()) "
    }
   },
   "types_to_exclude": [
    "module",
    "function",
    "builtin_function_or_method",
    "instance",
    "_Feature"
   ],
   "window_display": false
  }
 },
 "nbformat": 4,
 "nbformat_minor": 2
}
